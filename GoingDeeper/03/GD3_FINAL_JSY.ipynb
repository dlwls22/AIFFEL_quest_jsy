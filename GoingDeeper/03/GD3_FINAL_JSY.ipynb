{
 "cells": [
  {
   "cell_type": "markdown",
   "id": "42a66ebc",
   "metadata": {},
   "source": [
    "# 노드 예제"
   ]
  },
  {
   "cell_type": "code",
   "execution_count": 1,
   "id": "46362540",
   "metadata": {},
   "outputs": [
    {
     "name": "stdout",
     "output_type": "stream",
     "text": [
      "슝~\n"
     ]
    }
   ],
   "source": [
    "import numpy as np\n",
    "from numpy import dot\n",
    "from numpy.linalg import norm\n",
    "\n",
    "print(\"슝~\")"
   ]
  },
  {
   "cell_type": "code",
   "execution_count": 2,
   "id": "cf948c90",
   "metadata": {},
   "outputs": [
    {
     "name": "stdout",
     "output_type": "stream",
     "text": [
      "슝~\n"
     ]
    }
   ],
   "source": [
    "target_X = {\n",
    "    '장미': [4.1, 1.2, -2.4, 0.5, 4.1],\n",
    "    '튤립': [3.1, 0.5, 3.6, 1.7, 5.8],\n",
    "    '백합': [2.9, -1.3, 0.4, 1.1, 3.7],\n",
    "    '데이지': [5.4, 2.5, 4.6, -1.0, 3.6]\n",
    "}\n",
    "target_Y = {\n",
    "    '거미': [-1.5, 0.2, -0.6, -4.6, -5.3],\n",
    "    '모기': [0.4, 0.7, -1.9, -4.5, -2.9],\n",
    "    '파리': [0.9, 1.4, -2.3, -3.9, -4.7],\n",
    "    '메뚜기': [0.7, 0.9, -0.4, -4.1, -3.9]\n",
    "}\n",
    "attribute_A = {\n",
    "    '사랑':[2.8,  4.2, 4.3,  0.3, 5.0],\n",
    "    '행복':[3.8,  3. , -1.2,  4.4, 4.9],\n",
    "    '웃음':[3.7, -0.3,  1.2, -2.5, 3.9]\n",
    "}\n",
    "attribute_B = {\n",
    "    '재난': [-0.2, -2.8, -4.7, -4.3, -4.7],\n",
    "    '고통': [-4.5, -2.1,  -3.8, -3.6, -3.1],\n",
    "    '증오': [-3.6, -3.3, -3.5,  -3.7, -4.4]\n",
    "}\n",
    "\n",
    "print(\"슝~\")"
   ]
  },
  {
   "cell_type": "code",
   "execution_count": 3,
   "id": "53b09cd0",
   "metadata": {},
   "outputs": [
    {
     "name": "stdout",
     "output_type": "stream",
     "text": [
      "[[ 4.1  1.2 -2.4  0.5  4.1]\n",
      " [ 3.1  0.5  3.6  1.7  5.8]\n",
      " [ 2.9 -1.3  0.4  1.1  3.7]\n",
      " [ 5.4  2.5  4.6 -1.   3.6]]\n",
      "[[-1.5  0.2 -0.6 -4.6 -5.3]\n",
      " [ 0.4  0.7 -1.9 -4.5 -2.9]\n",
      " [ 0.9  1.4 -2.3 -3.9 -4.7]\n",
      " [ 0.7  0.9 -0.4 -4.1 -3.9]]\n"
     ]
    }
   ],
   "source": [
    "X = np.array([v for v in target_X.values()])\n",
    "Y = np.array([v for v in target_Y.values()])\n",
    "print(X)\n",
    "print(Y)"
   ]
  },
  {
   "cell_type": "code",
   "execution_count": 4,
   "id": "5cb011ee",
   "metadata": {},
   "outputs": [
    {
     "name": "stdout",
     "output_type": "stream",
     "text": [
      "[[ 2.8  4.2  4.3  0.3  5. ]\n",
      " [ 3.8  3.  -1.2  4.4  4.9]\n",
      " [ 3.7 -0.3  1.2 -2.5  3.9]]\n",
      "[[-0.2 -2.8 -4.7 -4.3 -4.7]\n",
      " [-4.5 -2.1 -3.8 -3.6 -3.1]\n",
      " [-3.6 -3.3 -3.5 -3.7 -4.4]]\n"
     ]
    }
   ],
   "source": [
    "A = np.array([v for v in attribute_A.values()])\n",
    "B = np.array([v for v in attribute_B.values()])\n",
    "print(A)\n",
    "print(B)"
   ]
  },
  {
   "cell_type": "code",
   "execution_count": 5,
   "id": "5a65e335",
   "metadata": {},
   "outputs": [
    {
     "name": "stdout",
     "output_type": "stream",
     "text": [
      "0.6457646122337399\n"
     ]
    }
   ],
   "source": [
    "def cos_sim(i, j):\n",
    "    return dot(i, j.T)/(norm(i)*norm(j))\n",
    "\n",
    "def s(w, A, B):\n",
    "    c_a = cos_sim(w, A)\n",
    "    c_b = cos_sim(w, B)\n",
    "    mean_A = np.mean(c_a, axis=-1)\n",
    "    mean_B = np.mean(c_b, axis=-1)\n",
    "    return mean_A - mean_B #, c_a, c_b\n",
    "\n",
    "print(s(target_X['장미'], A, B))"
   ]
  },
  {
   "cell_type": "code",
   "execution_count": 6,
   "id": "654bffb3",
   "metadata": {},
   "outputs": [
    {
     "name": "stdout",
     "output_type": "stream",
     "text": [
      "-0.794002342033094\n"
     ]
    }
   ],
   "source": [
    "print(s(target_Y['거미'], A, B))"
   ]
  },
  {
   "cell_type": "code",
   "execution_count": 7,
   "id": "71afc6aa",
   "metadata": {},
   "outputs": [
    {
     "name": "stdout",
     "output_type": "stream",
     "text": [
      "[0.29551989 0.51723181 0.26499096 0.50924109]\n",
      "0.397\n"
     ]
    }
   ],
   "source": [
    "print(s(X, A, B))\n",
    "print(round(np.mean(s(X, A, B)), 3))"
   ]
  },
  {
   "cell_type": "code",
   "execution_count": 8,
   "id": "6f5096e2",
   "metadata": {},
   "outputs": [
    {
     "name": "stdout",
     "output_type": "stream",
     "text": [
      "[-0.44713039 -0.28310853 -0.33144878 -0.26030641]\n",
      "-0.33\n"
     ]
    }
   ],
   "source": [
    "print(s(Y, A, B))\n",
    "print(round(np.mean(s(Y, A, B)), 3))"
   ]
  },
  {
   "cell_type": "code",
   "execution_count": 9,
   "id": "aba33901",
   "metadata": {},
   "outputs": [
    {
     "name": "stdout",
     "output_type": "stream",
     "text": [
      "1.932\n"
     ]
    }
   ],
   "source": [
    "def weat_score(X, Y, A, B):\n",
    "    \n",
    "    s_X = s(X, A, B)\n",
    "    s_Y = s(Y, A, B)\n",
    "\n",
    "    mean_X = np.mean(s_X)\n",
    "    mean_Y = np.mean(s_Y)\n",
    "    \n",
    "    std_dev = np.std(np.concatenate([s_X, s_Y], axis=0))\n",
    "    \n",
    "    return  (mean_X-mean_Y)/std_dev\n",
    "\n",
    "print(round(weat_score(X, Y, A, B), 3))"
   ]
  },
  {
   "cell_type": "code",
   "execution_count": 10,
   "id": "869c23ae",
   "metadata": {},
   "outputs": [
    {
     "name": "stderr",
     "output_type": "stream",
     "text": [
      "Matplotlib is building the font cache; this may take a moment.\n"
     ]
    },
    {
     "data": {
      "text/plain": [
       "<matplotlib.collections.PathCollection at 0x7cd5385429d0>"
      ]
     },
     "execution_count": 10,
     "metadata": {},
     "output_type": "execute_result"
    },
    {
     "data": {
      "image/png": "[encoded data removed]",
      "text/plain": [
       "<Figure size 432x288 with 1 Axes>"
      ]
     },
     "metadata": {
      "needs_background": "light"
     },
     "output_type": "display_data"
    }
   ],
   "source": [
    "from sklearn.decomposition import PCA\n",
    "pca = PCA(n_components=2)\n",
    "pc_A = pca.fit_transform(A)\n",
    "pc_B = pca.fit_transform(B)\n",
    "pc_X = pca.fit_transform(X)\n",
    "pc_Y = pca.fit_transform(Y)\n",
    "\n",
    "import matplotlib.pyplot as plt\n",
    "fig, ax = plt.subplots()\n",
    "ax.scatter(pc_A[:,0],pc_A[:,1], c='blue', label='A')\n",
    "ax.scatter(pc_B[:,0],pc_B[:,1], c='red', label='B')\n",
    "ax.scatter(pc_X[:,0],pc_X[:,1], c='skyblue', label='X')\n",
    "ax.scatter(pc_Y[:,0],pc_Y[:,1], c='pink', label='Y')"
   ]
  },
  {
   "cell_type": "code",
   "execution_count": 11,
   "id": "707c263c",
   "metadata": {},
   "outputs": [],
   "source": [
    "import os\n",
    "\n",
    "data_dir = '~/aiffel/weat' \n",
    "model_dir = os.path.join(data_dir, 'GoogleNews-vectors-negative300.bin')\n",
    "\n",
    "from gensim.models import KeyedVectors\n",
    "\n",
    "# 50만개의 단어만 활용합니다. 메모리가 충분하다면 limit 파라미터값을 생략하여 300만개를 모두 활용할 수 있습니다. \n",
    "w2v = KeyedVectors.load_word2vec_format(model_dir, binary=True, limit=500000)"
   ]
  },
  {
   "cell_type": "code",
   "execution_count": 12,
   "id": "bf0aaa76",
   "metadata": {},
   "outputs": [
    {
     "data": {
      "text/plain": [
       "<gensim.models.keyedvectors.KeyedVectors at 0x7cd5385018e0>"
      ]
     },
     "execution_count": 12,
     "metadata": {},
     "output_type": "execute_result"
    }
   ],
   "source": [
    "w2v"
   ]
  },
  {
   "cell_type": "code",
   "execution_count": 13,
   "id": "9422769f",
   "metadata": {},
   "outputs": [
    {
     "name": "stdout",
     "output_type": "stream",
     "text": [
      "500000\n",
      "300\n",
      "(500000, 300)\n"
     ]
    }
   ],
   "source": [
    "# print(len(w2v.vocab))   # Gensim 3.X 버전까지는 w2v.vocab을 직접 접근할 수 있습니다. \n",
    "print(len(w2v.index_to_key))   # Gensim 4.0부터는 index_to_key를 활용해 vocab size를 알 수 있습니다. \n",
    "print(len(w2v['I']))                    # 혹은 단어를 key로 직접 vector를 얻을 수 있습니다. \n",
    "print(w2v.vectors.shape)"
   ]
  },
  {
   "cell_type": "code",
   "execution_count": 14,
   "id": "3952bdfd",
   "metadata": {},
   "outputs": [
    {
     "data": {
      "text/plain": [
       "1.2624874"
      ]
     },
     "execution_count": 14,
     "metadata": {},
     "output_type": "execute_result"
    }
   ],
   "source": [
    "target_X = ['science', 'technology', 'physics', 'chemistry', 'Einstein', 'NASA', 'experiment', 'astronomy']\n",
    "target_Y = ['poetry', 'art', 'Shakespeare', 'dance', 'literature', 'novel', 'symphony', 'drama']\n",
    "attribute_A = ['brother', 'father', 'uncle', 'grandfather', 'son', 'he', 'his', 'him']\n",
    "attribute_B = ['sister', 'mother', 'aunt', 'grandmother', 'daughter', 'she', 'hers', 'her']\n",
    "\n",
    "X = np.array([w2v[word] for word in target_X])\n",
    "Y = np.array([w2v[word] for word in target_Y])\n",
    "A = np.array([w2v[word] for word in attribute_A])\n",
    "B = np.array([w2v[word] for word in attribute_B])\n",
    "\n",
    "weat_score(X, Y, A, B)"
   ]
  },
  {
   "cell_type": "code",
   "execution_count": 15,
   "id": "fee4ba92",
   "metadata": {},
   "outputs": [
    {
     "data": {
      "text/plain": [
       "1.8924209"
      ]
     },
     "execution_count": 15,
     "metadata": {},
     "output_type": "execute_result"
    }
   ],
   "source": [
    "\n",
    "\n",
    "import numpy as np\n",
    "\n",
    "# target_X에 월, 화, 수, 목, 금, 평일 관련 단어들\n",
    "target_X = ['Monday', 'Tuesday', 'Wednesday', 'Thursday']\n",
    "\n",
    "# target_Y에 토, 일, 주말, 휴일 관련 단어들\n",
    "target_Y = ['Saturday', 'Sunday', 'weekend', 'holiday']\n",
    "\n",
    "# attribute_A에 일, 회사, 공부 관련 단어들\n",
    "attribute_A = ['work', 'company', 'study', 'job']\n",
    "\n",
    "# attribute_B에 놀기, 데이트, 휴식, 운동 관련 단어들\n",
    "attribute_B = ['play', 'date', 'exercise', 'relaxation']\n",
    "\n",
    "# 벡터화\n",
    "X = np.array([w2v[word] for word in target_X])\n",
    "Y = np.array([w2v[word] for word in target_Y])\n",
    "A = np.array([w2v[word] for word in attribute_A])\n",
    "B = np.array([w2v[word] for word in attribute_B])\n",
    "\n",
    "# 예시로 제공된 weat_score 함수를 실행\n",
    "weat_score(X, Y, A, B)\n"
   ]
  },
  {
   "cell_type": "code",
   "execution_count": 16,
   "id": "9cc2aefa",
   "metadata": {},
   "outputs": [
    {
     "name": "stdout",
     "output_type": "stream",
     "text": [
      "삭제 완료\n"
     ]
    }
   ],
   "source": [
    "#메모리를 다시 비워줍시다.\n",
    "del w2v\n",
    "print(\"삭제 완료\")"
   ]
  },
  {
   "cell_type": "markdown",
   "id": "1df3bae6",
   "metadata": {},
   "source": [
    "## 직접 만드는 Word Embedding에 WEAT 적용(1)"
   ]
  },
  {
   "cell_type": "markdown",
   "id": "fc9ebc79",
   "metadata": {},
   "source": [
    "### STEP 1. 형태소 분석기를 이용하여 품사가 명사인 경우 해당 단어를 추출하기"
   ]
  },
  {
   "cell_type": "code",
   "execution_count": 17,
   "id": "598303b2",
   "metadata": {},
   "outputs": [
    {
     "name": "stdout",
     "output_type": "stream",
     "text": [
      "사운드 엔지니어 상우(유지태 분)는 치매에 걸린 할머니(백성희 분)와\n",
      " 젊은 시절 상처한 한 아버지(박인환 분), 고모(신신애 분)와 함께 살고 있다.\n",
      " 어느 겨울 그는 지방 방송국 라디오 PD 은수(이영애 분)를 만난다.\n",
      " 자연의 소리를 채집해 틀어주는 라디오 프로그램을 준비하는 은수는 상우와 녹음 여행을 떠난다.\n",
      " 자연스레 가까워지는 두 사람은 어느 날, 은수의 아파트에서 밤을 보낸다.\n",
      " 너무 쉽게 사랑에 빠진 두 사람... 상우는 주체할 수 없을 정도로 그녀에게 빨려든다.\n",
      " 그러나 겨울에 만난 두 사람의 관계는 봄을 지나 여름을 맞이하면서 삐걱거린다.\n",
      " 이혼 경험이 있는 은수는 상우에게 결혼할 생각이 없다며 부담스러운 표정을 내비친다.\n",
      " \"어떻게 사랑이 변하니?...\"라고 묻는 상우에게 은수는 그저 \"헤어져\" 라고 단호하게 말한다.\n",
      " 영원히 변할 것 같지 않던 사랑이 변하고, 그 사실을 받아들이지 못하는 상우는 어찌 할 바를 모른다.\n",
      " 은수를 잊지 못하는 상우는 미련과 집착의 감정을 이기지 못하고 서울과 강릉을 오간다.\n",
      "유사 이래 연령, 성별, 빈부의 차이와 정치적인 입장을 불문하고 일거에 국민을 통합해 온 '애국심'이라는 성역에 일침을 가하는 다큐멘터리. 재작년 전국 민족민주 유가족협의회의 장기농성을 다룬 인상적인 다큐멘터리 <민들레>를 만들었던 독립영화집단 '빨간 눈사람'이 우리 사회 구석구석을 발빠르게 돌아다니며 애국심과 민족주의가 강요되는 현장을 발굴하여 카메라에 담았다. 박홍 서강대 명예총장, 이도형 '한국논단' 발행인, 축구해설자 신문선, 홍세화, 박노해 등 사회 각계의 '스타'들이 등장해 저마다의 확고한 신념을 성토한다. 감독 이경순과 최하동하는 이 작품을 위해 3년간 백여 명을 인터뷰했다고 한다. 2001 올해의 독립영화상 수상.\n",
      " 민족과 국가란 공동체에서 부단히 권력과 부를 얻는 자, 나아가 민족과 국가란 공동체에서 얻은 신분과 부귀를 영원히 그의 자손에게 대물림하려는 자, 그래서 민족과 국가란 공동체를 부단히 유지해야만 하는 자, 따라서 민족과 국가란 공동체의 당위성과 개인의 가치를 초월하는 그 존엄성을 끝도 없이 창조하고 되뇌어야 하는 자, 종국에는 민족과 국가란 공동체에 속해 있다고 태내에서부터 세뇌된 모든 이들의 삶과 행동에서 영원히 자기복제되는 순환의 고리, 영생하는 애국의 원동력은 그 순환의 골에서 온다.\n",
      "엽기적인 살인사건이 발생한 장소를 관광하는 투어팀. 그 팀에서 관광객들은 살인사건과 관련하여 히스테리컬한 반응을 보이는데 과연 이들의 정체는? (Tourists see whrer a murder take place. They respond hysterically to the murder…what are they?)\n",
      " 제46회 발라돌리드 국제영화제 (2001, 스페인)\n",
      "착하지만 엉뚱한 태희(배두나 분), 예쁜 깍쟁이 혜주(이요원 분), 그림을 잘 그리는 지영(옥지영 분), 명랑한 쌍둥이 비류(이은실 분)와 온조(이은주 분)는 단짝친구들. 늘 함께였던 그들이지만 스무 살이 되면서 길이 달라진다. 증권회사에 입사한 혜주는 성공한 커리어우먼의 야심을 키우고 미술에 재능이 있는 지영은 유학을 꿈꾼다. 한편 태희는 봉사활동에서 알게 된 뇌성마비 시인을 좋아하는데...\n",
      "  어느 날 지영이 길 잃은 새끼 고양이 티티를 만남면서 스무 살 그녀들의 삶에 고양이 한 마리가 끼어들게 된다. 혼자 있길 좋아하고, 쉽게 마음을 열지 않는 신비로운 동물 고양이. 고양이를 닮은 스무 살 그녀들. 고양이 티티와 함께 한 시간동안 삶은 예상못한 방향으로 흘러가지만 마침내 그녀들만의 해결책을 찾게 되는데... 사랑스런 몽상가 태희, 아름다운 야심가 혜주, 신비로운 아웃사이더 지영. 마지막으로 고양이를 부탁받은 사람은 누구일까?\n",
      "인도 등 아시아 식민지에 처음 발을 디딘 뒤 여행하고 “경영”한 이들은 과연 누구였을까? 과거의 이미지들은, 이민과 인종 문제, ‘오리엔탈리즘’이 격렬히 충돌하고 있는 현재와 강력하게 공명한다.\n",
      " [제19회 인디다큐페스티발]\n",
      "홀로 살아가는 미국 할머니와 한국 할머니의 이야기. 공원에서 가끔 마주치게 되는 그들은 비록 언어 소통의 어려움을 겪지만 시간이 흘러감에 따라 서로 가까워져 그들의 외로움과 우정을 공유하게 된다. 겨울이 지나고 봄이 왔을 때 길가의 민들레 홀씨는 삶의 이치를 말해주듯 한 할머니의 주위를 맴돈다. (Two elderly widows, an American and a Korean, frequent the same park in Philadelphia and attempt a friendship, though the Korean widow speaks no English. Driven by loneliness and a spark of hope, they persevere within the limits of body language, and the outcome poses a question of life as fundamental as a flower.)\n"
     ]
    }
   ],
   "source": [
    "import os\n",
    "\n",
    "with open(os.getenv('HOME')+'/aiffel/weat/synopsis.txt', 'r') as file:\n",
    "    for i in range(20):\n",
    "        print(file.readline(), end='')"
   ]
  },
  {
   "cell_type": "code",
   "execution_count": null,
   "id": "5b4b77f2",
   "metadata": {},
   "outputs": [],
   "source": [
    "# pip install konlpy"
   ]
  },
  {
   "cell_type": "code",
   "execution_count": 18,
   "id": "1fa26b86",
   "metadata": {},
   "outputs": [
    {
     "name": "stdout",
     "output_type": "stream",
     "text": [
      "슝~\n"
     ]
    }
   ],
   "source": [
    "# 약 15분정도 걸립니다.\n",
    "from konlpy.tag import Okt\n",
    "okt = Okt()\n",
    "tokenized = []\n",
    "with open(os.getenv('HOME')+'/aiffel/weat/synopsis.txt', 'r') as file:\n",
    "    while True:\n",
    "        line = file.readline()\n",
    "        if not line: break\n",
    "        words = okt.pos(line, stem=True, norm=True)\n",
    "        res = []\n",
    "        for w in words:\n",
    "            if w[1] in [\"Noun\"]:      # \"Adjective\", \"Verb\" 등을 포함할 수도 있습니다.\n",
    "                res.append(w[0])    # 명사일 때만 tokenized 에 저장하게 됩니다. \n",
    "        tokenized.append(res)\n",
    "\n",
    "print(\"슝~\")"
   ]
  },
  {
   "cell_type": "code",
   "execution_count": 19,
   "id": "ed5a97f7",
   "metadata": {},
   "outputs": [
    {
     "name": "stdout",
     "output_type": "stream",
     "text": [
      "71156\n"
     ]
    }
   ],
   "source": [
    "print(len(tokenized))"
   ]
  },
  {
   "cell_type": "code",
   "execution_count": 20,
   "id": "624c9ca5",
   "metadata": {},
   "outputs": [
    {
     "data": {
      "text/plain": [
       "[('작품', 0.880513608455658),\n",
       " ('다큐멘터리', 0.8567180633544922),\n",
       " ('드라마', 0.8262733221054077),\n",
       " ('영화로', 0.8044133186340332),\n",
       " ('주제', 0.7930216789245605),\n",
       " ('형식', 0.7911615967750549),\n",
       " ('실화', 0.7894465923309326),\n",
       " ('코미디', 0.781643807888031),\n",
       " ('감동', 0.7682205438613892),\n",
       " ('소재', 0.7659743428230286)]"
      ]
     },
     "execution_count": 20,
     "metadata": {},
     "output_type": "execute_result"
    }
   ],
   "source": [
    "from gensim.models import Word2Vec\n",
    "\n",
    "# tokenized에 담긴 데이터를 가지고 나만의 Word2Vec을 생성합니다. (Gensim 4.0 기준)\n",
    "model = Word2Vec(tokenized, vector_size=100, window=5, min_count=3, sg=0)  \n",
    "model.wv.most_similar(positive=['영화'])\n",
    "\n",
    "# Gensim 3.X 에서는 아래와 같이 생성합니다. \n",
    "# model = Word2Vec(tokenized, size=100, window=5, min_count=3, sg=0)  \n",
    "# model.most_similar(positive=['영화'])"
   ]
  },
  {
   "cell_type": "code",
   "execution_count": 21,
   "id": "b3230adf",
   "metadata": {},
   "outputs": [
    {
     "data": {
      "text/plain": [
       "[('행복', 0.7184658050537109),\n",
       " ('아르튬', 0.7035961747169495),\n",
       " ('셰카르', 0.690434992313385),\n",
       " ('연애', 0.6891956329345703),\n",
       " ('만남', 0.6870867609977722),\n",
       " ('진심', 0.6854628920555115),\n",
       " ('존경심', 0.6840496063232422),\n",
       " ('운명', 0.6801427006721497),\n",
       " ('첫사랑', 0.6763916015625),\n",
       " ('이별', 0.6754762530326843)]"
      ]
     },
     "execution_count": 21,
     "metadata": {},
     "output_type": "execute_result"
    }
   ],
   "source": [
    "model.wv.most_similar(positive=['사랑'])"
   ]
  },
  {
   "cell_type": "code",
   "execution_count": 22,
   "id": "16ae4e9f",
   "metadata": {},
   "outputs": [
    {
     "name": "stdout",
     "output_type": "stream",
     "text": [
      "슝~\n"
     ]
    }
   ],
   "source": [
    "import os\n",
    "from sklearn.feature_extraction.text import TfidfVectorizer\n",
    "import numpy as np\n",
    "from konlpy.tag import Okt\n",
    "\n",
    "art_txt = 'synopsis_art.txt'\n",
    "gen_txt = 'synopsis_gen.txt'\n",
    "\n",
    "def read_token(file_name):\n",
    "    okt = Okt()\n",
    "    result = []\n",
    "    with open(os.getenv('HOME')+'/aiffel/weat/'+file_name, 'r') as fread: \n",
    "        print(file_name, '파일을 읽고 있습니다.')\n",
    "        while True:\n",
    "            line = fread.readline() \n",
    "            if not line: break \n",
    "            tokenlist = okt.pos(line, stem=True, norm=True) \n",
    "            for word in tokenlist:\n",
    "                if word[1] in [\"Noun\"]:#, \"Adjective\", \"Verb\"]:\n",
    "                    result.append((word[0])) \n",
    "    return ' '.join(result)\n",
    "\n",
    "print(\"슝~\")"
   ]
  },
  {
   "cell_type": "code",
   "execution_count": 23,
   "id": "210fd7a4",
   "metadata": {},
   "outputs": [
    {
     "name": "stdout",
     "output_type": "stream",
     "text": [
      "synopsis_art.txt 파일을 읽고 있습니다.\n",
      "synopsis_gen.txt 파일을 읽고 있습니다.\n"
     ]
    }
   ],
   "source": [
    "# 2개의 파일을 처리하는데 10분 가량 걸립니다. \n",
    "art = read_token(art_txt)\n",
    "gen = read_token(gen_txt)"
   ]
  },
  {
   "cell_type": "code",
   "execution_count": 24,
   "id": "45aa5bcf",
   "metadata": {},
   "outputs": [
    {
     "name": "stdout",
     "output_type": "stream",
     "text": [
      "(2, 41082)\n"
     ]
    }
   ],
   "source": [
    "vectorizer = TfidfVectorizer()\n",
    "X = vectorizer.fit_transform([art, gen])\n",
    "\n",
    "print(X.shape)"
   ]
  },
  {
   "cell_type": "code",
   "execution_count": 25,
   "id": "965ed224",
   "metadata": {},
   "outputs": [
    {
     "name": "stdout",
     "output_type": "stream",
     "text": [
      "23976\n",
      "영화\n"
     ]
    },
    {
     "name": "stderr",
     "output_type": "stream",
     "text": [
      "/opt/conda/lib/python3.9/site-packages/sklearn/utils/deprecation.py:87: FutureWarning: Function get_feature_names is deprecated; get_feature_names is deprecated in 1.0 and will be removed in 1.2. Please use get_feature_names_out instead.\n",
      "  warnings.warn(msg, category=FutureWarning)\n"
     ]
    }
   ],
   "source": [
    "print(vectorizer.vocabulary_['영화'])\n",
    "print(vectorizer.get_feature_names()[23976])"
   ]
  },
  {
   "cell_type": "markdown",
   "id": "af6dd5c0",
   "metadata": {},
   "source": [
    "# 실험1. TF-IDF 말고 다른 방법 찾아보기"
   ]
  },
  {
   "cell_type": "markdown",
   "id": "6f6b373f",
   "metadata": {},
   "source": [
    "1. Word2Vec 유사도 분석: 의미적 유사성을 이용해 대표 단어 추출.\n",
    "2. 공동 출현 행렬: 단어의 공동 출현 빈도를 기반으로 대표 단어 추출.\n",
    "3. LDA 주제 모델링: 주제에 따른 대표 단어를 추출.\n",
    "4. Chi-Square 검정: 통계적 검정을 통해 카테고리별로 중요한 단어 추출.\n",
    "5. WordNet: 의미 관계를 이용해 유사하거나 관련된 단어 추출."
   ]
  },
  {
   "cell_type": "code",
   "execution_count": 26,
   "id": "156b6fdc",
   "metadata": {},
   "outputs": [
    {
     "name": "stdout",
     "output_type": "stream",
     "text": [
      "예술영화를 대표하는 단어들:\n",
      "그녀, 자신, 시작, 위해, 사랑, 사람, 영화, 친구, 남자, 가족, 이야기, 마을, 사건, 마음, 세상, 아버지, 아이, 엄마, 모든, 여자, 대한, 서로, 과연, 다시, 시간, 아들, 소녀, 아내, 다른, 사이, 영화제, 세계, 사실, 하나, 점점, 남편, 감독, 여행, 인생, 발견, 모두, 순간, 우리, 가장, 마지막, 생활, 아빠, 모습, 통해, 죽음, 기억, 비밀, 학교, 음악, 한편, 소년, 생각, 도시, 명의, 사고, 결혼, 전쟁, 때문, 위기, 이제, 최고, 이자, 과거, 일상, 경찰, 상황, 간다, 미국, 결심, 운명, 현실, 관계, 지금, 단편, 여인, 하루, 이름, 이후, 준비, 인간, 감정, 만난, 국제, 처음, 충격, 살인, 누구, 동안, 존재, 그린, 어머니, 연인, 계속, 동생, 작품, \n",
      "\n",
      "일반영화를 대표하는 단어들:\n",
      "자신, 그녀, 영화제, 위해, 사람, 시작, 국제, 영화, 친구, 사랑, 남자, 이야기, 대한, 서울, 여자, 사건, 남편, 아이, 가족, 아버지, 다른, 마을, 시간, 엄마, 아들, 모든, 단편, 마음, 사실, 다시, 세계, 모습, 작품, 통해, 생각, 서로, 세상, 발견, 감독, 아내, 관계, 소녀, 사이, 하나, 우리, 애니메이션, 때문, 여성, 죽음, 과연, 점점, 인간, 생활, 한편, 결혼, 상황, 모두, 기억, 명의, 소년, 여행, 가장, 간다, 순간, 이제, 도시, 비밀, 학교, 과거, 가지, 이자, 경찰, 마지막, 미국, 동안, 전쟁, 주인공, 대해, 존재, 현실, 연출, 사고, 살인, 일상, 어머니, 계속, 사회, 인생, 다큐멘터리, 부문, 섹스, 최고, 바로, 동생, 의도, 하루, 위기, 계획, 정체, 한국, "
     ]
    }
   ],
   "source": [
    "m1 = X[0].tocoo()   # art를 TF-IDF로 표현한 sparse matrix를 가져옵니다. \n",
    "m2 = X[1].tocoo()   # gen을 TF-IDF로 표현한 sparse matrix를 가져옵니다. \n",
    "\n",
    "w1 = [[i, j] for i, j in zip(m1.col, m1.data)]\n",
    "w2 = [[i, j] for i, j in zip(m2.col, m2.data)]\n",
    "\n",
    "w1.sort(key=lambda x: x[1], reverse=True)   #art를 구성하는 단어들을 TF-IDF가 높은 순으로 정렬합니다. \n",
    "w2.sort(key=lambda x: x[1], reverse=True)   #gen을 구성하는 단어들을 TF-IDF가 높은 순으로 정렬합니다. \n",
    "\n",
    "print('예술영화를 대표하는 단어들:')\n",
    "for i in range(100):\n",
    "    print(vectorizer.get_feature_names()[w1[i][0]], end=', ')\n",
    "\n",
    "print('\\n')\n",
    "    \n",
    "print('일반영화를 대표하는 단어들:')\n",
    "for i in range(100):\n",
    "    print(vectorizer.get_feature_names()[w2[i][0]], end=', ')"
   ]
  },
  {
   "cell_type": "code",
   "execution_count": 27,
   "id": "916c7994",
   "metadata": {},
   "outputs": [],
   "source": [
    "n = 15\n",
    "w1_, w2_ = [], []\n",
    "for i in range(100):\n",
    "    w1_.append(vectorizer.get_feature_names()[w1[i][0]])\n",
    "    w2_.append(vectorizer.get_feature_names()[w2[i][0]])\n",
    "\n",
    "# w1에만 있고 w2에는 없는, 예술영화를 잘 대표하는 단어를 15개 추출한다.\n",
    "target_art, target_gen = [], []\n",
    "for i in range(100):\n",
    "    if (w1_[i] not in w2_) and (w1_[i] in model.wv): target_art.append(w1_[i])\n",
    "    if len(target_art) == n: break \n",
    "\n",
    "# w2에만 있고 w1에는 없는, 일반영화를 잘 대표하는 단어를 15개 추출한다.\n",
    "for i in range(100):\n",
    "    if (w2_[i] not in w1_) and (w2_[i] in model.wv): target_gen.append(w2_[i])\n",
    "    if len(target_gen) == n: break"
   ]
  },
  {
   "cell_type": "code",
   "execution_count": 28,
   "id": "399114b5",
   "metadata": {},
   "outputs": [
    {
     "name": "stdout",
     "output_type": "stream",
     "text": [
      "['아빠', '음악', '결심', '운명', '지금', '여인', '이름', '이후', '준비', '감정', '만난', '처음', '충격', '누구', '그린']\n"
     ]
    }
   ],
   "source": [
    "print(target_art)"
   ]
  },
  {
   "cell_type": "code",
   "execution_count": 29,
   "id": "2046df4c",
   "metadata": {},
   "outputs": [
    {
     "name": "stdout",
     "output_type": "stream",
     "text": [
      "['서울', '애니메이션', '여성', '가지', '주인공', '대해', '연출', '사회', '다큐멘터리', '부문', '섹스', '바로', '의도', '계획', '정체']\n"
     ]
    }
   ],
   "source": [
    "print(target_gen)"
   ]
  },
  {
   "cell_type": "code",
   "execution_count": 39,
   "id": "1db9880b",
   "metadata": {},
   "outputs": [
    {
     "name": "stdout",
     "output_type": "stream",
     "text": [
      "슝~\n"
     ]
    }
   ],
   "source": [
    "genre_txt = ['synopsis_SF.txt', 'synopsis_family.txt', 'synopsis_show.txt', 'synopsis_horror.txt', 'synopsis_etc.txt', \n",
    "             'synopsis_documentary.txt', 'synopsis_drama.txt', 'synopsis_romance.txt', 'synopsis_musical.txt', \n",
    "             'synopsis_mystery.txt', 'synopsis_crime.txt', 'synopsis_historical.txt', 'synopsis_western.txt', \n",
    "             'synopsis_adult.txt', 'synopsis_thriller.txt', 'synopsis_animation.txt', 'synopsis_action.txt', \n",
    "             'synopsis_adventure.txt', 'synopsis_war.txt', 'synopsis_comedy.txt', 'synopsis_fantasy.txt']\n",
    "genre_name = ['SF', '가족', '공연', '공포(호러)', '기타', '다큐멘터리', '드라마', '멜로로맨스', '뮤지컬', '미스터리', '범죄', '사극', '서부극(웨스턴)',\n",
    "         '성인물(에로)', '스릴러', '애니메이션', '액션', '어드벤처', '전쟁', '코미디', '판타지']\n",
    "print(\"슝~\")"
   ]
  },
  {
   "cell_type": "code",
   "execution_count": 40,
   "id": "0bc6daee",
   "metadata": {},
   "outputs": [
    {
     "name": "stdout",
     "output_type": "stream",
     "text": [
      "synopsis_SF.txt 파일을 읽고 있습니다.\n",
      "synopsis_family.txt 파일을 읽고 있습니다.\n",
      "synopsis_show.txt 파일을 읽고 있습니다.\n",
      "synopsis_horror.txt 파일을 읽고 있습니다.\n",
      "synopsis_etc.txt 파일을 읽고 있습니다.\n",
      "synopsis_documentary.txt 파일을 읽고 있습니다.\n",
      "synopsis_drama.txt 파일을 읽고 있습니다.\n",
      "synopsis_romance.txt 파일을 읽고 있습니다.\n",
      "synopsis_musical.txt 파일을 읽고 있습니다.\n",
      "synopsis_mystery.txt 파일을 읽고 있습니다.\n",
      "synopsis_crime.txt 파일을 읽고 있습니다.\n",
      "synopsis_historical.txt 파일을 읽고 있습니다.\n",
      "synopsis_western.txt 파일을 읽고 있습니다.\n",
      "synopsis_adult.txt 파일을 읽고 있습니다.\n",
      "synopsis_thriller.txt 파일을 읽고 있습니다.\n",
      "synopsis_animation.txt 파일을 읽고 있습니다.\n",
      "synopsis_action.txt 파일을 읽고 있습니다.\n",
      "synopsis_adventure.txt 파일을 읽고 있습니다.\n",
      "synopsis_war.txt 파일을 읽고 있습니다.\n",
      "synopsis_comedy.txt 파일을 읽고 있습니다.\n",
      "synopsis_fantasy.txt 파일을 읽고 있습니다.\n"
     ]
    }
   ],
   "source": [
    "# 약 10분정도 걸립니다.\n",
    "genre = []\n",
    "for file_name in genre_txt:\n",
    "    genre.append(read_token(file_name))"
   ]
  },
  {
   "cell_type": "code",
   "execution_count": 41,
   "id": "c7f39a18",
   "metadata": {},
   "outputs": [
    {
     "name": "stdout",
     "output_type": "stream",
     "text": [
      "(21, 42191)\n"
     ]
    }
   ],
   "source": [
    "vectorizer = TfidfVectorizer()\n",
    "X = vectorizer.fit_transform(genre)\n",
    "\n",
    "print(X.shape)"
   ]
  },
  {
   "cell_type": "markdown",
   "id": "3461a65d",
   "metadata": {},
   "source": [
    "# 실험2. 중복 제거하기 / TF-IDF 외에 다른 것 사용했다면 그것도 적용"
   ]
  },
  {
   "cell_type": "code",
   "execution_count": 42,
   "id": "1824aad2",
   "metadata": {
    "scrolled": true
   },
   "outputs": [
    {
     "name": "stdout",
     "output_type": "stream",
     "text": [
      "SF: 위해, 자신, "
     ]
    },
    {
     "name": "stderr",
     "output_type": "stream",
     "text": [
      "/opt/conda/lib/python3.9/site-packages/sklearn/utils/deprecation.py:87: FutureWarning: Function get_feature_names is deprecated; get_feature_names is deprecated in 1.0 and will be removed in 1.2. Please use get_feature_names_out instead.\n",
      "  warnings.warn(msg, category=FutureWarning)\n"
     ]
    },
    {
     "name": "stdout",
     "output_type": "stream",
     "text": [
      "지구, 시작, 사람, 인류, 인간, 미래, 우주, 그녀, 로봇, 세계, 모든, 박사, 우주선, \n",
      "가족: 엄마, 아빠, 가족, 영화제, 자신, 위해, 친구, 아주르, 아버지, 시작, 그녀, 아들, 마을, 국제, 낙타, \n",
      "공연: 오페라, 사랑, 토스카, 실황, 올레, 자신, 카바, 그녀, 공연, 오텔로, 리골레토, 백작, 프레, 베르디, 위해, \n",
      "공포(호러): 시작, 위해, 사람, 자신, 친구, 그녀, 사건, 공포, 발견, 죽음, 마을, 가족, 악령, 남자, 좀비, \n",
      "기타: 영화제, 국제, 서울, 단편, 영화, 자신, 사람, 이야기, 그녀, 남자, 위해, 시작, 사랑, 뉴미디어, 페스티벌, \n",
      "다큐멘터리: 영화제, 영화, 다큐, 국제, 다큐멘터리, 사람, 이야기, 대한, 자신, 감독, 위해, 서울, 우리, 시작, 세계, \n",
      "드라마: 자신, 영화제, 그녀, 사람, 사랑, 영화, 위해, 시작, 국제, 남자, 친구, 이야기, 엄마, 여자, 아버지, \n",
      "멜로로맨스: 그녀, 사랑, 자신, 시작, 남편, 남자, 여자, 사람, 친구, 섹스, 위해, 마음, 결혼, 서로, 아내, \n",
      "뮤지컬: 뮤지컬, 사랑, 에스메랄다, 그녀, 음악, 충무로, 모차르트, 영화, 토스카, 자신, 니웨, 카바, 영화제, 바흐, 페뷔스, \n",
      "미스터리: 사건, 그녀, 시작, 자신, 위해, 사람, 발견, 사고, 진실, 죽음, 기억, 살인, 친구, 아내, 남자, \n",
      "범죄: 사건, 위해, 자신, 경찰, 시작, 그녀, 범죄, 조직, 살인, 사람, 마약, 형사, 남자, 모든, 살해, \n",
      "사극: 조선, 위해, 시작, 신기전, 사랑, 자신, 아가멤논, 황제, 그녀, 루안, 최고, 운명, 사람, 하선, 전쟁, \n",
      "서부극(웨스턴): 서부, 보안관, 위해, 벌린, 카우보이, 그레이프바인, 헨리, 마을, 자신, 개릿, 아이, 시작, 무법자, 프린트, 마적, \n",
      "성인물(에로): 그녀, 남편, 마사지, 자신, 섹스, 관계, 영화, 정사, 남자, 위해, 시작, 여자, 유부녀, 마음, 사랑, \n",
      "스릴러: 자신, 그녀, 사건, 시작, 위해, 사람, 살인, 남자, 발견, 아내, 경찰, 친구, 모든, 사실, 살해, \n",
      "애니메이션: 애니메이션, 국제, 영화제, 친구, 인디애니페스트, 위해, 자신, 시작, 사람, 페스티벌, 서울, 이야기, 아이, 마을, 소녀, \n",
      "액션: 위해, 자신, 시작, 조직, 사건, 사람, 그녀, 경찰, 전쟁, 모든, 목숨, 사실, 친구, 가족, 요원, \n",
      "어드벤처: 위해, 자신, 시작, 친구, 마을, 아버지, 영화, 아이, 사람, 여행, 세계, 앤트, 세상, 가족, 모험, \n",
      "전쟁: 전쟁, 독일군, 전투, 위해, 작전, 시작, 부대, 윈터스, 독일, 연합군, 미군, 임무, 자신, 사람, 나치, \n",
      "코미디: 그녀, 자신, 시작, 위해, 사랑, 사람, 친구, 영화, 남자, 여자, 영화제, 가족, 과연, 마을, 사건, \n",
      "판타지: 자신, 그녀, 시작, 위해, 사람, 사랑, 요괴, 영화제, 이야기, 영화, 소녀, 남자, 인간, 세상, 마을, \n"
     ]
    }
   ],
   "source": [
    "m = [X[i].tocoo() for i in range(X.shape[0])]\n",
    "\n",
    "w = [[[i, j] for i, j in zip(mm.col, mm.data)] for mm in m]\n",
    "\n",
    "for i in range(len(w)):\n",
    "    w[i].sort(key=lambda x: x[1], reverse=True)\n",
    "attributes = []\n",
    "for i in range(len(w)):\n",
    "    print(genre_name[i], end=': ')\n",
    "    attr = []\n",
    "    j = 0\n",
    "    while (len(attr) < 15):\n",
    "        if vectorizer.get_feature_names()[w[i][j][0]] in model.wv:\n",
    "            attr.append(vectorizer.get_feature_names()[w[i][j][0]])\n",
    "            print(vectorizer.get_feature_names()[w[i][j][0]], end=', ')\n",
    "        j += 1\n",
    "    attributes.append(attr)\n",
    "    print()"
   ]
  },
  {
   "cell_type": "code",
   "execution_count": 49,
   "id": "c27b8723",
   "metadata": {},
   "outputs": [
    {
     "name": "stdout",
     "output_type": "stream",
     "text": [
      "SF: \n",
      "가족: \n",
      "공연: \n",
      "공포(호러): \n",
      "기타: \n",
      "다큐멘터리: \n",
      "드라마: \n",
      "멜로로맨스: \n",
      "뮤지컬: \n",
      "미스터리: \n",
      "범죄: \n",
      "사극: \n",
      "서부극(웨스턴): \n",
      "성인물(에로): \n",
      "스릴러: \n",
      "애니메이션: \n",
      "액션: \n",
      "어드벤처: \n",
      "전쟁: \n",
      "코미디: \n",
      "판타지: \n"
     ]
    }
   ],
   "source": [
    "from collections import Counter\n",
    "\n",
    "# 각 장르의 단어 리스트\n",
    "attributes = {\n",
    "    \"SF\": ['위해', '자신', '지구', '시작', '사람', '인류', '인간', '미래', '우주', '그녀', '로봇', '세계', '모든', '박사', '우주선'],\n",
    "    \"가족\": ['엄마', '아빠', '가족', '영화제', '자신', '위해', '친구', '아주르', '아버지', '시작', '그녀', '아들', '마을', '국제', '낙타'],\n",
    "    \"공연\": ['오페라', '사랑', '토스카', '실황', '올레', '자신', '카바', '그녀', '공연', '오텔로', '리골레토', '백작', '프레', '베르디', '위해'],\n",
    "    \"공포(호러)\": ['시작', '위해', '사람', '자신', '친구', '그녀', '사건', '공포', '발견', '죽음', '마을', '가족', '악령', '남자', '좀비'],\n",
    "    \"기타\": ['영화제', '국제', '서울', '단편', '영화', '자신', '사람', '이야기', '그녀', '남자', '위해', '시작', '사랑', '뉴미디어', '페스티벌'],\n",
    "    \"다큐멘터리\": ['영화제', '영화', '다큐', '국제', '다큐멘터리', '사람', '이야기', '대한', '자신', '감독', '위해', '서울', '우리', '시작', '세계'],\n",
    "    \"드라마\": ['자신', '영화제', '그녀', '사람', '사랑', '영화', '위해', '시작', '국제', '남자', '친구', '이야기', '엄마', '여자', '아버지'],\n",
    "    \"멜로로맨스\": ['그녀', '사랑', '자신', '시작', '남편', '남자', '여자', '사람', '친구', '섹스', '위해', '마음', '결혼', '서로', '아내'],\n",
    "    \"뮤지컬\": ['뮤지컬', '사랑', '에스메랄다', '그녀', '음악', '충무로', '모차르트', '영화', '토스카', '자신', '니웨', '카바', '영화제', '바흐', '페뷔스'],\n",
    "    \"미스터리\": ['사건', '그녀', '시작', '자신', '위해', '사람', '발견', '사고', '진실', '죽음', '기억', '살인', '친구', '아내', '남자'],\n",
    "    \"범죄\": ['사건', '위해', '자신', '경찰', '시작', '그녀', '범죄', '조직', '살인', '사람', '마약', '형사', '남자', '모든', '살해'],\n",
    "    \"사극\": ['조선', '위해', '시작', '신기전', '사랑', '자신', '아가멤논', '황제', '그녀', '루안', '최고', '운명', '사람', '하선', '전쟁'],\n",
    "    \"서부극(웨스턴)\": ['서부', '보안관', '위해', '벌린', '카우보이', '그레이프바인', '헨리', '마을', '자신', '개릿', '아이', '시작', '무법자', '프린트', '마적'],\n",
    "    \"성인물(에로)\": ['그녀', '남편', '마사지', '자신', '섹스', '관계', '영화', '정사', '남자', '위해', '시작', '여자', '유부녀', '마음', '사랑'],\n",
    "    \"스릴러\": ['자신', '그녀', '사건', '시작', '위해', '사람', '살인', '남자', '발견', '아내', '경찰', '친구', '모든', '사실', '살해'],\n",
    "    \"애니메이션\": ['애니메이션', '국제', '영화제', '친구', '인디애니페스트', '위해', '자신', '시작', '사람', '페스티벌', '서울', '이야기', '아이', '마을', '소녀'],\n",
    "    \"액션\": ['위해', '자신', '시작', '조직', '사건', '사람', '그녀', '경찰', '전쟁', '모든', '목숨', '사실', '친구', '가족', '요원'],\n",
    "    \"어드벤처\": ['위해', '자신', '시작', '친구', '마을', '아버지', '영화', '아이', '사람', '여행', '세계', '앤트', '세상', '가족', '모험'],\n",
    "    \"전쟁\": ['전쟁', '독일군', '전투', '위해', '작전', '시작', '부대', '윈터스', '독일', '연합군', '미군', '임무', '자신', '사람', '나치'],\n",
    "    \"코미디\": ['그녀', '자신', '시작', '위해', '사랑', '사람', '친구', '영화', '남자', '여자', '영화제', '가족', '과연', '마을', '사건'],\n",
    "    \"판타지\": ['자신', '그녀', '시작', '위해', '사람', '사랑', '요괴', '영화제', '이야기', '영화', '소녀', '남자', '인간', '세상', '마을'],\n",
    "}\n",
    "\n",
    "# 중복된 단어 삭제\n",
    "all_words = sum(attributes.values(), [])\n",
    "word_counts = Counter(all_words)\n",
    "\n",
    "# 중복되지 않은 단어들만 남기기\n",
    "for genre in attributes:\n",
    "    attributes[genre] = [word for word in attributes[genre] if word_counts[word] == 1]\n",
    "\n",
    "# 가장 적은 단어 수를 가진 장르의 단어 수에 맞추기\n",
    "min_length = min(len(words) for words in attributes.values())\n",
    "\n",
    "# 각 장르별로 단어 수를 맞추기 (빈도수가 낮은 단어부터 삭제)\n",
    "for genre in attributes:\n",
    "    if len(attributes[genre]) > min_length:\n",
    "        attributes[genre] = attributes[genre][:min_length]\n",
    "\n",
    "# 결과 출력\n",
    "for genre, words in attributes.items():\n",
    "    print(f\"{genre}: {', '.join(words)}\")\n"
   ]
  },
  {
   "cell_type": "markdown",
   "id": "49054f0a",
   "metadata": {},
   "source": [
    "### TF-IDF와 같이 빈도수로 뽑은 단어는 중복되는 단어가 많아서 장르가 6개만 넘어가도 단어의 수가 매우 감소함.\n",
    "### 특히, attribute 별로 크기는 일정하게 해줘야하기 때문에 이 조건까지 맞춰주면 모든 장르에서의 유니크한 단어는 존재하지 않음."
   ]
  },
  {
   "cell_type": "markdown",
   "id": "c459cc08",
   "metadata": {},
   "source": [
    "### 1회 이상 중복 말고 10회 이상 중복 시 삭제하는 것으로 변경"
   ]
  },
  {
   "cell_type": "code",
   "execution_count": 56,
   "id": "1936c005",
   "metadata": {},
   "outputs": [
    {
     "name": "stdout",
     "output_type": "stream",
     "text": [
      "SF: 지구, 인류, 인간, 미래, 우주, 로봇, 세계, 모든\n",
      "가족: 엄마, 아빠, 가족, 영화제, 아주르, 아버지, 아들, 마을\n",
      "공연: 오페라, 사랑, 토스카, 실황, 올레, 카바, 공연, 오텔로\n",
      "공포(호러): 사건, 공포, 발견, 죽음, 마을, 가족, 악령, 좀비\n",
      "기타: 영화제, 국제, 서울, 단편, 영화, 이야기, 사랑, 뉴미디어\n",
      "다큐멘터리: 영화제, 영화, 다큐, 국제, 다큐멘터리, 이야기, 대한, 감독\n",
      "드라마: 영화제, 사랑, 영화, 국제, 이야기, 엄마, 여자, 아버지\n",
      "멜로로맨스: 사랑, 남편, 여자, 섹스, 마음, 결혼, 서로, 아내\n",
      "뮤지컬: 뮤지컬, 사랑, 에스메랄다, 음악, 충무로, 모차르트, 영화, 토스카\n",
      "미스터리: 사건, 발견, 사고, 진실, 죽음, 기억, 살인, 아내\n",
      "범죄: 사건, 경찰, 범죄, 조직, 살인, 마약, 형사, 모든\n",
      "사극: 조선, 신기전, 사랑, 아가멤논, 황제, 루안, 최고, 운명\n",
      "서부극(웨스턴): 서부, 보안관, 벌린, 카우보이, 그레이프바인, 헨리, 마을, 개릿\n",
      "성인물(에로): 남편, 마사지, 섹스, 관계, 영화, 정사, 여자, 유부녀\n",
      "스릴러: 사건, 살인, 발견, 아내, 경찰, 모든, 사실, 살해\n",
      "애니메이션: 애니메이션, 국제, 영화제, 인디애니페스트, 페스티벌, 서울, 이야기, 아이\n",
      "액션: 조직, 사건, 경찰, 전쟁, 모든, 목숨, 사실, 가족\n",
      "어드벤처: 마을, 아버지, 영화, 아이, 여행, 세계, 앤트, 세상\n",
      "전쟁: 전쟁, 독일군, 전투, 작전, 부대, 윈터스, 독일, 연합군\n",
      "코미디: 사랑, 영화, 여자, 영화제, 가족, 과연, 마을, 사건\n",
      "판타지: 사랑, 요괴, 영화제, 이야기, 영화, 소녀, 인간, 세상\n"
     ]
    }
   ],
   "source": [
    "from collections import Counter\n",
    "\n",
    "# 각 장르의 단어 리스트\n",
    "attributes = {\n",
    "    \"SF\": ['위해', '자신', '지구', '시작', '사람', '인류', '인간', '미래', '우주', '그녀', '로봇', '세계', '모든', '박사', '우주선'],\n",
    "    \"가족\": ['엄마', '아빠', '가족', '영화제', '자신', '위해', '친구', '아주르', '아버지', '시작', '그녀', '아들', '마을', '국제', '낙타'],\n",
    "    \"공연\": ['오페라', '사랑', '토스카', '실황', '올레', '자신', '카바', '그녀', '공연', '오텔로', '리골레토', '백작', '프레', '베르디', '위해'],\n",
    "    \"공포(호러)\": ['시작', '위해', '사람', '자신', '친구', '그녀', '사건', '공포', '발견', '죽음', '마을', '가족', '악령', '남자', '좀비'],\n",
    "    \"기타\": ['영화제', '국제', '서울', '단편', '영화', '자신', '사람', '이야기', '그녀', '남자', '위해', '시작', '사랑', '뉴미디어', '페스티벌'],\n",
    "    \"다큐멘터리\": ['영화제', '영화', '다큐', '국제', '다큐멘터리', '사람', '이야기', '대한', '자신', '감독', '위해', '서울', '우리', '시작', '세계'],\n",
    "    \"드라마\": ['자신', '영화제', '그녀', '사람', '사랑', '영화', '위해', '시작', '국제', '남자', '친구', '이야기', '엄마', '여자', '아버지'],\n",
    "    \"멜로로맨스\": ['그녀', '사랑', '자신', '시작', '남편', '남자', '여자', '사람', '친구', '섹스', '위해', '마음', '결혼', '서로', '아내'],\n",
    "    \"뮤지컬\": ['뮤지컬', '사랑', '에스메랄다', '그녀', '음악', '충무로', '모차르트', '영화', '토스카', '자신', '니웨', '카바', '영화제', '바흐', '페뷔스'],\n",
    "    \"미스터리\": ['사건', '그녀', '시작', '자신', '위해', '사람', '발견', '사고', '진실', '죽음', '기억', '살인', '친구', '아내', '남자'],\n",
    "    \"범죄\": ['사건', '위해', '자신', '경찰', '시작', '그녀', '범죄', '조직', '살인', '사람', '마약', '형사', '남자', '모든', '살해'],\n",
    "    \"사극\": ['조선', '위해', '시작', '신기전', '사랑', '자신', '아가멤논', '황제', '그녀', '루안', '최고', '운명', '사람', '하선', '전쟁'],\n",
    "    \"서부극(웨스턴)\": ['서부', '보안관', '위해', '벌린', '카우보이', '그레이프바인', '헨리', '마을', '자신', '개릿', '아이', '시작', '무법자', '프린트', '마적'],\n",
    "    \"성인물(에로)\": ['그녀', '남편', '마사지', '자신', '섹스', '관계', '영화', '정사', '남자', '위해', '시작', '여자', '유부녀', '마음', '사랑'],\n",
    "    \"스릴러\": ['자신', '그녀', '사건', '시작', '위해', '사람', '살인', '남자', '발견', '아내', '경찰', '친구', '모든', '사실', '살해'],\n",
    "    \"애니메이션\": ['애니메이션', '국제', '영화제', '친구', '인디애니페스트', '위해', '자신', '시작', '사람', '페스티벌', '서울', '이야기', '아이', '마을', '소녀'],\n",
    "    \"액션\": ['위해', '자신', '시작', '조직', '사건', '사람', '그녀', '경찰', '전쟁', '모든', '목숨', '사실', '친구', '가족', '요원'],\n",
    "    \"어드벤처\": ['위해', '자신', '시작', '친구', '마을', '아버지', '영화', '아이', '사람', '여행', '세계', '앤트', '세상', '가족', '모험'],\n",
    "    \"전쟁\": ['전쟁', '독일군', '전투', '위해', '작전', '시작', '부대', '윈터스', '독일', '연합군', '미군', '임무', '자신', '사람', '나치'],\n",
    "    \"코미디\": ['그녀', '자신', '시작', '위해', '사랑', '사람', '친구', '영화', '남자', '여자', '영화제', '가족', '과연', '마을', '사건'],\n",
    "    \"판타지\": ['자신', '그녀', '시작', '위해', '사람', '사랑', '요괴', '영화제', '이야기', '영화', '소녀', '남자', '인간', '세상', '마을'],\n",
    "}\n",
    "\n",
    "# 중복된 단어 삭제 (중복 횟수가 10회 이상인 경우)\n",
    "all_words = sum(attributes.values(), [])\n",
    "word_counts = Counter(all_words)\n",
    "\n",
    "# 등장 횟수가 10회 이상인 단어 제거\n",
    "for genre in attributes:\n",
    "    attributes[genre] = [word for word in attributes[genre] if word_counts[word] < 10]\n",
    "# 가장 적은 단어 수를 가진 장르의 단어 수에 맞추기\n",
    "min_length = min(len(words) for words in attributes.values())\n",
    "\n",
    "# 각 장르별로 단어 수를 맞추기 (빈도수가 낮은 단어부터 삭제)\n",
    "for genre in attributes:\n",
    "    if len(attributes[genre]) > min_length:\n",
    "        attributes[genre] = attributes[genre][:min_length]\n",
    "\n",
    "# 결과 출력\n",
    "for genre, words in attributes.items():\n",
    "    print(f\"{genre}: {', '.join(words)}\")\n"
   ]
  },
  {
   "cell_type": "markdown",
   "id": "5a8330aa",
   "metadata": {},
   "source": [
    "## embedding model과 단어 셋으로 WEAT score 구해보기\n"
   ]
  },
  {
   "cell_type": "code",
   "execution_count": 57,
   "id": "14eee0ea",
   "metadata": {},
   "outputs": [
    {
     "name": "stdout",
     "output_type": "stream",
     "text": [
      "슝~\n"
     ]
    }
   ],
   "source": [
    "matrix = [[0 for _ in range(len(genre_name))] for _ in range(len(genre_name))]\n",
    "print(\"슝~\")"
   ]
  },
  {
   "cell_type": "code",
   "execution_count": 59,
   "id": "c019df58",
   "metadata": {},
   "outputs": [
    {
     "name": "stdout",
     "output_type": "stream",
     "text": [
      "슝~\n"
     ]
    }
   ],
   "source": [
    "genre_name = list(attributes.keys())  # 장르 이름 리스트를 가져옵니다.\n",
    "\n",
    "X = np.array([model.wv[word] for word in target_art])\n",
    "Y = np.array([model.wv[word] for word in target_gen])\n",
    "\n",
    "# 빈 매트릭스 생성\n",
    "matrix = np.zeros((len(genre_name), len(genre_name)))\n",
    "\n",
    "# WEAT score 계산\n",
    "for i in range(len(genre_name)-1):\n",
    "    for j in range(i+1, len(genre_name)):\n",
    "        A = np.array([model.wv[word] for word in attributes[genre_name[i]]])\n",
    "        B = np.array([model.wv[word] for word in attributes[genre_name[j]]])\n",
    "        matrix[i][j] = weat_score(X, Y, A, B)\n",
    "\n",
    "print(\"슝~\")"
   ]
  },
  {
   "cell_type": "code",
   "execution_count": 60,
   "id": "d445d707",
   "metadata": {
    "scrolled": true
   },
   "outputs": [
    {
     "name": "stdout",
     "output_type": "stream",
     "text": [
      "SF 가족 -0.5764726996421814\n",
      "SF 공연 -0.3216249942779541\n",
      "SF 공포(호러) -0.472711980342865\n",
      "SF 기타 0.344933420419693\n",
      "SF 다큐멘터리 0.5007779598236084\n",
      "SF 드라마 -0.20480306446552277\n",
      "SF 멜로로맨스 -0.7153827548027039\n",
      "SF 뮤지컬 0.0028119341004639864\n",
      "SF 미스터리 -0.5383040904998779\n",
      "SF 범죄 -0.07063248753547668\n",
      "SF 사극 -0.6859856247901917\n",
      "SF 서부극(웨스턴) -0.3807043433189392\n",
      "SF 성인물(에로) -0.4101066589355469\n",
      "SF 스릴러 -0.3704569935798645\n",
      "SF 애니메이션 0.4583035409450531\n",
      "SF 액션 -0.3334486782550812\n",
      "SF 어드벤처 -0.5863742828369141\n",
      "SF 전쟁 0.15721040964126587\n",
      "SF 코미디 -0.2577170133590698\n",
      "SF 판타지 -0.05331160128116608\n",
      "가족 공연 0.2560446858406067\n",
      "가족 공포(호러) 0.21858671307563782\n",
      "가족 기타 0.728901207447052\n",
      "가족 다큐멘터리 0.7845394015312195\n",
      "가족 드라마 0.5276414155960083\n",
      "가족 멜로로맨스 -0.4919132888317108\n",
      "가족 뮤지컬 0.48504337668418884\n",
      "가족 미스터리 -0.05927591398358345\n",
      "가족 범죄 0.5387976169586182\n",
      "가족 사극 0.04617759585380554\n",
      "가족 서부극(웨스턴) 0.5272223949432373\n",
      "가족 성인물(에로) -0.00323379784822464\n",
      "가족 스릴러 0.14383608102798462\n",
      "가족 애니메이션 0.836459755897522\n",
      "가족 액션 0.35213154554367065\n",
      "가족 어드벤처 0.3821087181568146\n",
      "가족 전쟁 0.6818404793739319\n",
      "가족 코미디 0.5799275636672974\n",
      "가족 판타지 0.5669971704483032\n",
      "공연 공포(호러) -0.07687608897686005\n",
      "공연 기타 1.01908278465271\n",
      "공연 다큐멘터리 1.0085055828094482\n",
      "공연 드라마 0.3163641095161438\n",
      "공연 멜로로맨스 -0.618760883808136\n",
      "공연 뮤지컬 0.7253337502479553\n",
      "공연 미스터리 -0.21775133907794952\n",
      "공연 범죄 0.18677189946174622\n",
      "공연 사극 -0.4496484398841858\n",
      "공연 서부극(웨스턴) -0.0040494822897017\n",
      "공연 성인물(에로) -0.26035046577453613\n",
      "공연 스릴러 -0.08913061022758484\n",
      "공연 애니메이션 1.0771074295043945\n",
      "공연 액션 0.017399488016963005\n",
      "공연 어드벤처 -0.06194143369793892\n",
      "공연 전쟁 0.47842127084732056\n",
      "공연 코미디 0.21521763503551483\n",
      "공연 판타지 0.4701208174228668\n",
      "공포(호러) 기타 0.5317771434783936\n",
      "공포(호러) 다큐멘터리 0.621819019317627\n",
      "공포(호러) 드라마 0.23890420794487\n",
      "공포(호러) 멜로로맨스 -0.6244624257087708\n",
      "공포(호러) 뮤지컬 0.31402722001075745\n",
      "공포(호러) 미스터리 -0.5866885185241699\n",
      "공포(호러) 범죄 0.5891657471656799\n",
      "공포(호러) 사극 -0.1346147060394287\n",
      "공포(호러) 서부극(웨스턴) 0.1381136178970337\n",
      "공포(호러) 성인물(에로) -0.15444713830947876\n",
      "공포(호러) 스릴러 -0.06997211277484894\n",
      "공포(호러) 애니메이션 0.6020638942718506\n",
      "공포(호러) 액션 0.3089253306388855\n",
      "공포(호러) 어드벤처 0.07381068170070648\n",
      "공포(호러) 전쟁 0.497849702835083\n",
      "공포(호러) 코미디 0.33906155824661255\n",
      "공포(호러) 판타지 0.3756359815597534\n",
      "기타 다큐멘터리 0.44710326194763184\n",
      "기타 드라마 -0.8485468626022339\n",
      "기타 멜로로맨스 -0.8550830483436584\n",
      "기타 뮤지컬 -0.8009929060935974\n",
      "기타 미스터리 -0.5787554979324341\n",
      "기타 범죄 -0.29052966833114624\n",
      "기타 사극 -0.8787821531295776\n",
      "기타 서부극(웨스턴) -0.6062902212142944\n",
      "기타 성인물(에로) -0.6880887746810913\n",
      "기타 스릴러 -0.47309359908103943\n",
      "기타 애니메이션 0.5939274430274963\n",
      "기타 액션 -0.42695164680480957\n",
      "기타 어드벤처 -0.7296276092529297\n",
      "기타 전쟁 -0.24566596746444702\n",
      "기타 코미디 -0.6416168212890625\n",
      "기타 판타지 -0.666025698184967\n",
      "다큐멘터리 드라마 -0.9057489633560181\n",
      "다큐멘터리 멜로로맨스 -0.8739889860153198\n",
      "다큐멘터리 뮤지컬 -1.056134581565857\n",
      "다큐멘터리 미스터리 -0.6572200059890747\n",
      "다큐멘터리 범죄 -0.37988826632499695\n",
      "다큐멘터리 사극 -0.9149633646011353\n",
      "다큐멘터리 서부극(웨스턴) -0.6636873483657837\n",
      "다큐멘터리 성인물(에로) -0.7288702130317688\n",
      "다큐멘터리 스릴러 -0.5461871027946472\n",
      "다큐멘터리 애니메이션 -0.04682416468858719\n",
      "다큐멘터리 액션 -0.5179447531700134\n",
      "다큐멘터리 어드벤처 -0.8384199738502502\n",
      "다큐멘터리 전쟁 -0.3664919435977936\n",
      "다큐멘터리 코미디 -0.7462737560272217\n",
      "다큐멘터리 판타지 -0.8787853717803955\n",
      "드라마 멜로로맨스 -0.806097686290741\n",
      "드라마 뮤지컬 0.37106025218963623\n",
      "드라마 미스터리 -0.37743622064590454\n",
      "드라마 범죄 0.08994343131780624\n",
      "드라마 사극 -0.6101083159446716\n",
      "드라마 서부극(웨스턴) -0.20718038082122803\n",
      "드라마 성인물(에로) -0.4528202712535858\n",
      "드라마 스릴러 -0.21912190318107605\n",
      "드라마 애니메이션 0.9271693825721741\n",
      "드라마 액션 -0.10839466005563736\n",
      "드라마 어드벤처 -0.38083022832870483\n",
      "드라마 전쟁 0.31343334913253784\n",
      "드라마 코미디 -0.020342456176877022\n",
      "드라마 판타지 0.39003488421440125\n",
      "멜로로맨스 뮤지컬 0.7461972832679749\n",
      "멜로로맨스 미스터리 0.4674959182739258\n",
      "멜로로맨스 범죄 0.8749606609344482\n",
      "멜로로맨스 사극 0.536959707736969\n",
      "멜로로맨스 서부극(웨스턴) 0.6824496388435364\n",
      "멜로로맨스 성인물(에로) 1.1555755138397217\n",
      "멜로로맨스 스릴러 0.6462922096252441\n",
      "멜로로맨스 애니메이션 0.8863592743873596\n",
      "멜로로맨스 액션 0.7207779884338379\n",
      "멜로로맨스 어드벤처 0.646763265132904\n",
      "멜로로맨스 전쟁 0.7520379424095154\n",
      "멜로로맨스 코미디 0.8810856938362122\n",
      "멜로로맨스 판타지 0.7884121537208557\n",
      "뮤지컬 미스터리 -0.4092812240123749\n",
      "뮤지컬 범죄 -0.05294017866253853\n",
      "뮤지컬 사극 -0.6968871355056763\n",
      "뮤지컬 서부극(웨스턴) -0.3030914068222046\n",
      "뮤지컬 성인물(에로) -0.49500584602355957\n",
      "뮤지컬 스릴러 -0.2826666235923767\n",
      "뮤지컬 애니메이션 0.8101282119750977\n",
      "뮤지컬 액션 -0.21139028668403625\n",
      "뮤지컬 어드벤처 -0.4625505805015564\n",
      "뮤지컬 전쟁 0.10647572576999664\n",
      "뮤지컬 코미디 -0.2729242444038391\n",
      "뮤지컬 판타지 -0.09835290908813477\n",
      "미스터리 범죄 0.942135751247406\n",
      "미스터리 사극 0.08277799189090729\n",
      "미스터리 서부극(웨스턴) 0.34006571769714355\n",
      "미스터리 성인물(에로) 0.04845976456999779\n",
      "미스터리 스릴러 0.64085453748703\n",
      "미스터리 애니메이션 0.6334095597267151\n",
      "미스터리 액션 0.7201926112174988\n",
      "미스터리 어드벤처 0.2837466299533844\n",
      "미스터리 전쟁 0.5670362710952759\n",
      "미스터리 코미디 0.4908681809902191\n",
      "미스터리 판타지 0.47059163451194763\n",
      "범죄 사극 -0.46609002351760864\n",
      "범죄 서부극(웨스턴) -0.3330816328525543\n",
      "범죄 성인물(에로) -0.4539882242679596\n",
      "범죄 스릴러 -0.9517766237258911\n",
      "범죄 애니메이션 0.3727011978626251\n",
      "범죄 액션 -0.6290015578269958\n",
      "범죄 어드벤처 -0.29716727137565613\n",
      "범죄 전쟁 0.20786136388778687\n",
      "범죄 코미디 -0.1260766088962555\n",
      "범죄 판타지 0.030891524627804756\n",
      "사극 서부극(웨스턴) 0.3557847738265991\n",
      "사극 성인물(에로) -0.04572804644703865\n",
      "사극 스릴러 0.08443565666675568\n",
      "사극 애니메이션 0.9461565017700195\n",
      "사극 액션 0.26370108127593994\n",
      "사극 어드벤처 0.31546518206596375\n",
      "사극 전쟁 0.8459781408309937\n",
      "사극 코미디 0.7013121247291565\n",
      "사극 판타지 0.7199982404708862\n",
      "서부극(웨스턴) 성인물(에로) -0.24612492322921753\n",
      "서부극(웨스턴) 스릴러 -0.1479683518409729\n",
      "서부극(웨스턴) 애니메이션 0.727630615234375\n",
      "서부극(웨스턴) 액션 0.03664340823888779\n",
      "서부극(웨스턴) 어드벤처 -0.08194012194871902\n",
      "서부극(웨스턴) 전쟁 0.6485922932624817\n",
      "서부극(웨스턴) 코미디 0.2605571150779724\n",
      "서부극(웨스턴) 판타지 0.3338093161582947\n",
      "성인물(에로) 스릴러 0.1293289065361023\n",
      "성인물(에로) 애니메이션 0.7306666970252991\n",
      "성인물(에로) 액션 0.2532001733779907\n",
      "성인물(에로) 어드벤처 0.21150422096252441\n",
      "성인물(에로) 전쟁 0.47928690910339355\n",
      "성인물(에로) 코미디 0.4768688678741455\n",
      "성인물(에로) 판타지 0.4926315248012543\n",
      "스릴러 애니메이션 0.5384083986282349\n",
      "스릴러 액션 0.3776378631591797\n",
      "스릴러 어드벤처 0.08288750797510147\n",
      "스릴러 전쟁 0.4605151414871216\n",
      "스릴러 코미디 0.27908289432525635\n",
      "스릴러 판타지 0.3090597689151764\n",
      "애니메이션 액션 -0.5024425387382507\n",
      "애니메이션 어드벤처 -0.8235602378845215\n",
      "애니메이션 전쟁 -0.3889692425727844\n",
      "애니메이션 코미디 -0.7239644527435303\n",
      "애니메이션 판타지 -0.7411966323852539\n",
      "액션 어드벤처 -0.08384127169847488\n",
      "액션 전쟁 0.42938992381095886\n",
      "액션 코미디 0.13996925950050354\n",
      "액션 판타지 0.2273140400648117\n",
      "어드벤처 전쟁 0.5529543161392212\n",
      "어드벤처 코미디 0.5195240378379822\n",
      "어드벤처 판타지 0.6362173557281494\n",
      "전쟁 코미디 -0.3578978180885315\n",
      "전쟁 판타지 -0.1576811820268631\n",
      "코미디 판타지 0.3428329527378082\n"
     ]
    }
   ],
   "source": [
    "for i in range(len(genre_name)-1):\n",
    "    for j in range(i+1, len(genre_name)):\n",
    "        print(genre_name[i], genre_name[j],matrix[i][j])"
   ]
  },
  {
   "cell_type": "code",
   "execution_count": 71,
   "id": "3376daf1",
   "metadata": {},
   "outputs": [
    {
     "name": "stdout",
     "output_type": "stream",
     "text": [
      "0.9 이상인 값:\n",
      "공연 - 기타: 1.01908278465271\n",
      "공연 - 다큐멘터리: 1.0085055828094482\n",
      "공연 - 애니메이션: 1.0771074295043945\n",
      "드라마 - 애니메이션: 0.9271693825721741\n",
      "멜로로맨스 - 성인물(에로): 1.1555755138397217\n",
      "미스터리 - 범죄: 0.942135751247406\n",
      "사극 - 애니메이션: 0.9461565017700195\n",
      "\n",
      "-0.9 이하인 값:\n",
      "다큐멘터리 - 드라마: -0.9057489633560181\n",
      "다큐멘터리 - 뮤지컬: -1.056134581565857\n",
      "다큐멘터리 - 사극: -0.9149633646011353\n",
      "범죄 - 스릴러: -0.9517766237258911\n"
     ]
    }
   ],
   "source": [
    "# 0.9 이상인 값 출력\n",
    "print(\"0.9 이상인 값:\")\n",
    "for i in range(len(genre_name)-1):\n",
    "    for j in range(i+1, len(genre_name)):\n",
    "        if matrix[i][j] >= 0.9:\n",
    "            print(f\"{genre_name[i]} - {genre_name[j]}: {matrix[i][j]}\")\n",
    "\n",
    "# -0.9 이하인 값 출력\n",
    "print(\"\\n-0.9 이하인 값:\")\n",
    "for i in range(len(genre_name)-1):\n",
    "    for j in range(i+1, len(genre_name)):\n",
    "        if matrix[i][j] <= -0.9:\n",
    "            print(f\"{genre_name[i]} - {genre_name[j]}: {matrix[i][j]}\")\n",
    "            \n",
    "\n"
   ]
  },
  {
   "cell_type": "markdown",
   "id": "83fd8eb6",
   "metadata": {},
   "source": [
    "### WEAT score가 0.9 이상, -0.9 이하의 경우만 해석해 보면 아래와 같습니다.\n",
    "\n",
    "#### 편향값이 양의 값으로 높은 상위권 3개는 모두 '공연' 장르로 '공연'장르는 예술 영화와 가깝습니다.\n",
    "\n",
    "#### 반대로, 음의 값으로 높은 상위권 3개는 모두 '다큐멘터리' 장르였는데 다큐멘터리는 상업 영화에 가깝다는 결과가 나왔습니다.\n",
    "\n",
    "양의 값에서, 공연(예술)과 대조되는 '기타', '다큐멘터리', '애니메이션', '성인물', '범죄' 가 상업 영화에 가깝다고 판단할 수 있습니다.\n",
    "\n",
    "1) 다큐멘터리의 경우, 사실적이고 정보 전달을 목적으로 하는 경우가 많으며, 이는 다큐멘터리가 예술적 표현보다는 정보 전달에 중점을 두고, 상업적 목적으로도 자주 사용된다는 것을 의미\n",
    "2) 애니메이션의 경우, 재미 요소가 포함된 상업을 목적으로 하는 영화가 많다는 의미\n",
    "3) 성인물과 범죄 또한 자극적인 요소가 포함된 상업을 목적으로 하는 영화가 많다는 의미\n",
    "\n",
    "음의 값에서, 다큐멘터리(상업)과 대조되는 '드라마', '뮤지컬', '사극' 은 예술 영화에 가깝다고 판단할 수 있습니다.\n",
    "1) 드라마, 뮤지컬, 사극 장르는 창의적인 연출, 완성도, 철학적 주제 등의 예술적 요소를 중요시 함. 상업적 오락성보다는 예술적 표현과 메시지 전달을 더 중시하여 예술 영화에 더 근접함을 의미\n",
    "\n",
    "\n"
   ]
  },
  {
   "cell_type": "code",
   "execution_count": 74,
   "id": "d870c4ee",
   "metadata": {},
   "outputs": [
    {
     "data": {
      "image/png": "[encoded data removed]",
      "text/plain": [
       "<Figure size 1296x1008 with 2 Axes>"
      ]
     },
     "metadata": {},
     "output_type": "display_data"
    }
   ],
   "source": [
    "import numpy as np\n",
    "import seaborn as sns\n",
    "import matplotlib.pyplot as plt\n",
    "\n",
    "# 한글 지원 폰트\n",
    "sns.set(font='NanumGothic')\n",
    "\n",
    "# 마이너스 부호 처리\n",
    "plt.rcParams['axes.unicode_minus'] = False\n",
    "\n",
    "# 매트릭스 크기 크게 설정 (figsize=(너비, 높이)로 조정 가능)\n",
    "plt.figure(figsize=(18, 14))  # 여기서 (12, 10)은 원하는 크기 값으로 변경 가능합니다.\n",
    "\n",
    "# 히트맵 그리기\n",
    "ax = sns.heatmap(matrix, xticklabels=genre_name, yticklabels=genre_name, annot=True, cmap='coolwarm')\n",
    "\n",
    "# 그래프 출력\n",
    "plt.show()\n"
   ]
  },
  {
   "cell_type": "markdown",
   "id": "0b9361aa",
   "metadata": {},
   "source": [
    "# 결과. HeatMap 해석하기"
   ]
  },
  {
   "cell_type": "markdown",
   "id": "5c7fc204",
   "metadata": {},
   "source": [
    "행을 기준으로 결과를 해석할 때,\n",
    "\n",
    "SF는 전체적으로 WEAT 점수가 낮아 푸른색을 띠며, 상업 영화라는 것을 의미함.\n",
    "반대로, 가족은 전반적으로 붉은 색을 띠고, 예술 영화라는 것을 의미함.\n",
    "\n",
    "기타, 다큐멘터리도 사실 정보 기반 장르로 위에서 점수 분석을 하며 설명했듯이 상업 영화라는 것을 의미.\n",
    "\n",
    "의외인 점은, 성인물 장르가 생각보다 붉은색을 띤다는 것.\n",
    "위에서 \" 멜로로맨스 - 성인물(에로): 1.1555755138397217 \" 은 압도적으로 예술 장르인 멜로로맨스와 비교해서 그렇지 예술 장르로도 많이 표현이 되는 것 같다."
   ]
  },
  {
   "cell_type": "markdown",
   "id": "923e684c",
   "metadata": {},
   "source": [
    "## PCA 로 나타내보기"
   ]
  },
  {
   "cell_type": "code",
   "execution_count": 75,
   "id": "9790304d",
   "metadata": {},
   "outputs": [
    {
     "data": {
      "image/png": "[encoded data removed]",
      "text/plain": [
       "<Figure size 864x720 with 1 Axes>"
      ]
     },
     "metadata": {},
     "output_type": "display_data"
    }
   ],
   "source": [
    "from sklearn.decomposition import PCA\n",
    "import numpy as np\n",
    "import matplotlib.pyplot as plt\n",
    "\n",
    "# PCA를 적용할 대상은 matrix에 저장된 WEAT score 결과입니다.\n",
    "# matrix에 있는 각 장르 사이의 관계를 2차원으로 축소합니다.\n",
    "pca = PCA(n_components=2)\n",
    "pca_result = pca.fit_transform(matrix)\n",
    "\n",
    "# 시각화를 위한 그래프 생성\n",
    "plt.figure(figsize=(12, 10))\n",
    "plt.scatter(pca_result[:, 0], pca_result[:, 1], c='blue', marker='o')\n",
    "\n",
    "# 각 장르 이름을 그래프에 표시\n",
    "for i, genre in enumerate(genre_name):\n",
    "    plt.text(pca_result[i, 0], pca_result[i, 1], genre, fontsize=12)\n",
    "\n",
    "# 그래프 출력\n",
    "plt.title(\"PCA Visualization of Genre Relationships Based on WEAT Score\")\n",
    "plt.xlabel(\"PCA Component 1\")\n",
    "plt.ylabel(\"PCA Component 2\")\n",
    "plt.grid(True)\n",
    "plt.show()\n"
   ]
  },
  {
   "cell_type": "markdown",
   "id": "79d6e596",
   "metadata": {},
   "source": [
    "하위 중앙부에는 '어드벤처','액션','코미디','판타지' 등의 상업적 영화가 주로 밀집해져있다.\n",
    "예술 영화에 가까운 '공연','가족','드라마','멜로로맨스' 등은 전체적으로 멀리 퍼져있다."
   ]
  },
  {
   "cell_type": "markdown",
   "id": "6a5ec298",
   "metadata": {},
   "source": [
    "# 회고"
   ]
  },
  {
   "cell_type": "markdown",
   "id": "e2d31b11",
   "metadata": {},
   "source": [
    "단어들의 평향성을 확인하고 이를 시각적으로 나타낼 수 있다는게 매우 유익했다.\n",
    "영화 장르가 아니라 노드에 나왔던 것처럼 사회적 편향을 담긴 데이터를 판단할 때는 더 유익하게 사용할 수 있을 것 같다."
   ]
  },
  {
   "cell_type": "code",
   "execution_count": null,
   "id": "628009ef",
   "metadata": {},
   "outputs": [],
   "source": []
  },
  {
   "cell_type": "code",
   "execution_count": null,
   "id": "60e32a52",
   "metadata": {},
   "outputs": [],
   "source": []
  },
  {
   "cell_type": "code",
   "execution_count": null,
   "id": "6083eb4d",
   "metadata": {},
   "outputs": [],
   "source": []
  },
  {
   "cell_type": "code",
   "execution_count": null,
   "id": "d5fc5bb3",
   "metadata": {},
   "outputs": [],
   "source": []
  }
 ],
 "metadata": {
  "kernelspec": {
   "display_name": "Python 3 (ipykernel)",
   "language": "python",
   "name": "python3"
  },
  "language_info": {
   "codemirror_mode": {
    "name": "ipython",
    "version": 3
   },
   "file_extension": ".py",
   "mimetype": "text/x-python",
   "name": "python",
   "nbconvert_exporter": "python",
   "pygments_lexer": "ipython3",
   "version": "3.9.7"
  }
 },
 "nbformat": 4,
 "nbformat_minor": 5
}
