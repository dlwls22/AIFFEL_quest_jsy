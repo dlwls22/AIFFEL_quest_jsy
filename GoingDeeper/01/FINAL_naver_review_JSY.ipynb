{
 "cells": [
  {
   "cell_type": "markdown",
   "id": "df79dcf5",
   "metadata": {},
   "source": [
    "## Quest 이해하기\n",
    "### SentencePiece와 sp_tokenize의 차이\n",
    "- SentencePiece : 기본적인 토크나이징 도구로, 문장을 서브워드 단위로 쪼개고, 이를 ID로 변환하거나 다시 문장으로 복원하는 기능 제공, 단순한 형태의 토크나이징 도구\n",
    "\n",
    "- sp_tokenize() : SentencePiece를 응용한 함수로, SentencePiece로 토큰화한 결과를 딥러닝 모델 학습에 적합한 형식으로 전처리,구체적으로는 텐서 형식으로 변환하고 패딩 처리를 추가하며, 단어와 ID 간의 **사전(word_index, index_word)**을 생성하는 기능을 추가로 수행\n",
    "  \n",
    "따라서 SentencePiece는 순수한 토크나이저 역할을 수행, sp_tokenize()는 SentencePiece를 활용하여 딥러닝 모델 학습에 필요한 전처리를 수행하는 함수"
   ]
  },
  {
   "cell_type": "markdown",
   "id": "ec003021",
   "metadata": {},
   "source": [
    "## 0. 라이브러리"
   ]
  },
  {
   "cell_type": "code",
   "execution_count": 1,
   "id": "6e87f9b9",
   "metadata": {},
   "outputs": [
    {
     "name": "stdout",
     "output_type": "stream",
     "text": [
      "2.6.0\n",
      "1.21.4\n",
      "3.4.3\n",
      "0.5.2\n"
     ]
    }
   ],
   "source": [
    "import tensorflow as tf\n",
    "import numpy as np\n",
    "import matplotlib as plt\n",
    "import konlpy\n",
    "import pandas\n",
    "import konlpy\n",
    "import gensim\n",
    "\n",
    "print(tf.__version__)\n",
    "print(np.__version__)\n",
    "print(plt.__version__)\n",
    "print(konlpy.__version__)"
   ]
  },
  {
   "cell_type": "markdown",
   "id": "1026ec70",
   "metadata": {},
   "source": [
    "## 1. 데이터 준비와 확인"
   ]
  },
  {
   "cell_type": "code",
   "execution_count": 2,
   "id": "713897d5",
   "metadata": {
    "scrolled": true
   },
   "outputs": [
    {
     "data": {
      "text/html": [
       "<div>\n",
       "<style scoped>\n",
       "    .dataframe tbody tr th:only-of-type {\n",
       "        vertical-align: middle;\n",
       "    }\n",
       "\n",
       "    .dataframe tbody tr th {\n",
       "        vertical-align: top;\n",
       "    }\n",
       "\n",
       "    .dataframe thead th {\n",
       "        text-align: right;\n",
       "    }\n",
       "</style>\n",
       "<table border=\"1\" class=\"dataframe\">\n",
       "  <thead>\n",
       "    <tr style=\"text-align: right;\">\n",
       "      <th></th>\n",
       "      <th>id</th>\n",
       "      <th>document</th>\n",
       "      <th>label</th>\n",
       "    </tr>\n",
       "  </thead>\n",
       "  <tbody>\n",
       "    <tr>\n",
       "      <th>0</th>\n",
       "      <td>9976970</td>\n",
       "      <td>아 더빙.. 진짜 짜증나네요 목소리</td>\n",
       "      <td>0</td>\n",
       "    </tr>\n",
       "    <tr>\n",
       "      <th>1</th>\n",
       "      <td>3819312</td>\n",
       "      <td>흠...포스터보고 초딩영화줄....오버연기조차 가볍지 않구나</td>\n",
       "      <td>1</td>\n",
       "    </tr>\n",
       "    <tr>\n",
       "      <th>2</th>\n",
       "      <td>10265843</td>\n",
       "      <td>너무재밓었다그래서보는것을추천한다</td>\n",
       "      <td>0</td>\n",
       "    </tr>\n",
       "    <tr>\n",
       "      <th>3</th>\n",
       "      <td>9045019</td>\n",
       "      <td>교도소 이야기구먼 ..솔직히 재미는 없다..평점 조정</td>\n",
       "      <td>0</td>\n",
       "    </tr>\n",
       "    <tr>\n",
       "      <th>4</th>\n",
       "      <td>6483659</td>\n",
       "      <td>사이몬페그의 익살스런 연기가 돋보였던 영화!스파이더맨에서 늙어보이기만 했던 커스틴 ...</td>\n",
       "      <td>1</td>\n",
       "    </tr>\n",
       "  </tbody>\n",
       "</table>\n",
       "</div>"
      ],
      "text/plain": [
       "         id                                           document  label\n",
       "0   9976970                                아 더빙.. 진짜 짜증나네요 목소리      0\n",
       "1   3819312                  흠...포스터보고 초딩영화줄....오버연기조차 가볍지 않구나      1\n",
       "2  10265843                                  너무재밓었다그래서보는것을추천한다      0\n",
       "3   9045019                      교도소 이야기구먼 ..솔직히 재미는 없다..평점 조정      0\n",
       "4   6483659  사이몬페그의 익살스런 연기가 돋보였던 영화!스파이더맨에서 늙어보이기만 했던 커스틴 ...      1"
      ]
     },
     "execution_count": 2,
     "metadata": {},
     "output_type": "execute_result"
    }
   ],
   "source": [
    "import pandas as pd\n",
    "\n",
    "# 데이터를 읽어봅시다. \n",
    "train_data = pd.read_table('~/aiffel/naver_review/ratings_train.txt')\n",
    "test_data = pd.read_table('~/aiffel/naver_review/ratings_test.txt')\n",
    "\n",
    "train_data.head()"
   ]
  },
  {
   "cell_type": "code",
   "execution_count": 3,
   "id": "b6d25d21",
   "metadata": {},
   "outputs": [
    {
     "data": {
      "text/html": [
       "<div>\n",
       "<style scoped>\n",
       "    .dataframe tbody tr th:only-of-type {\n",
       "        vertical-align: middle;\n",
       "    }\n",
       "\n",
       "    .dataframe tbody tr th {\n",
       "        vertical-align: top;\n",
       "    }\n",
       "\n",
       "    .dataframe thead th {\n",
       "        text-align: right;\n",
       "    }\n",
       "</style>\n",
       "<table border=\"1\" class=\"dataframe\">\n",
       "  <thead>\n",
       "    <tr style=\"text-align: right;\">\n",
       "      <th></th>\n",
       "      <th>id</th>\n",
       "      <th>document</th>\n",
       "      <th>label</th>\n",
       "    </tr>\n",
       "  </thead>\n",
       "  <tbody>\n",
       "    <tr>\n",
       "      <th>0</th>\n",
       "      <td>6270596</td>\n",
       "      <td>굳 ㅋ</td>\n",
       "      <td>1</td>\n",
       "    </tr>\n",
       "    <tr>\n",
       "      <th>1</th>\n",
       "      <td>9274899</td>\n",
       "      <td>GDNTOPCLASSINTHECLUB</td>\n",
       "      <td>0</td>\n",
       "    </tr>\n",
       "    <tr>\n",
       "      <th>2</th>\n",
       "      <td>8544678</td>\n",
       "      <td>뭐야 이 평점들은.... 나쁘진 않지만 10점 짜리는 더더욱 아니잖아</td>\n",
       "      <td>0</td>\n",
       "    </tr>\n",
       "    <tr>\n",
       "      <th>3</th>\n",
       "      <td>6825595</td>\n",
       "      <td>지루하지는 않은데 완전 막장임... 돈주고 보기에는....</td>\n",
       "      <td>0</td>\n",
       "    </tr>\n",
       "    <tr>\n",
       "      <th>4</th>\n",
       "      <td>6723715</td>\n",
       "      <td>3D만 아니었어도 별 다섯 개 줬을텐데.. 왜 3D로 나와서 제 심기를 불편하게 하죠??</td>\n",
       "      <td>0</td>\n",
       "    </tr>\n",
       "  </tbody>\n",
       "</table>\n",
       "</div>"
      ],
      "text/plain": [
       "        id                                           document  label\n",
       "0  6270596                                                굳 ㅋ      1\n",
       "1  9274899                               GDNTOPCLASSINTHECLUB      0\n",
       "2  8544678             뭐야 이 평점들은.... 나쁘진 않지만 10점 짜리는 더더욱 아니잖아      0\n",
       "3  6825595                   지루하지는 않은데 완전 막장임... 돈주고 보기에는....      0\n",
       "4  6723715  3D만 아니었어도 별 다섯 개 줬을텐데.. 왜 3D로 나와서 제 심기를 불편하게 하죠??      0"
      ]
     },
     "execution_count": 3,
     "metadata": {},
     "output_type": "execute_result"
    }
   ],
   "source": [
    "test_data.head()"
   ]
  },
  {
   "cell_type": "code",
   "execution_count": 4,
   "id": "a63fd263",
   "metadata": {},
   "outputs": [
    {
     "name": "stdout",
     "output_type": "stream",
     "text": [
      "훈련 데이터 개수: 150000\n",
      "테스터 데이터 개수: 50000\n"
     ]
    }
   ],
   "source": [
    "print(\"훈련 데이터 개수:\", len(train_data))\n",
    "print(\"테스터 데이터 개수:\", len(test_data))"
   ]
  },
  {
   "cell_type": "code",
   "execution_count": 5,
   "id": "92c62a09",
   "metadata": {},
   "outputs": [],
   "source": [
    "import os\n",
    "path_to_file = os.getenv('HOME')+'/aiffel/naver_review/ratings_train.txt'\n",
    "\n",
    "with open(path_to_file, \"r\") as f:\n",
    "    raw = f.read().splitlines()"
   ]
  },
  {
   "cell_type": "code",
   "execution_count": 6,
   "id": "2da35924",
   "metadata": {},
   "outputs": [
    {
     "name": "stdout",
     "output_type": "stream",
     "text": [
      "문장의 최단 길이: 8\n",
      "문장의 최장 길이: 168\n",
      "문장의 평균 길이: 45\n"
     ]
    },
    {
     "data": {
      "image/png": "[encoded data removed]",
      "text/plain": [
       "<Figure size 432x288 with 1 Axes>"
      ]
     },
     "metadata": {
      "needs_background": "light"
     },
     "output_type": "display_data"
    }
   ],
   "source": [
    "import matplotlib.pyplot as plt\n",
    "min_len = 999\n",
    "max_len = 0\n",
    "sum_len = 0\n",
    "\n",
    "for sen in raw:\n",
    "    length = len(sen)\n",
    "    if min_len > length: min_len = length\n",
    "    if max_len < length: max_len = length\n",
    "    sum_len += length\n",
    "\n",
    "print(\"문장의 최단 길이:\", min_len)\n",
    "print(\"문장의 최장 길이:\", max_len)\n",
    "print(\"문장의 평균 길이:\", sum_len // len(raw))\n",
    "\n",
    "sentence_length = np.zeros((max_len), dtype=int)\n",
    "\n",
    "for sen in raw:\n",
    "    sentence_length[len(sen)-1] += 1\n",
    "\n",
    "plt.bar(range(max_len), sentence_length, width=1.0)\n",
    "plt.title(\"Sentence Length Distribution\")\n",
    "plt.show()"
   ]
  },
  {
   "cell_type": "code",
   "execution_count": 7,
   "id": "6416335e",
   "metadata": {
    "scrolled": true
   },
   "outputs": [
    {
     "name": "stdout",
     "output_type": "stream",
     "text": [
      "164908\t재밌는데 별점이 왜이리 낮은고\t1\n",
      "10108387\t베댓이 말을 아주 잘써놨네\t1\n",
      "8513072\t재미있다고 허풍 떨지 마세요\t0\n",
      "6245450\t게이물인줄 모르고 봤네...\t0\n",
      "9829888\t유치하고 지루하고 잠이 왔다\t0\n",
      "8333987\t3류풍 판타지 3점만 가져가\t0\n",
      "81637\t광장한 작품 옛날것도 보고 싶다\t1\n",
      "8055931\t아진짜너무좋아요ㅜㅜ짱짱!!!\t1\n",
      "7303814\t나이들수록 이해가 가는 영화\t1\n",
      "10212408\t신선하네..,,..,,..\t0\n",
      "9244416\t나 이거 보고 인형 절대안삼\t1\n",
      "29672\t헐...남자몸매보면 기분 좋나?\t0\n",
      "9326219\t역시 한국영화는 보지말아야돼\t0\n",
      "8043001\t박사아들 정시현 정말 멋져요\t1\n",
      "7915590\t이거예전에나온거같은데 재미네\t1\n",
      "468899\t와아오 두근두근~ 익스트림자체\t1\n",
      "3044091\t우리나라 정서하고 안맞다`~\t0\n",
      "9991915\t보는내내 너무너무 재미있었음\t1\n",
      "9661317\t예원찡... 그만울어....\t1\n",
      "8929395\t이게 대체 무슨 내용이야;;\t0\n",
      "8825761\ttv 전기세가 아까웠다!!!\t0\n",
      "474835\t마지막이 좀황당했지만 좋은영화\t1\n",
      "9441920\t죠스,딥블루씨를 못따라감..\t0\n",
      "8092564\t아 진짜 너무 어이없다ㅋㅋㅋ\t0\n",
      "9950660\t내 생에 가장 아까운 2시간\t0\n",
      "10254587\t급식충들이나 물고 빨 영화\t0\n",
      "1152657\t기분 완전 상콤해지는데? ㅋ\t1\n",
      "10245134\t스타트랙보다100배재미있음\t1\n",
      "9722653\t이런건 보는거 아니야 ㅡㅡ^\t0\n",
      "7742318\t흔한 범죄자 미화 감성팔이물\t0\n",
      "10023116\t평점에 오류가 있는 영화다\t1\n",
      "8929687\t대박 꼭보세요 스릴감 액션굿\t1\n",
      "9127550\t여자비명소리 정말 거슬림..\t0\n",
      "9930651\t기분종게 웃겨주는 영화...\t1\n",
      "3289767\t뭔가 시사하는바가 있던 영화\t1\n",
      "7638020\t명작인데... 왜들 이러지?\t1\n",
      "3811331\t영화 최곤데 왜 그러지...\t1\n",
      "9351209\t돼지가 이렇게 멋질수가...\t1\n",
      "8711843\t엄청난 소름이 주는히치콕영화\t1\n",
      "8046974\t그냥 이연걸 영화 근데 비추\t0\n",
      "2804668\t평점높아서 밧더만 뉘미...\t0\n",
      "10251233\t우아한 공포영화를 본거같다\t1\n",
      "9906188\t프렌치 캉캉 춤이 참 외설적\t0\n",
      "9840283\t님들 무뇌 인것 같네요 노답\t0\n",
      "9307389\t감동의 명작 소장하고 있어요\t1\n",
      "707134\t잠깐 평점 조절좀 하겠습니다.\t0\n",
      "8712853\t이영화 뭐지 노잼 노잼 노잼\t0\n",
      "5950007\t이거 볼시간에 무한도전본다.\t0\n",
      "1383141\t남자 주인공 장승화인데...\t1\n",
      "2974731\t유니크하고 매력적인 영화^^\t1\n",
      "399859\t엔딩씬,음악외엔..상투적인..\t0\n",
      "6693184\t인간적으로 너무 재미없더라.\t0\n",
      "7837453\t쓰레기 드라마 OO천식 ㅉㅉ\t0\n",
      "8692160\tㅋㅋㅋ 어이없어 그저 웃지요\t0\n",
      "7101882\t정형화된 스릴러, 킬링타임용\t0\n",
      "6170932\t아...심각할정도 였음...\t0\n",
      "5536289\t만화책을 안봤으면 보지마시요\t0\n",
      "5866966\t부산은 왜 개봉 안..해요.\t1\n",
      "6153919\t의견을 존중하지 않겠습니다.\t0\n",
      "620265\t결혼하고 싶어 지는 영화 ㅎㅎ\t1\n",
      "7552798\t좋아요....슬프고...ㅠㅠ\t1\n",
      "6102099\t케이블이 공중파에 자리잡다.\t0\n",
      "8398680\t원주율 좀 만들어보자.,.,\t0\n",
      "1714361\t결국 종을 울리는 구나...\t1\n",
      "8751480\t답 안 나오는 영웅 서사시.\t0\n",
      "7150853\t아 진짜 재밌게 봤습니다♥♥\t1\n",
      "2527895\t화면과 소리만 좋음.그게 끝\t0\n",
      "3407342\t농담 따먹기 수준도 안 된다\t0\n",
      "9968790\t못해도8점은되야지7점은아닌듯\t1\n",
      "2630692\t여운이 오랫동안 남았던 영화\t1\n",
      "7129154\t이런 로드무비 완전 좋더라~\t1\n",
      "5229005\t한 번도 안놀래키는 공포영화\t0\n",
      "4491903\t최악의 영화란 이런 것...\t0\n",
      "7226053\t그냥 한마디할게요OO 보지마\t0\n",
      "3075102\t꿈을 먹고 삽시다 종은영화다\t1\n",
      "10265703\t연출완전신선 ㄷㄷ 핵꿀잼!\t1\n",
      "10243422\t상당히 고급진 에로 영화네\t1\n",
      "5162278\t아무리..저예산이라지만...\t0\n",
      "2365\t인물들 하나하나가 재미있는 영화~\t1\n",
      "867709\t해리슨 포드 이젠 한물 갔다.\t0\n",
      "10101918\t명불허전 서극의 숨은 명작\t1\n",
      "10265552\t정말 재미없고 유치하 영화\t0\n",
      "9246223\t유쾌한 영화 입니다. ㅎㅎㅎ\t1\n",
      "8398887\t이것도 후한 점수인것 같다.\t0\n",
      "340584\t모든 사람들 웃기만 했다...\t0\n",
      "8732056\t컴퓨터 전기세가 아깝다!!!\t0\n",
      "8459613\t정말 재미 있게 봤다. ㅎㅎ\t1\n",
      "10164248\t어우..지루의 끝판왕이네.\t0\n",
      "382706\t말도안되는 평점 1점도 아까워\t0\n",
      "2769119\t저예산 영화의 선전을 빈다.\t0\n",
      "6661777\t재방송을 봐도 잼있네요 ㅜㅜ\t1\n",
      "28942\t보면 볼 수록 또 보고싶은 작품\t1\n",
      "7904136\t나루토 극장판의 변비중 하나\t0\n",
      "7525356\t장선우의 관음증이 드러나..\t0\n",
      "10152039\t임권택영화는 졸라 재미없어\t0\n",
      "6567083\t가족들의 복수극 재미있습니다\t1\n",
      "3067508\t박중훈 너무 재미있어요 ㅋㅋ\t1\n",
      "10019734\t제 스타일은 아니였어요..\t0\n",
      "5227322\t프레데터라는 이름이 아깝다.\t0\n",
      "5259719\t귀신 OO라그래ㅋㅋ 졸라웃겨\t0\n",
      "7667488\t양아치들이 설치는게 재밌나?\t0\n"
     ]
    }
   ],
   "source": [
    "def check_sentence_with_length(raw, length):\n",
    "    count = 0\n",
    "    \n",
    "    for sen in raw:\n",
    "        if len(sen) == length:\n",
    "            print(sen)\n",
    "            count += 1\n",
    "            if count > 100: return\n",
    "\n",
    "check_sentence_with_length(raw, 25)"
   ]
  },
  {
   "cell_type": "code",
   "execution_count": 8,
   "id": "e76d19ba",
   "metadata": {
    "scrolled": true
   },
   "outputs": [
    {
     "name": "stdout",
     "output_type": "stream",
     "text": [
      "중복된 데이터의 수: 0\n",
      "중복된 데이터:\n",
      "Empty DataFrame\n",
      "Columns: [id, document, label]\n",
      "Index: []\n",
      "\n",
      "각 열에서 누락된 값의 수:\n",
      "id          0\n",
      "document    5\n",
      "label       0\n",
      "dtype: int64\n"
     ]
    }
   ],
   "source": [
    "import pandas as pd\n",
    "\n",
    "# 중복값 확인\n",
    "print(\"중복된 데이터의 수:\", train_data.duplicated().sum())\n",
    "\n",
    "# 중복된 데이터 출력 (중복된 행이 있는 경우)\n",
    "print(\"중복된 데이터:\")\n",
    "print(train_data[train_data.duplicated()])\n",
    "\n",
    "# 누락값(결측치) 확인\n",
    "print(\"\\n각 열에서 누락된 값의 수:\")\n",
    "print(train_data.isnull().sum())\n",
    "\n",
    "# 또는 아래 코드로도 누락값 확인 가능\n",
    "# print(train_data.isna().sum())"
   ]
  },
  {
   "cell_type": "code",
   "execution_count": 9,
   "id": "600bb729",
   "metadata": {
    "scrolled": true
   },
   "outputs": [
    {
     "name": "stdout",
     "output_type": "stream",
     "text": [
      "중복된 데이터의 수: 0\n",
      "중복된 데이터:\n",
      "Empty DataFrame\n",
      "Columns: [id, document, label]\n",
      "Index: []\n",
      "\n",
      "각 열에서 누락된 값의 수:\n",
      "id          0\n",
      "document    3\n",
      "label       0\n",
      "dtype: int64\n"
     ]
    }
   ],
   "source": [
    "print(\"중복된 데이터의 수:\", test_data.duplicated().sum())\n",
    "print(\"중복된 데이터:\")\n",
    "print(test_data[test_data.duplicated()])\n",
    "print(\"\\n각 열에서 누락된 값의 수:\")\n",
    "print(test_data.isnull().sum())"
   ]
  },
  {
   "cell_type": "code",
   "execution_count": 10,
   "id": "62d84c71",
   "metadata": {},
   "outputs": [
    {
     "name": "stdout",
     "output_type": "stream",
     "text": [
      "Data Size: 150001\n",
      "문장의 최단 길이: 8\n",
      "문장의 최장 길이: 168\n",
      "문장의 평균 길이: 45\n"
     ]
    },
    {
     "data": {
      "image/png": "[encoded data removed]",
      "text/plain": [
       "<Figure size 432x288 with 1 Axes>"
      ]
     },
     "metadata": {
      "needs_background": "light"
     },
     "output_type": "display_data"
    }
   ],
   "source": [
    "min_len = 999\n",
    "max_len = 0\n",
    "sum_len = 0\n",
    "\n",
    "cleaned_corpus = list(set(raw))  # set를 사용해서 중복을 제거합니다.\n",
    "print(\"Data Size:\", len(cleaned_corpus))\n",
    "\n",
    "for sen in cleaned_corpus:\n",
    "    length = len(sen)\n",
    "    if min_len > length: min_len = length\n",
    "    if max_len < length: max_len = length\n",
    "    sum_len += length\n",
    "\n",
    "print(\"문장의 최단 길이:\", min_len)\n",
    "print(\"문장의 최장 길이:\", max_len)\n",
    "print(\"문장의 평균 길이:\", sum_len // len(cleaned_corpus))\n",
    "\n",
    "sentence_length = np.zeros((max_len), dtype=int)\n",
    "\n",
    "for sen in cleaned_corpus:   # 중복이 제거된 코퍼스 기준\n",
    "    sentence_length[len(sen)-1] += 1\n",
    "\n",
    "plt.bar(range(max_len), sentence_length, width=1.0)\n",
    "plt.title(\"Sentence Length Distribution\")\n",
    "plt.show()"
   ]
  },
  {
   "cell_type": "code",
   "execution_count": 11,
   "id": "829ea06d",
   "metadata": {
    "scrolled": true
   },
   "outputs": [
    {
     "data": {
      "image/png": "[encoded data removed]",
      "text/plain": [
       "<Figure size 432x288 with 1 Axes>"
      ]
     },
     "metadata": {
      "needs_background": "light"
     },
     "output_type": "display_data"
    }
   ],
   "source": [
    "max_len = 60\n",
    "min_len = 10\n",
    "\n",
    "# 길이 조건에 맞는 문장만 선택합니다.\n",
    "filtered_corpus = [s for s in cleaned_corpus if (len(s) < max_len) & (len(s) >= min_len)]\n",
    "\n",
    "# 분포도를 다시 그려봅니다.\n",
    "sentence_length = np.zeros((max_len), dtype=int)\n",
    "\n",
    "for sen in filtered_corpus:\n",
    "    sentence_length[len(sen)-1] += 1\n",
    "\n",
    "plt.bar(range(max_len), sentence_length, width=1.0)\n",
    "plt.title(\"Sentence Length Distribution\")\n",
    "plt.show()"
   ]
  },
  {
   "cell_type": "code",
   "execution_count": 12,
   "id": "7c6afb85",
   "metadata": {
    "scrolled": true
   },
   "outputs": [
    {
     "name": "stdout",
     "output_type": "stream",
     "text": [
      "filtered_corpus 데이터 개수: 122909\n"
     ]
    }
   ],
   "source": [
    "print(\"filtered_corpus 데이터 개수:\", len(filtered_corpus))"
   ]
  },
  {
   "cell_type": "code",
   "execution_count": 13,
   "id": "b66a6ef8",
   "metadata": {},
   "outputs": [
    {
     "name": "stdout",
     "output_type": "stream",
     "text": [
      "filtered_corpus의 데이터 타입: <class 'list'>\n",
      "filtered_corpus의 첫 번째 요소 타입: <class 'str'>\n",
      "filtered_corpus의 길이: 122909\n",
      "filtered_corpus의 첫 5개 데이터: ['7588713\\t다큐멘터리도 이것보다는 재밌겠다...\\t0', '5340655\\t뭔가 감동적인걸 만드려 했겠지만, 연출 시나리오 연기 다 별로.\\t0', '9888837\\t시간 낭비 절대절대 보지마세요\\t0', '3087432\\t알려지지 않은 공포물의 걸작\\t1', '6846899\\t별로였다\\t0']\n"
     ]
    }
   ],
   "source": [
    "# filtered_corpus의 타입 확인\n",
    "print(\"filtered_corpus의 데이터 타입:\", type(filtered_corpus))\n",
    "\n",
    "# filtered_corpus의 첫 번째 요소의 타입 확인 (리스트 내부 데이터 확인)\n",
    "if len(filtered_corpus) > 0:\n",
    "    print(\"filtered_corpus의 첫 번째 요소 타입:\", type(filtered_corpus[0]))\n",
    "\n",
    "# filtered_corpus의 전체 길이 확인\n",
    "print(\"filtered_corpus의 길이:\", len(filtered_corpus))\n",
    "\n",
    "# filtered_corpus의 첫 5개 데이터를 확인\n",
    "print(\"filtered_corpus의 첫 5개 데이터:\", filtered_corpus[:5])"
   ]
  },
  {
   "cell_type": "code",
   "execution_count": 14,
   "id": "83d08182",
   "metadata": {},
   "outputs": [
    {
     "name": "stdout",
     "output_type": "stream",
     "text": [
      "        id                             document label\n",
      "0  7588713                 다큐멘터리도 이것보다는 재밌겠다...     0\n",
      "1  5340655  뭔가 감동적인걸 만드려 했겠지만, 연출 시나리오 연기 다 별로.     0\n",
      "2  9888837                     시간 낭비 절대절대 보지마세요     0\n",
      "3  3087432                      알려지지 않은 공포물의 걸작     1\n",
      "4  6846899                                 별로였다     0\n"
     ]
    }
   ],
   "source": [
    "# 탭 문자를 기준으로 문장과 라벨을 분리\n",
    "split_filtered_corpus = [s.split('\\t') for s in filtered_corpus]\n",
    "\n",
    "# 분리된 데이터에서 'document'와 'label'을 DataFrame으로 변환\n",
    "df_filtered_corpus = pd.DataFrame(split_filtered_corpus, columns=['id', 'document', 'label'])\n",
    "\n",
    "# 결과 출력\n",
    "print(df_filtered_corpus.head())\n"
   ]
  },
  {
   "cell_type": "markdown",
   "id": "25049c26",
   "metadata": {},
   "source": [
    "## Step 1. SentencePiece 설치하기"
   ]
  },
  {
   "cell_type": "code",
   "execution_count": 15,
   "id": "747ba925",
   "metadata": {},
   "outputs": [],
   "source": [
    "# $ pip install sentencepiece"
   ]
  },
  {
   "cell_type": "markdown",
   "id": "512c3200",
   "metadata": {},
   "source": [
    "## Step 2. SentencePiece 모델 학습"
   ]
  },
  {
   "cell_type": "markdown",
   "id": "c06ec68a",
   "metadata": {},
   "source": [
    "이 코드의 목적은 텍스트 데이터(문장으로 이루어진 코퍼스)를 숫자 벡터로 변환하고,\n",
    "이 벡터들을 모델 학습에 사용할 수 있는 형태로 전처리하는 것입니다.\n",
    "이를 위해 Keras의 **Tokenizer**와 **pad_sequences**를 사용하여 텍스트를 토큰화하고, 패딩 처리한 후에 반환하는 함수입니다."
   ]
  },
  {
   "cell_type": "code",
   "execution_count": 16,
   "id": "ba97305b",
   "metadata": {},
   "outputs": [],
   "source": [
    "def tokenize(corpus):  # corpus: Tokenized Sentence's List\n",
    "    tokenizer = tf.keras.preprocessing.text.Tokenizer(filters='')\n",
    "    tokenizer.fit_on_texts(corpus)\n",
    "\n",
    "    tensor = tokenizer.texts_to_sequences(corpus)\n",
    "\n",
    "    tensor = tf.keras.preprocessing.sequence.pad_sequences(tensor, padding='pre')\n",
    "\n",
    "    return tensor, tokenizer"
   ]
  },
  {
   "cell_type": "markdown",
   "id": "277d50e5",
   "metadata": {},
   "source": [
    "이 코드는 SentencePiece를 사용하여 텍스트 데이터를 토크나이징하기 위한 모델을 학습하는 과정입니다.\n",
    "SentencePiece는 주로 언어에 특화되지 않은 방식으로 텍스트 데이터를 처리할 때 사용됩니다.\n",
    "이를 통해 모델 학습에 필요한 서브워드 단위의 토큰을 생성할 수 있습니다.\n",
    "\n",
    "- temp_file은 임시 파일 경로를 지정합니다. 이 파일은 filtered_corpus에 있는 텍스트 데이터를 저장할 곳입니다.\n",
    "- os.getenv('HOME'): 사용자의 홈 디렉토리 경로를 불러옵니다.\n",
    "- korean-english-park.train.ko.temp: SentencePiece 학습을 위해 사용할 파일 이름입니다."
   ]
  },
  {
   "cell_type": "markdown",
   "id": "4b26dd2e",
   "metadata": {},
   "source": [
    "#### train_data를 토크나이징하기 위해 먼저 SentencePiece 모델을 학습시키는 것이 올바른 순서입니다.\n",
    "\n",
    "- SentencePiece 모델 학습:\n",
    "SentencePiece 모델을 학습시키는 것은 서브워드 단위의 어휘(vocabulary)를 생성하는 과정입니다.\n",
    "이 과정에서 **filtered_corpus**와 같은 텍스트 데이터를 사용하여, 주어진 코퍼스 내에서 자주 등장하는 단어 조각(서브워드)을 학습합니다.\n",
    "학습 결과로 model 파일과 vocab 파일이 생성되며, 이 파일들은 나중에 다른 텍스트 데이터를 토크나이징할 때 사용됩니다.\n",
    "\n",
    "- SentencePiece로 train_data 토크나이징:\n",
    "학습된 SentencePiece 모델(korean_spm.model)을 사용하여, 이후 train_data를 서브워드 단위로 토크나이징할 수 있습니다.\n",
    "train_data에 대한 토크나이징을 할 때는 학습된 모델을 불러와서 각 문장을 서브워드 ID로 변환하는 과정을 거칩니다. 이 서브워드 ID는 딥러닝 모델에서 학습할 수 있는 숫자 형태로 변환됩니다.\n",
    "\n",
    "### <전체 과정>\n",
    "- SentencePiece 모델 학습:\n",
    "filtered_corpus와 같은 데이터를 사용해 서브워드 사전을 생성합니다.\n",
    "학습 결과로 korean_spm.model과 korean_spm.vocab 파일이 생성됩니다.\n",
    "\n",
    "- train_data 토크나이징:\n",
    "학습된 SentencePiece 모델을 불러와서 train_data를 서브워드 ID로 변환합니다.\n",
    "이 과정에서 train_data는 서브워드 단위로 쪼개져서 숫자 벡터로 변환됩니다. 이 벡터는 딥러닝 모델의 입력으로 사용됩니다."
   ]
  },
  {
   "cell_type": "code",
   "execution_count": 17,
   "id": "3ff5e229",
   "metadata": {},
   "outputs": [
    {
     "name": "stderr",
     "output_type": "stream",
     "text": [
      "sentencepiece_trainer.cc(177) LOG(INFO) Running command: --input=/aiffel/aiffel/sp_tokenizer/data/korean-english-park.train.ko.temp --model_prefix=korean_spm --vocab_size=8000\n",
      "sentencepiece_trainer.cc(77) LOG(INFO) Starts training with : \n",
      "trainer_spec {\n",
      "  input: /aiffel/aiffel/sp_tokenizer/data/korean-english-park.train.ko.temp\n",
      "  input_format: \n",
      "  model_prefix: korean_spm\n",
      "  model_type: UNIGRAM\n",
      "  vocab_size: 8000\n",
      "  self_test_sample_size: 0\n",
      "  character_coverage: 0.9995\n",
      "  input_sentence_size: 0\n",
      "  shuffle_input_sentence: 1\n",
      "  seed_sentencepiece_size: 1000000\n",
      "  shrinking_factor: 0.75\n",
      "  max_sentence_length: 4192\n",
      "  num_threads: 16\n",
      "  num_sub_iterations: 2\n",
      "  max_sentencepiece_length: 16\n",
      "  split_by_unicode_script: 1\n",
      "  split_by_number: 1\n",
      "  split_by_whitespace: 1\n",
      "  split_digits: 0\n",
      "  treat_whitespace_as_suffix: 0\n",
      "  allow_whitespace_only_pieces: 0\n",
      "  required_chars: \n",
      "  byte_fallback: 0\n",
      "  vocabulary_output_piece_score: 1\n",
      "  train_extremely_large_corpus: 0\n",
      "  hard_vocab_limit: 1\n",
      "  use_all_vocab: 0\n",
      "  unk_id: 0\n",
      "  bos_id: 1\n",
      "  eos_id: 2\n",
      "  pad_id: -1\n",
      "  unk_piece: <unk>\n",
      "  bos_piece: <s>\n",
      "  eos_piece: </s>\n",
      "  pad_piece: <pad>\n",
      "  unk_surface:  ⁇ \n",
      "}\n",
      "normalizer_spec {\n",
      "  name: nmt_nfkc\n",
      "  add_dummy_prefix: 1\n",
      "  remove_extra_whitespaces: 1\n",
      "  escape_whitespaces: 1\n",
      "  normalization_rule_tsv: \n",
      "}\n",
      "denormalizer_spec {}\n",
      "trainer_interface.cc(329) LOG(INFO) SentenceIterator is not specified. Using MultiFileSentenceIterator.\n",
      "trainer_interface.cc(178) LOG(INFO) Loading corpus: /aiffel/aiffel/sp_tokenizer/data/korean-english-park.train.ko.temp\n",
      "trainer_interface.cc(385) LOG(INFO) Loaded all 122909 sentences\n",
      "trainer_interface.cc(400) LOG(INFO) Adding meta_piece: <unk>\n",
      "trainer_interface.cc(400) LOG(INFO) Adding meta_piece: <s>\n",
      "trainer_interface.cc(400) LOG(INFO) Adding meta_piece: </s>\n",
      "trainer_interface.cc(405) LOG(INFO) Normalizing sentences...\n",
      "trainer_interface.cc(466) LOG(INFO) all chars count=4268963\n",
      "trainer_interface.cc(477) LOG(INFO) Done: 99.95% characters are covered.\n",
      "trainer_interface.cc(487) LOG(INFO) Alphabet size=1631\n",
      "trainer_interface.cc(488) LOG(INFO) Final character coverage=0.9995\n",
      "trainer_interface.cc(520) LOG(INFO) Done! preprocessed 122909 sentences.\n",
      "unigram_model_trainer.cc(139) LOG(INFO) Making suffix array...\n",
      "unigram_model_trainer.cc(143) LOG(INFO) Extracting frequent sub strings...\n",
      "unigram_model_trainer.cc(194) LOG(INFO) Initialized 351770 seed sentencepieces\n",
      "trainer_interface.cc(526) LOG(INFO) Tokenizing input sentences with whitespace: 122909\n",
      "trainer_interface.cc(537) LOG(INFO) Done! 341220\n",
      "unigram_model_trainer.cc(489) LOG(INFO) Using 341220 sentences for EM training\n",
      "unigram_model_trainer.cc(505) LOG(INFO) EM sub_iter=0 size=168355 obj=15.2442 num_tokens=758318 num_tokens/piece=4.50428\n",
      "unigram_model_trainer.cc(505) LOG(INFO) EM sub_iter=1 size=152252 obj=14.1529 num_tokens=763826 num_tokens/piece=5.01685\n",
      "unigram_model_trainer.cc(505) LOG(INFO) EM sub_iter=0 size=114099 obj=14.2009 num_tokens=782392 num_tokens/piece=6.85713\n",
      "unigram_model_trainer.cc(505) LOG(INFO) EM sub_iter=1 size=113497 obj=14.1109 num_tokens=782866 num_tokens/piece=6.89768\n",
      "unigram_model_trainer.cc(505) LOG(INFO) EM sub_iter=0 size=85116 obj=14.2788 num_tokens=810199 num_tokens/piece=9.51876\n",
      "unigram_model_trainer.cc(505) LOG(INFO) EM sub_iter=1 size=85073 obj=14.1986 num_tokens=810592 num_tokens/piece=9.52819\n",
      "unigram_model_trainer.cc(505) LOG(INFO) EM sub_iter=0 size=63803 obj=14.3565 num_tokens=835208 num_tokens/piece=13.0904\n",
      "unigram_model_trainer.cc(505) LOG(INFO) EM sub_iter=1 size=63788 obj=14.291 num_tokens=835503 num_tokens/piece=13.0981\n",
      "unigram_model_trainer.cc(505) LOG(INFO) EM sub_iter=0 size=47841 obj=14.5003 num_tokens=865807 num_tokens/piece=18.0976\n",
      "unigram_model_trainer.cc(505) LOG(INFO) EM sub_iter=1 size=47840 obj=14.4416 num_tokens=865979 num_tokens/piece=18.1016\n",
      "unigram_model_trainer.cc(505) LOG(INFO) EM sub_iter=0 size=35880 obj=14.73 num_tokens=904653 num_tokens/piece=25.2133\n",
      "unigram_model_trainer.cc(505) LOG(INFO) EM sub_iter=1 size=35880 obj=14.6641 num_tokens=904903 num_tokens/piece=25.2203\n",
      "unigram_model_trainer.cc(505) LOG(INFO) EM sub_iter=0 size=26910 obj=15 num_tokens=948672 num_tokens/piece=35.2535\n",
      "unigram_model_trainer.cc(505) LOG(INFO) EM sub_iter=1 size=26910 obj=14.9271 num_tokens=949713 num_tokens/piece=35.2922\n",
      "unigram_model_trainer.cc(505) LOG(INFO) EM sub_iter=0 size=20182 obj=15.2854 num_tokens=1000288 num_tokens/piece=49.5634\n",
      "unigram_model_trainer.cc(505) LOG(INFO) EM sub_iter=1 size=20182 obj=15.1996 num_tokens=1000894 num_tokens/piece=49.5934\n",
      "unigram_model_trainer.cc(505) LOG(INFO) EM sub_iter=0 size=15136 obj=15.5771 num_tokens=1052373 num_tokens/piece=69.5278\n",
      "unigram_model_trainer.cc(505) LOG(INFO) EM sub_iter=1 size=15136 obj=15.4853 num_tokens=1052412 num_tokens/piece=69.5304\n",
      "unigram_model_trainer.cc(505) LOG(INFO) EM sub_iter=0 size=11352 obj=15.8842 num_tokens=1104685 num_tokens/piece=97.3119\n",
      "unigram_model_trainer.cc(505) LOG(INFO) EM sub_iter=1 size=11352 obj=15.788 num_tokens=1104700 num_tokens/piece=97.3132\n",
      "unigram_model_trainer.cc(505) LOG(INFO) EM sub_iter=0 size=8800 obj=16.1806 num_tokens=1148527 num_tokens/piece=130.514\n",
      "unigram_model_trainer.cc(505) LOG(INFO) EM sub_iter=1 size=8800 obj=16.093 num_tokens=1148641 num_tokens/piece=130.527\n",
      "trainer_interface.cc(615) LOG(INFO) Saving model: korean_spm.model\n",
      "trainer_interface.cc(626) LOG(INFO) Saving vocabs: korean_spm.vocab\n"
     ]
    },
    {
     "name": "stdout",
     "output_type": "stream",
     "text": [
      "-rw-r--r-- 1 root root 368613 Oct 11 07:53 korean_spm.model\r\n",
      "-rw-r--r-- 1 root root 138045 Oct 11 07:53 korean_spm.vocab\r\n"
     ]
    }
   ],
   "source": [
    "import sentencepiece as spm\n",
    "import os\n",
    "temp_file = os.getenv('HOME')+'/aiffel/sp_tokenizer/data/korean-english-park.train.ko.temp'\n",
    "\n",
    "vocab_size = 8000\n",
    "\n",
    "with open(temp_file, 'w') as f:\n",
    "    for row in filtered_corpus:   # 이전에 나왔던 정제했던 corpus를 활용해서 진행해야 합니다.\n",
    "        f.write(str(row) + '\\n')\n",
    "\n",
    "spm.SentencePieceTrainer.Train(\n",
    "    '--input={} --model_prefix=korean_spm --vocab_size={}'.format(temp_file, vocab_size)    \n",
    ")\n",
    "#위 Train에서  --model_type = unigram이 디폴트 적용되어 있습니다. --model_type = bpe로 옵션을 주어 변경할 수 있습니다.\n",
    "\n",
    "!ls -l korean_spm*"
   ]
  },
  {
   "cell_type": "code",
   "execution_count": 18,
   "id": "2e34b334",
   "metadata": {},
   "outputs": [
    {
     "name": "stdout",
     "output_type": "stream",
     "text": [
      "[2769, 16, 340, 26, 2504, 16, 148, 25, 6]\n",
      "['▁아버지', '가', '방', '에', '들어', '가', '신', '다', '.']\n",
      "아버지가방에들어가신다.\n"
     ]
    }
   ],
   "source": [
    "s = spm.SentencePieceProcessor()\n",
    "s.Load('korean_spm.model')\n",
    "\n",
    "# SentencePiece를 활용한 sentence -> encoding\n",
    "tokensIDs = s.EncodeAsIds('아버지가방에들어가신다.')\n",
    "print(tokensIDs)\n",
    "\n",
    "# SentencePiece를 활용한 sentence -> encoded pieces\n",
    "print(s.SampleEncodeAsPieces('아버지가방에들어가신다.',1, 0.0))\n",
    "\n",
    "# SentencePiece를 활용한 encoding -> sentence 복원\n",
    "print(s.DecodeIds(tokensIDs))"
   ]
  },
  {
   "cell_type": "markdown",
   "id": "732b546f",
   "metadata": {},
   "source": [
    "## Step 3. Tokenizer 함수 작성"
   ]
  },
  {
   "cell_type": "markdown",
   "id": "6030ef36",
   "metadata": {},
   "source": [
    "#### 우리는 위에서 훈련시킨 SentencePiece를 활용하여 위 함수와 유사한 기능을 하는 sp_tokenize() 함수를 정의할 겁니다. 하지만 SentencePiece가 동작하는 방식이 단순 토큰화와는 달라 완전히 동일하게는 정의하기 어렵습니다. 따라서 아래 조건을 만족하는 함수를 정의\n",
    "\n",
    "- 매개변수로 토큰화된 문장의 list를 전달하는 대신 온전한 문장의 list 를 전달\n",
    "\n",
    "- 생성된 vocab 파일을 읽어와 { <word> : <idx> } 형태를 가지는 word_index 사전과 { <idx> : <word>} 형태를 가지는 index_word 사전을 생성하고 함께 반환\n",
    "\n",
    "- 리턴값인 tensor 는 앞의 함수와 동일하게 토큰화한 후 Encoding된 문장. 바로 학습에 사용할 수 있게 Padding 필요"
   ]
  },
  {
   "cell_type": "code",
   "execution_count": 19,
   "id": "697dace6",
   "metadata": {},
   "outputs": [],
   "source": [
    "def sp_tokenize(s, corpus): \n",
    "\n",
    "    tensor = []\n",
    "\n",
    "    for sen in corpus:\n",
    "        tensor.append(s.EncodeAsIds(sen))\n",
    "\n",
    "    with open(\"./korean_spm.vocab\", 'r') as f:\n",
    "        vocab = f.readlines()\n",
    "\n",
    "    word_index = {}\n",
    "    index_word = {}\n",
    "\n",
    "    for idx, line in enumerate(vocab):\n",
    "        word = line.split(\"\\t\")[0]\n",
    "\n",
    "        word_index.update({word:idx})\n",
    "        index_word.update({idx:word})\n",
    "\n",
    "    tensor = tf.keras.preprocessing.sequence.pad_sequences(tensor, padding='pre')\n",
    "\n",
    "    return tensor, word_index, index_word"
   ]
  },
  {
   "cell_type": "markdown",
   "id": "77d0e3a3",
   "metadata": {},
   "source": [
    "### Step 4. 네이버 영화리뷰 감정 분석 문제에 SentencePiece 적용해 보기"
   ]
  },
  {
   "cell_type": "code",
   "execution_count": 20,
   "id": "804f0324",
   "metadata": {},
   "outputs": [
    {
     "name": "stdout",
     "output_type": "stream",
     "text": [
      "filtered_corpus 데이터를 filtered_corpus.txt 파일로 저장했습니다.\n"
     ]
    }
   ],
   "source": [
    "# filtered_corpus 데이터를 파일로 저장\n",
    "file_path = 'filtered_corpus.txt'\n",
    "\n",
    "# 파일에 코퍼스 저장\n",
    "with open(file_path, 'w') as f:\n",
    "    for review in filtered_corpus:  # filtered_corpus가 네이버 영화 리뷰 데이터셋으로 가정\n",
    "        f.write(review + '\\n')\n",
    "\n",
    "print(f\"filtered_corpus 데이터를 {file_path} 파일로 저장했습니다.\")\n",
    "\n",
    "\n"
   ]
  },
  {
   "cell_type": "code",
   "execution_count": 21,
   "id": "6ec1252f",
   "metadata": {},
   "outputs": [
    {
     "name": "stderr",
     "output_type": "stream",
     "text": [
      "sentencepiece_trainer.cc(177) LOG(INFO) Running command: --input=/aiffel/aiffel/sp_tokenizer/data/korean-english-park.train.ko.temp --model_prefix=korean_spm --vocab_size=8000\n",
      "sentencepiece_trainer.cc(77) LOG(INFO) Starts training with : \n",
      "trainer_spec {\n",
      "  input: /aiffel/aiffel/sp_tokenizer/data/korean-english-park.train.ko.temp\n",
      "  input_format: \n",
      "  model_prefix: korean_spm\n",
      "  model_type: UNIGRAM\n",
      "  vocab_size: 8000\n",
      "  self_test_sample_size: 0\n",
      "  character_coverage: 0.9995\n",
      "  input_sentence_size: 0\n",
      "  shuffle_input_sentence: 1\n",
      "  seed_sentencepiece_size: 1000000\n",
      "  shrinking_factor: 0.75\n",
      "  max_sentence_length: 4192\n",
      "  num_threads: 16\n",
      "  num_sub_iterations: 2\n",
      "  max_sentencepiece_length: 16\n",
      "  split_by_unicode_script: 1\n",
      "  split_by_number: 1\n",
      "  split_by_whitespace: 1\n",
      "  split_digits: 0\n",
      "  treat_whitespace_as_suffix: 0\n",
      "  allow_whitespace_only_pieces: 0\n",
      "  required_chars: \n",
      "  byte_fallback: 0\n",
      "  vocabulary_output_piece_score: 1\n",
      "  train_extremely_large_corpus: 0\n",
      "  hard_vocab_limit: 1\n",
      "  use_all_vocab: 0\n",
      "  unk_id: 0\n",
      "  bos_id: 1\n",
      "  eos_id: 2\n",
      "  pad_id: -1\n",
      "  unk_piece: <unk>\n",
      "  bos_piece: <s>\n",
      "  eos_piece: </s>\n",
      "  pad_piece: <pad>\n",
      "  unk_surface:  ⁇ \n",
      "}\n",
      "normalizer_spec {\n",
      "  name: nmt_nfkc\n",
      "  add_dummy_prefix: 1\n",
      "  remove_extra_whitespaces: 1\n",
      "  escape_whitespaces: 1\n",
      "  normalization_rule_tsv: \n",
      "}\n",
      "denormalizer_spec {}\n",
      "trainer_interface.cc(329) LOG(INFO) SentenceIterator is not specified. Using MultiFileSentenceIterator.\n",
      "trainer_interface.cc(178) LOG(INFO) Loading corpus: /aiffel/aiffel/sp_tokenizer/data/korean-english-park.train.ko.temp\n",
      "trainer_interface.cc(385) LOG(INFO) Loaded all 122909 sentences\n",
      "trainer_interface.cc(400) LOG(INFO) Adding meta_piece: <unk>\n",
      "trainer_interface.cc(400) LOG(INFO) Adding meta_piece: <s>\n",
      "trainer_interface.cc(400) LOG(INFO) Adding meta_piece: </s>\n",
      "trainer_interface.cc(405) LOG(INFO) Normalizing sentences...\n",
      "trainer_interface.cc(466) LOG(INFO) all chars count=4268963\n",
      "trainer_interface.cc(477) LOG(INFO) Done: 99.95% characters are covered.\n",
      "trainer_interface.cc(487) LOG(INFO) Alphabet size=1631\n",
      "trainer_interface.cc(488) LOG(INFO) Final character coverage=0.9995\n",
      "trainer_interface.cc(520) LOG(INFO) Done! preprocessed 122909 sentences.\n",
      "unigram_model_trainer.cc(139) LOG(INFO) Making suffix array...\n",
      "unigram_model_trainer.cc(143) LOG(INFO) Extracting frequent sub strings...\n",
      "unigram_model_trainer.cc(194) LOG(INFO) Initialized 351770 seed sentencepieces\n",
      "trainer_interface.cc(526) LOG(INFO) Tokenizing input sentences with whitespace: 122909\n",
      "trainer_interface.cc(537) LOG(INFO) Done! 341220\n",
      "unigram_model_trainer.cc(489) LOG(INFO) Using 341220 sentences for EM training\n",
      "unigram_model_trainer.cc(505) LOG(INFO) EM sub_iter=0 size=168355 obj=15.2442 num_tokens=758318 num_tokens/piece=4.50428\n",
      "unigram_model_trainer.cc(505) LOG(INFO) EM sub_iter=1 size=152252 obj=14.1529 num_tokens=763826 num_tokens/piece=5.01685\n",
      "unigram_model_trainer.cc(505) LOG(INFO) EM sub_iter=0 size=114099 obj=14.2009 num_tokens=782392 num_tokens/piece=6.85713\n",
      "unigram_model_trainer.cc(505) LOG(INFO) EM sub_iter=1 size=113497 obj=14.1109 num_tokens=782866 num_tokens/piece=6.89768\n",
      "unigram_model_trainer.cc(505) LOG(INFO) EM sub_iter=0 size=85116 obj=14.2788 num_tokens=810199 num_tokens/piece=9.51876\n",
      "unigram_model_trainer.cc(505) LOG(INFO) EM sub_iter=1 size=85073 obj=14.1986 num_tokens=810592 num_tokens/piece=9.52819\n",
      "unigram_model_trainer.cc(505) LOG(INFO) EM sub_iter=0 size=63803 obj=14.3565 num_tokens=835208 num_tokens/piece=13.0904\n",
      "unigram_model_trainer.cc(505) LOG(INFO) EM sub_iter=1 size=63788 obj=14.291 num_tokens=835503 num_tokens/piece=13.0981\n",
      "unigram_model_trainer.cc(505) LOG(INFO) EM sub_iter=0 size=47841 obj=14.5003 num_tokens=865807 num_tokens/piece=18.0976\n",
      "unigram_model_trainer.cc(505) LOG(INFO) EM sub_iter=1 size=47840 obj=14.4416 num_tokens=865979 num_tokens/piece=18.1016\n",
      "unigram_model_trainer.cc(505) LOG(INFO) EM sub_iter=0 size=35880 obj=14.73 num_tokens=904653 num_tokens/piece=25.2133\n",
      "unigram_model_trainer.cc(505) LOG(INFO) EM sub_iter=1 size=35880 obj=14.6641 num_tokens=904903 num_tokens/piece=25.2203\n",
      "unigram_model_trainer.cc(505) LOG(INFO) EM sub_iter=0 size=26910 obj=15 num_tokens=948672 num_tokens/piece=35.2535\n",
      "unigram_model_trainer.cc(505) LOG(INFO) EM sub_iter=1 size=26910 obj=14.9271 num_tokens=949713 num_tokens/piece=35.2922\n",
      "unigram_model_trainer.cc(505) LOG(INFO) EM sub_iter=0 size=20182 obj=15.2854 num_tokens=1000288 num_tokens/piece=49.5634\n",
      "unigram_model_trainer.cc(505) LOG(INFO) EM sub_iter=1 size=20182 obj=15.1996 num_tokens=1000894 num_tokens/piece=49.5934\n",
      "unigram_model_trainer.cc(505) LOG(INFO) EM sub_iter=0 size=15136 obj=15.5771 num_tokens=1052373 num_tokens/piece=69.5278\n",
      "unigram_model_trainer.cc(505) LOG(INFO) EM sub_iter=1 size=15136 obj=15.4853 num_tokens=1052412 num_tokens/piece=69.5304\n",
      "unigram_model_trainer.cc(505) LOG(INFO) EM sub_iter=0 size=11352 obj=15.8842 num_tokens=1104685 num_tokens/piece=97.3119\n",
      "unigram_model_trainer.cc(505) LOG(INFO) EM sub_iter=1 size=11352 obj=15.788 num_tokens=1104700 num_tokens/piece=97.3132\n",
      "unigram_model_trainer.cc(505) LOG(INFO) EM sub_iter=0 size=8800 obj=16.1806 num_tokens=1148527 num_tokens/piece=130.514\n",
      "unigram_model_trainer.cc(505) LOG(INFO) EM sub_iter=1 size=8800 obj=16.093 num_tokens=1148641 num_tokens/piece=130.527\n",
      "trainer_interface.cc(615) LOG(INFO) Saving model: korean_spm.model\n",
      "trainer_interface.cc(626) LOG(INFO) Saving vocabs: korean_spm.vocab\n"
     ]
    }
   ],
   "source": [
    "import sentencepiece as spm\n",
    "\n",
    "# SentencePiece 학습\n",
    "vocab_size = 8000  # 어휘 크기 설정\n",
    "spm.SentencePieceTrainer.Train(f'--input={temp_file} --model_prefix=korean_spm --vocab_size={vocab_size}')"
   ]
  },
  {
   "cell_type": "code",
   "execution_count": 22,
   "id": "b6405e73",
   "metadata": {},
   "outputs": [],
   "source": [
    "def sp_tokenize(corpus, model_path='korean_spm.model'):\n",
    "    # SentencePiece 모델 로드\n",
    "    s = spm.SentencePieceProcessor()\n",
    "    s.Load(model_path)\n",
    "    \n",
    "    # 텍스트를 서브워드 ID로 변환\n",
    "    tensor = [s.EncodeAsIds(sentence) for sentence in corpus]\n",
    "    \n",
    "    # 패딩 처리\n",
    "    tensor = tf.keras.preprocessing.sequence.pad_sequences(tensor, padding='pre')\n",
    "    \n",
    "    # 사전 생성\n",
    "    vocab = s.get_piece_size()\n",
    "    word_index = {s.IdToPiece(i): i for i in range(vocab)}\n",
    "    index_word = {i: s.IdToPiece(i) for i in range(vocab)}\n",
    "    \n",
    "    return tensor, word_index, index_word\n"
   ]
  },
  {
   "cell_type": "markdown",
   "id": "c45b001f",
   "metadata": {},
   "source": [
    "5. 영화리뷰 텍스트 감성분석하기\n",
    "5-6. 시퀀스 데이터를 다루는 RNN"
   ]
  },
  {
   "cell_type": "code",
   "execution_count": 23,
   "id": "e83e0c5e",
   "metadata": {},
   "outputs": [],
   "source": [
    "#vocab_size = 10  # 어휘 사전의 크기입니다(10개의 단어)\n",
    "#word_vector_dim = 4  # 단어 하나를 표현하는 임베딩 벡터의 차원수입니다. \n",
    "\n",
    "#model = tf.keras.Sequential()\n",
    "#model.add(tf.keras.layers.Embedding(vocab_size, word_vector_dim, input_shape=(None,)))\n",
    "#model.add(tf.keras.layers.LSTM(8))   # 가장 널리 쓰이는 RNN인 LSTM 레이어를 사용하였습니다. 이때 LSTM state 벡터의 차원수는 8로 하였습니다. (변경 가능)\n",
    "#model.add(tf.keras.layers.Dense(8, activation='relu'))\n",
    "#model.add(tf.keras.layers.Dense(1, activation='sigmoid'))  # 최종 출력은 긍정/부정을 나타내는 1dim 입니다.\n",
    "\n",
    "#model.summary()"
   ]
  },
  {
   "cell_type": "code",
   "execution_count": 24,
   "id": "499c13a7",
   "metadata": {},
   "outputs": [
    {
     "name": "stdout",
     "output_type": "stream",
     "text": [
      "정수로 변환할 수 없는 값들:\n",
      "        id  document  label\n",
      "34069  id  document  label\n"
     ]
    }
   ],
   "source": [
    "# 'label' 열에서 변환이 불가능한 값을 확인\n",
    "invalid_labels = df_filtered_corpus[~df_filtered_corpus['label'].str.isdigit()]\n",
    "print(\"정수로 변환할 수 없는 값들:\\n\", invalid_labels)"
   ]
  },
  {
   "cell_type": "code",
   "execution_count": 25,
   "id": "5dab6c15",
   "metadata": {},
   "outputs": [
    {
     "name": "stdout",
     "output_type": "stream",
     "text": [
      "int64\n"
     ]
    }
   ],
   "source": [
    "# 'label'이 숫자로 이루어진 데이터만 필터링\n",
    "df_filtered_corpus = df_filtered_corpus[df_filtered_corpus['label'].str.isdigit()]\n",
    "\n",
    "# 'label' 열을 정수형으로 변환\n",
    "df_filtered_corpus['label'] = df_filtered_corpus['label'].astype(int)\n",
    "\n",
    "# 변환 후 타입 확인\n",
    "print(df_filtered_corpus['label'].dtype)"
   ]
  },
  {
   "cell_type": "code",
   "execution_count": 26,
   "id": "cf293430",
   "metadata": {},
   "outputs": [
    {
     "name": "stdout",
     "output_type": "stream",
     "text": [
      "Epoch 1/5\n",
      "3073/3073 [==============================] - 27s 7ms/step - loss: 0.3847 - accuracy: 0.8221 - val_loss: 0.3386 - val_accuracy: 0.8491\n",
      "Epoch 2/5\n",
      "3073/3073 [==============================] - 22s 7ms/step - loss: 0.2969 - accuracy: 0.8711 - val_loss: 0.3306 - val_accuracy: 0.8542\n",
      "Epoch 3/5\n",
      "3073/3073 [==============================] - 22s 7ms/step - loss: 0.2540 - accuracy: 0.8917 - val_loss: 0.3468 - val_accuracy: 0.8505\n",
      "Epoch 4/5\n",
      "3073/3073 [==============================] - 22s 7ms/step - loss: 0.2120 - accuracy: 0.9120 - val_loss: 0.3843 - val_accuracy: 0.8499\n",
      "Epoch 5/5\n",
      "3073/3073 [==============================] - 22s 7ms/step - loss: 0.1692 - accuracy: 0.9319 - val_loss: 0.4355 - val_accuracy: 0.8387\n"
     ]
    },
    {
     "data": {
      "text/plain": [
       "<keras.callbacks.History at 0x795bab20fe80>"
      ]
     },
     "execution_count": 26,
     "metadata": {},
     "output_type": "execute_result"
    }
   ],
   "source": [
    "# 텍스트 데이터가 모두 문자열인지 확인하고, 문자열이 아닌 데이터를 제거 또는 처리\n",
    "corpus = [str(sentence) for sentence in df_filtered_corpus['document'].tolist() if isinstance(sentence, str)]\n",
    "train_labels=df_filtered_corpus['label']\n",
    "\n",
    "# 데이터 토크나이징\n",
    "train_tensor, word_index, index_word = sp_tokenize(corpus)  # 'document' 열에서 텍스트 추출 후 리스트로 변환\n",
    "\n",
    "# 모델 설계\n",
    "model = tf.keras.Sequential([\n",
    "    tf.keras.layers.Embedding(input_dim=len(word_index), output_dim=128),  # Embedding 레이어\n",
    "    tf.keras.layers.LSTM(64, return_sequences=True),  # 첫 번째 LSTM 레이어, 시퀀스 출력\n",
    "    tf.keras.layers.LSTM(32),  # 두 번째 LSTM 레이어\n",
    "    tf.keras.layers.Dense(32, activation='relu'),  # Dense 레이어 추가\n",
    "    tf.keras.layers.Dense(1, activation='sigmoid')  # 최종 출력\n",
    "])\n",
    "\n",
    "# 모델 컴파일 및 학습\n",
    "model.compile(optimizer='adam', loss='binary_crossentropy', metrics=['accuracy'])\n",
    "\n",
    "# 모델 학습\n",
    "model.fit(train_tensor, train_labels, epochs=5, batch_size=32, validation_split=0.2)"
   ]
  },
  {
   "cell_type": "code",
   "execution_count": 34,
   "id": "83876cd4",
   "metadata": {
    "scrolled": true
   },
   "outputs": [
    {
     "name": "stdout",
     "output_type": "stream",
     "text": [
      "1563/1563 [==============================] - 8s 4ms/step - loss: 0.4501 - accuracy: 0.8382\n",
      "테스트 데이터 손실(Loss): 0.45013946294784546\n",
      "테스트 데이터 정확도(Accuracy): 0.838230311870575\n"
     ]
    }
   ],
   "source": [
    "# 테스트 데이터 로드\n",
    "test_data = pd.read_table('~/aiffel/naver_review/ratings_test.txt')\n",
    "\n",
    "# NaN 값 제거\n",
    "test_data = test_data.dropna(subset=['document'])\n",
    "\n",
    "# 테스트 데이터의 텍스트와 레이블 분리\n",
    "test_corpus = [str(sentence) for sentence in test_data['document'].tolist() if isinstance(sentence, str)]\n",
    "test_labels = test_data['label'].astype(int)\n",
    "\n",
    "# 테스트 데이터 토크나이징 (훈련 시 사용한 동일한 sp_tokenize 함수 사용)\n",
    "test_tensor, _, _ = sp_tokenize(test_corpus)\n",
    "\n",
    "# 모델 성능 평가\n",
    "loss, accuracy = model.evaluate(test_tensor, test_labels, batch_size=32)\n",
    "\n",
    "# 평가 결과 출력\n",
    "print(f\"테스트 데이터 손실(Loss): {loss}\")\n",
    "print(f\"테스트 데이터 정확도(Accuracy): {accuracy}\")"
   ]
  },
  {
   "cell_type": "markdown",
   "id": "878fbd5f",
   "metadata": {},
   "source": [
    "## Q. test_data는 잘라야 하는가?"
   ]
  },
  {
   "cell_type": "markdown",
   "id": "ef1ce508",
   "metadata": {},
   "source": [
    "## Q. Test_data 불러왔는데 train_data가 로드되는 이유?"
   ]
  },
  {
   "cell_type": "code",
   "execution_count": 27,
   "id": "360718c1",
   "metadata": {},
   "outputs": [
    {
     "name": "stdout",
     "output_type": "stream",
     "text": [
      "Data Size: 50001\n",
      "Example:\n",
      ">> id\tdocument\tlabel\n",
      ">> 4174028\t별 재미도없는거 우려먹어 .... 챔프에서 방송 몇번했더라 ? ㅋㅋㅋㅋㅋㅋㅋㅋㅋㅋㅋ\t0\n",
      ">> 5017089\t셰익스피어는 셰익스피어고 이영화는 이영화.\t0\n",
      ">> 6335957\t여름이면 한결같이 생각나는 드라마\t1\n",
      ">> 5840383\t제시카 알바가 벗고 달려드는데 쌩까는게 말이 되냐?\t0\n"
     ]
    }
   ],
   "source": [
    "import os\n",
    "path_to_file = os.getenv('HOME')+'/aiffel/naver_review/ratings_test.txt'\n",
    "\n",
    "with open(path_to_file, \"r\") as f:\n",
    "    raw_test = f.read().splitlines()\n",
    "\n",
    "print(\"Data Size:\", len(raw_test))\n",
    "\n",
    "print(\"Example:\")\n",
    "for sen in raw_test[0:100][::20]: print(\">>\", sen)"
   ]
  },
  {
   "cell_type": "code",
   "execution_count": 28,
   "id": "194f55ee",
   "metadata": {},
   "outputs": [
    {
     "name": "stdout",
     "output_type": "stream",
     "text": [
      "문장의 최단 길이: 9\n",
      "문장의 최장 길이: 163\n",
      "문장의 평균 길이: 45\n"
     ]
    },
    {
     "data": {
      "image/png": "[encoded data removed]",
      "text/plain": [
       "<Figure size 432x288 with 1 Axes>"
      ]
     },
     "metadata": {
      "needs_background": "light"
     },
     "output_type": "display_data"
    }
   ],
   "source": [
    "min_len = 999\n",
    "max_len = 0\n",
    "sum_len = 0\n",
    "\n",
    "for sen in raw_test:\n",
    "    length = len(sen)\n",
    "    if min_len > length: min_len = length\n",
    "    if max_len < length: max_len = length\n",
    "    sum_len += length\n",
    "\n",
    "print(\"문장의 최단 길이:\", min_len)\n",
    "print(\"문장의 최장 길이:\", max_len)\n",
    "print(\"문장의 평균 길이:\", sum_len // len(raw_test))\n",
    "\n",
    "sentence_length = np.zeros((max_len), dtype=int)\n",
    "\n",
    "for sen in raw_test:\n",
    "    sentence_length[len(sen)-1] += 1\n",
    "\n",
    "plt.bar(range(max_len), sentence_length, width=1.0)\n",
    "plt.title(\"Sentence Length Distribution\")\n",
    "plt.show()"
   ]
  },
  {
   "cell_type": "code",
   "execution_count": 29,
   "id": "22ffda05",
   "metadata": {},
   "outputs": [
    {
     "data": {
      "image/png": "[encoded data removed]",
      "text/plain": [
       "<Figure size 432x288 with 1 Axes>"
      ]
     },
     "metadata": {
      "needs_background": "light"
     },
     "output_type": "display_data"
    }
   ],
   "source": [
    "max_len = 60\n",
    "min_len = 10\n",
    "\n",
    "# 길이 조건에 맞는 문장만 선택합니다.\n",
    "filtered_corpus_test = [s for s in cleaned_corpus if (len(s) < max_len) & (len(s) >= min_len)]\n",
    "\n",
    "# 분포도를 다시 그려봅니다.\n",
    "sentence_length = np.zeros((max_len), dtype=int)\n",
    "\n",
    "for sen in filtered_corpus_test:\n",
    "    sentence_length[len(sen)-1] += 1\n",
    "\n",
    "plt.bar(range(max_len), sentence_length, width=1.0)\n",
    "plt.title(\"Sentence Length Distribution\")\n",
    "plt.show()"
   ]
  },
  {
   "cell_type": "code",
   "execution_count": 30,
   "id": "228a089b",
   "metadata": {},
   "outputs": [
    {
     "name": "stdout",
     "output_type": "stream",
     "text": [
      "filtered_corpus_test 데이터 개수: 122909\n"
     ]
    }
   ],
   "source": [
    "print(\"filtered_corpus_test 데이터 개수:\", len(filtered_corpus_test))"
   ]
  },
  {
   "cell_type": "code",
   "execution_count": 31,
   "id": "f556982c",
   "metadata": {},
   "outputs": [
    {
     "name": "stdout",
     "output_type": "stream",
     "text": [
      "텍스트의 최소 길이 : 1\n",
      "텍스트의 최대 길이 : 42\n",
      "텍스트의 평균 길이 : 7.609896593795628\n"
     ]
    },
    {
     "data": {
      "image/png": "[encoded data removed]",
      "text/plain": [
       "<Figure size 432x288 with 1 Axes>"
      ]
     },
     "metadata": {
      "needs_background": "light"
     },
     "output_type": "display_data"
    },
    {
     "data": {
      "image/png": "[encoded data removed]",
      "text/plain": [
       "<Figure size 432x288 with 1 Axes>"
      ]
     },
     "metadata": {
      "needs_background": "light"
     },
     "output_type": "display_data"
    }
   ],
   "source": [
    "import matplotlib.pyplot as plt\n",
    "import numpy as np\n",
    "import pandas as pd\n",
    "\n",
    "# 테스트 데이터 로드\n",
    "test_data = pd.read_table('~/aiffel/naver_review/ratings_test.txt')\n",
    "\n",
    "# NaN 값 제거\n",
    "test_data = test_data.dropna(subset=['document'])\n",
    "\n",
    "# 길이 분포 계산 (test_data에서 'document' 열의 길이를 계산)\n",
    "text_len = [len(str(s).split()) for s in test_data['document']]\n",
    "\n",
    "# 텍스트 길이 통계 출력\n",
    "print('텍스트의 최소 길이 : {}'.format(np.min(text_len)))\n",
    "print('텍스트의 최대 길이 : {}'.format(np.max(text_len)))\n",
    "print('텍스트의 평균 길이 : {}'.format(np.mean(text_len)))\n",
    "\n",
    "# 박스플롯으로 길이 분포 시각화\n",
    "plt.subplot(1, 1, 1)\n",
    "plt.boxplot(text_len)\n",
    "plt.title('Document Length Distribution (Boxplot)')\n",
    "plt.tight_layout()\n",
    "plt.show()\n",
    "\n",
    "# 히스토그램으로 길이 분포 시각화\n",
    "plt.title('Document Length Distribution (Histogram)')\n",
    "plt.hist(text_len, bins=40)\n",
    "plt.xlabel('Length of Samples')\n",
    "plt.ylabel('Number of Samples')\n",
    "plt.show()\n"
   ]
  },
  {
   "cell_type": "code",
   "execution_count": 32,
   "id": "c40f7dc4",
   "metadata": {},
   "outputs": [
    {
     "name": "stdout",
     "output_type": "stream",
     "text": [
      "test_data의 개수: 49997\n"
     ]
    }
   ],
   "source": [
    "print(\"test_data의 개수:\", len(test_data))"
   ]
  },
  {
   "cell_type": "code",
   "execution_count": 33,
   "id": "f4a7c871",
   "metadata": {},
   "outputs": [],
   "source": [
    "max_len = 12"
   ]
  },
  {
   "cell_type": "markdown",
   "id": "9a36c363",
   "metadata": {},
   "source": [
    "## 회고\n",
    "이전에 딥러닝 톺아보기 노드에서 프로젝트를 완수하지 못했었는데 이번에는 sentencePiece로 바꾸는 것까지는 완성해서 조금은 발전한 것 같다.\n",
    "하지만, 아직 형태소 분석기로 성능 분석을 못해봐서 추가적으로 해봐야겠다.\n",
    "느낀점은, 학습햇던 대로 LSTM에서는 padding이 POST보다 PRE에 들어가야 중요한 뒷부분이 0으로 차지 않아 ACCURACY가 많이 향상된다는 것이다."
   ]
  },
  {
   "cell_type": "code",
   "execution_count": null,
   "id": "f03fc610",
   "metadata": {},
   "outputs": [],
   "source": []
  }
 ],
 "metadata": {
  "kernelspec": {
   "display_name": "Python 3 (ipykernel)",
   "language": "python",
   "name": "python3"
  },
  "language_info": {
   "codemirror_mode": {
    "name": "ipython",
    "version": 3
   },
   "file_extension": ".py",
   "mimetype": "text/x-python",
   "name": "python",
   "nbconvert_exporter": "python",
   "pygments_lexer": "ipython3",
   "version": "3.9.7"
  }
 },
 "nbformat": 4,
 "nbformat_minor": 5
}
