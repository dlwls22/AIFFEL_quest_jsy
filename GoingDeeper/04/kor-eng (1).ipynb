{
 "cells": [
  {
   "cell_type": "markdown",
   "id": "a0767db7",
   "metadata": {},
   "source": [
    "# 한영 번역기 만들기 Project"
   ]
  },
  {
   "cell_type": "markdown",
   "id": "b9fd3741",
   "metadata": {},
   "source": [
    "## 0. 라이브러리 버전 확인"
   ]
  },
  {
   "cell_type": "code",
   "execution_count": 1,
   "id": "0bac2201",
   "metadata": {},
   "outputs": [
    {
     "name": "stdout",
     "output_type": "stream",
     "text": [
      "2.6.0\n",
      "1.3.3\n",
      "2.6.0\n",
      "3.4.3\n"
     ]
    }
   ],
   "source": [
    "import pandas\n",
    "import tensorflow\n",
    "import matplotlib\n",
    "import tensorflow as tf\n",
    "import numpy as np\n",
    "\n",
    "from sklearn.model_selection import train_test_split\n",
    "\n",
    "import matplotlib.ticker as ticker\n",
    "import matplotlib.pyplot as plt\n",
    "import time\n",
    "import re\n",
    "import os\n",
    "import io\n",
    "\n",
    "print(tf.__version__)\n",
    "print(pandas.__version__)\n",
    "print(tensorflow.__version__)\n",
    "print(matplotlib.__version__)"
   ]
  },
  {
   "cell_type": "markdown",
   "id": "e47ac5fc",
   "metadata": {},
   "source": [
    "## 1. 데이터 가져오기"
   ]
  },
  {
   "cell_type": "code",
   "execution_count": 6,
   "id": "759341d1",
   "metadata": {},
   "outputs": [
    {
     "name": "stdout",
     "output_type": "stream",
     "text": [
      "Data Size: 94123\n",
      "Example:\n",
      ">> 개인용 컴퓨터 사용의 상당 부분은 \"이것보다 뛰어날 수 있느냐?\"\n",
      ">> 북한의 핵무기 계획을 포기하도록 하려는 압력이 거세지고 있는 가운데, 일본과 북한의 외교관들이 외교 관계를 정상화하려는 회담을 재개했다.\n",
      ">> \"경호 로보트가 침입자나 화재를 탐지하기 위해서 개인적으로, 그리고 전문적으로 사용되고 있습니다.\"\n",
      ">> 수자원부 당국은 논란이 되고 있고, 막대한 비용이 드는 이 사업에 대해 내년에 건설을 시작할 계획이다.\n",
      ">> 또한 근력 운동은 활발하게 걷는 것이나 최소한 20분 동안 뛰는 것과 같은 유산소 활동에서 얻는 운동 효과를 심장과 폐에 주지 않기 때문에, 연구학자들은 근력 운동이 심장에 큰 영향을 미치는지 여부에 대해 논쟁을 해왔다.\n"
     ]
    }
   ],
   "source": [
    "import os\n",
    "\n",
    "# 파일 경로 설정\n",
    "path_to_file = os.path.join('aiffel/korean-english', 'korean-english-park.train.ko')\n",
    "\n",
    "# 파일을 열고 데이터를 읽기\n",
    "with open(path_to_file, \"r\") as f:\n",
    "    raw = f.read().splitlines()\n",
    "\n",
    "print(\"Data Size:\", len(raw))\n",
    "print(\"Example:\")\n",
    "\n",
    "for sen in raw[0:100][::20]: print(\">>\", sen)\n"
   ]
  },
  {
   "cell_type": "code",
   "execution_count": 5,
   "id": "e7810b9c",
   "metadata": {},
   "outputs": [
    {
     "name": "stdout",
     "output_type": "stream",
     "text": [
      "Data Size: 94123\n",
      "Example:\n",
      ">> Much of personal computing is about \"can you top this?\"\n",
      ">> Amid mounting pressure on North Korea to abandon its nuclear weapons program Japanese and North Korean diplomats have resumed talks on normalizing diplomatic relations.\n",
      ">> “Guard robots are used privately and professionally to detect intruders or fire,” Karlsson said.\n",
      ">> Authorities from the Water Resources Ministry plan to begin construction next year on the controversial and hugely expensive project.\n",
      ">> Researchers also have debated whether weight-training has a big impact on the heart, since it does not give the heart and lungs the kind of workout they get from aerobic activities such as brisk walking or running for at least 20 minutes.\n"
     ]
    }
   ],
   "source": [
    "# 파일 경로 설정\n",
    "path_to_file = os.path.join('aiffel/korean-english', 'korean-english-park.train.en')\n",
    "\n",
    "# 파일을 열고 데이터를 읽기\n",
    "with open(path_to_file, \"r\") as f:\n",
    "    raw = f.read().splitlines()\n",
    "print(\"Data Size:\", len(raw))\n",
    "print(\"Example:\")\n",
    "\n",
    "for sen in raw[0:100][::20]: print(\">>\", sen)"
   ]
  },
  {
   "cell_type": "markdown",
   "id": "46ff6be2",
   "metadata": {},
   "source": [
    "# 2. 데이터 정제"
   ]
  },
  {
   "cell_type": "markdown",
   "id": "e6a990b5",
   "metadata": {},
   "source": [
    "### 2-1) 중복된 데이터 제거"
   ]
  },
  {
   "cell_type": "code",
   "execution_count": 9,
   "id": "88e43701",
   "metadata": {},
   "outputs": [
    {
     "name": "stdout",
     "output_type": "stream",
     "text": [
      "중복 제거 후 병렬 데이터의 총 문장 쌍 개수: 78941\n",
      "문장1:\n",
      "  한국어: 개방형 서비스 구조를 기반으로 현재 인터넷은 웹 2.0을 기반으로 하는 무료 정보가 많다.\n",
      "  영어: In the Web 2.0 world of ubiquitous, seamless, horizontal communication, information wants to be free.\n",
      "문장2:\n",
      "  한국어: 부시 대통령과 로라 부시 여사는 그를 유머, 지성, 우아함, 친절함으로 세상 사람들을 격려하는 '신뢰받는 대단한 여성'이라고 불렀다.\n",
      "  영어: President Bush and first lady Laura Bush called her a \"remarkable woman of faith\" who \"inspired people around the world with her humor, intelligence, elegance, and kindness.\n",
      "문장3:\n",
      "  한국어: 베네수엘라의 한 지식인은 “커뮤니케이션의 수단을 차단하는 것은 극악 무도한 행위”라며 정부를 비판했다.\n",
      "  영어: \"To close a means of communication is an inexcusable monstrosity.\n"
     ]
    }
   ],
   "source": [
    "import os\n",
    "\n",
    "# 한국어와 영어 파일 경로 설정\n",
    "path_to_korean_file = os.path.join('aiffel/korean-english', 'korean-english-park.train.ko')\n",
    "path_to_english_file = os.path.join('aiffel/korean-english', 'korean-english-park.train.en')\n",
    "\n",
    "# 한국어와 영어 문장을 병렬로 담을 리스트\n",
    "parallel_sentences = []\n",
    "\n",
    "# 두 파일을 동시에 읽어서 병렬 리스트로 결합\n",
    "with open(path_to_korean_file, 'r', encoding='utf-8') as kor_file, \\\n",
    "     open(path_to_english_file, 'r', encoding='utf-8') as eng_file:\n",
    "    \n",
    "    for kor_sentence, eng_sentence in zip(kor_file, eng_file):\n",
    "        # 각 문장을 strip()으로 앞뒤 공백 제거 후 병렬 리스트에 추가\n",
    "        parallel_sentences.append((kor_sentence.strip(), eng_sentence.strip()))\n",
    "\n",
    "# 병렬 리스트에서 중복을 제거하여 cleaned_corpus에 저장\n",
    "cleaned_corpus = list(set(parallel_sentences))\n",
    "\n",
    "# 중복 제거된 데이터의 총 문장 쌍 개수 출력\n",
    "print(f\"중복 제거 후 병렬 데이터의 총 문장 쌍 개수: {len(cleaned_corpus)}\")\n",
    "\n",
    "# 예시로 중복 제거된 병렬 데이터의 3개 문장 쌍 출력\n",
    "for i in range(min(3, len(cleaned_corpus))):  # 3개 또는 데이터의 크기만큼 출력\n",
    "    print(f\"문장{i+1}:\")\n",
    "    print(f\"  한국어: {cleaned_corpus[i][0]}\")\n",
    "    print(f\"  영어: {cleaned_corpus[i][1]}\")\n"
   ]
  },
  {
   "cell_type": "markdown",
   "id": "5387e49c",
   "metadata": {},
   "source": [
    "### 2-2) 한글용 전처리 함수 만들기, 토크나이저: Mecab 사용, start, end 토큰 붙이기"
   ]
  },
  {
   "cell_type": "code",
   "execution_count": 16,
   "id": "481badb2",
   "metadata": {},
   "outputs": [
    {
     "name": "stdout",
     "output_type": "stream",
     "text": [
      "문장1:\n",
      "['<start>', 'in', 'the', 'web', '.', 'world', 'of', 'ubiquitous', ',', 'seamless', ',', 'horizontal', 'communication', ',', 'information', 'wants', 'to', 'be', 'free', '.', '<end>']\n",
      "['<start>', '개방', '형', '서비스', '구조', '를', '기반', '으로', '현재', '인터넷', '은', '웹', '.', '을', '기반', '으로', '하', '는', '무료', '정보', '가', '많', '다', '.', '<end>']\n",
      "\n",
      "문장2:\n",
      "['<start>', 'president', 'bush', 'and', 'first', 'lady', 'laura', 'bush', 'called', 'her', 'a', 'remarkable', 'woman', 'of', 'faith', 'who', 'inspired', 'people', 'around', 'the', 'world', 'with', 'her', 'humor', ',', 'intelligence', ',', 'elegance', ',', 'and', 'kindness', '.', '<end>']\n",
      "['<start>', '부시', '대통령', '과', '로라', '부시', '여사', '는', '그', '를', '유머', ',', '지성', ',', '우아', '함', ',', '친절', '함', '으로', '세상', '사람', '들', '을', '격려', '하', '는', '신뢰', '받', '는', '대단', '한', '여성', '이', '라고', '불렀', '다', '.', '<end>']\n",
      "\n",
      "문장3:\n",
      "['<start>', 'to', 'close', 'a', 'means', 'of', 'communication', 'is', 'an', 'inexcusable', 'monstrosity', '.', '<end>']\n",
      "['<start>', '베네수엘라', '의', '한', '지식인', '은', '커뮤니케이션', '의', '수단', '을', '차단', '하', '는', '것', '은', '극악', '무도', '한', '행위', '라며', '정부', '를', '비판', '했', '다', '.', '<end>']\n",
      "\n",
      "문장4:\n",
      "['<start>', 'big', 'enough', 'to', 'cause', 'widespread', 'damage', 'and', 'death', 'only', 'about', 'once', 'every', ',', 'years', ',', 'the', 'destruction', 'would', 'be', 'so', 'extreme', 'that', 'nations', 'should', 'develop', 'a', 'joint', 'defense', 'against', 'asteroids', '.', '<end>']\n",
      "['<start>', '광범위', '한', '피해', '와', '사망자', '를', '발생', '시킬', '수', '있', '을', '만큼', '거대', '한', '우주', '암석', '이', '천', '년', '에', '겨우', '한', '번', '정도', '지구', '에', '충돌', '할', '것', '이', '지만', ',', '그', '파괴', '정도', '가', '아주', '극심', '할', '것', '이', '므로', '국가', '들', '은', '소행성', '들', '을', '막', '아', '낼', '합동', '방어', '수단', '을', '개발', '해야', '한다고', '전문가', '들', '은', '말', '한다', '.', '<end>']\n",
      "\n",
      "문장5:\n",
      "['<start>', 'most', 'other', 'national', 'polls', 'show', 'obama', 'with', 'a', 'lead', 'ranging', 'between', 'points', 'and', 'double', 'digits', '.', '<end>']\n",
      "['<start>', '대부분', '의', '다른', '미', '전국', '여론', '조사', '는', '오바마', '후보', '가', '포인트', '에서', '두', '자리', '수', '사이', '정도', '로', '매케인', '후보', '와', '격차', '를', '유지', '하', '고', '있', '는', '것', '으로', '나타났', '다', '.', '<end>']\n",
      "\n"
     ]
    }
   ],
   "source": [
    "import re\n",
    "from konlpy.tag import Mecab\n",
    "\n",
    "# KoNLPy의 mecab 객체 생성\n",
    "mecab = Mecab()\n",
    "\n",
    "def preprocess_sentence(sentence, s_token=False, e_token=False, lang='en'):\n",
    "    sentence = sentence.lower().strip()\n",
    "\n",
    "    if lang == 'en':\n",
    "        # 영어 문장 처리\n",
    "        sentence = re.sub(r\"([?.!,])\", r\" \\1 \", sentence)  # 문장 부호 앞뒤에 공백 추가\n",
    "        sentence = re.sub(r'[\" \"]+', \" \", sentence)  # 다중 공백을 단일 공백으로 변경\n",
    "        sentence = re.sub(r\"[^a-zA-Z?.!,]+\", \" \", sentence)  # 알파벳과 문장 부호를 제외한 문자를 제거\n",
    "\n",
    "        sentence = sentence.strip()\n",
    "\n",
    "        if s_token:\n",
    "            sentence = '<start> ' + sentence\n",
    "        if e_token:\n",
    "            sentence += ' <end>'\n",
    "\n",
    "        # 영어 문장은 split()을 사용하여 토큰화\n",
    "        return sentence.split()\n",
    "\n",
    "    elif lang == 'ko':\n",
    "        # 한글 문장 처리\n",
    "        sentence = re.sub(r\"[^가-힣?.!,]+\", \" \", sentence)  # 한글, 문장 부호 외의 문자 제거\n",
    "        sentence = sentence.strip()\n",
    "\n",
    "        # 한글 문장은 KoNLPy의 mecab을 사용하여 토큰화\n",
    "        tokens = mecab.morphs(sentence)\n",
    "\n",
    "        if s_token:\n",
    "            tokens = ['<start>'] + tokens\n",
    "        if e_token:\n",
    "            tokens.append('<end>')\n",
    "\n",
    "        return tokens\n",
    "\n",
    "# 실제 데이터에서 5개의 예시를 가져와 처리하는 코드\n",
    "for i in range(5):\n",
    "    korean_sentence = cleaned_corpus[i][0]\n",
    "    english_sentence = cleaned_corpus[i][1]\n",
    "    \n",
    "    print(f\"문장{i+1}:\")\n",
    "    print(preprocess_sentence(english_sentence, s_token=True, e_token=True, lang='en'))\n",
    "    print(preprocess_sentence(korean_sentence, s_token=True, e_token=True, lang='ko'))\n",
    "    print()  # 줄 바꿈\n"
   ]
  },
  {
   "cell_type": "markdown",
   "id": "36081d84",
   "metadata": {},
   "source": [
    "### 2-3) 토큰 길이 40 이하만 남겨두기"
   ]
  },
  {
   "cell_type": "code",
   "execution_count": 17,
   "id": "b0d6bde9",
   "metadata": {},
   "outputs": [
    {
     "name": "stdout",
     "output_type": "stream",
     "text": [
      "토큰의 길이가 40 이하인 문장 수: 60799\n",
      "조건을 만족하는 영어 문장 수: 60799\n",
      "조건을 만족하는 한국어 문장 수: 60799\n",
      "영어 문장 예시: ['<start>', 'in', 'the', 'web', '.', 'world', 'of', 'ubiquitous', ',', 'seamless', ',', 'horizontal', 'communication', ',', 'information', 'wants', 'to', 'be', 'free', '.', '<end>']\n",
      "한국어 문장 예시: ['<start>', '개방', '형', '서비스', '구조', '를', '기반', '으로', '현재', '인터넷', '은', '웹', '.', '을', '기반', '으로', '하', '는', '무료', '정보', '가', '많', '다', '.', '<end>']\n"
     ]
    }
   ],
   "source": [
    "# 영어와 한국어 문장의 길이가 40 이하인 데이터만 선별하여 eng_corpus와 kor_corpus에 저장\n",
    "eng_corpus = []\n",
    "kor_corpus = []\n",
    "\n",
    "# 조건을 만족하는 문장 개수 카운트\n",
    "count = 0\n",
    "\n",
    "# cleaned_corpus의 모든 문장을 검사하여 조건에 맞는 문장만 선별\n",
    "for kor_sentence, eng_sentence in cleaned_corpus:\n",
    "    # 각각의 문장을 전처리하여 토큰화\n",
    "    eng_tokens = preprocess_sentence(eng_sentence, s_token=True, e_token=True, lang='en')\n",
    "    kor_tokens = preprocess_sentence(kor_sentence, s_token=True, e_token=True, lang='ko')\n",
    "    \n",
    "    # 토큰 길이가 40 이하인 경우만 저장\n",
    "    if len(eng_tokens) <= 40 and len(kor_tokens) <= 40:\n",
    "        eng_corpus.append(eng_tokens)\n",
    "        kor_corpus.append(kor_tokens)\n",
    "        count += 1  # 조건을 만족하는 문장 개수 증가\n",
    "\n",
    "# 결과 출력\n",
    "print(f\"토큰의 길이가 40 이하인 문장 수: {count}\")\n",
    "print(f\"조건을 만족하는 영어 문장 수: {len(eng_corpus)}\")\n",
    "print(f\"조건을 만족하는 한국어 문장 수: {len(kor_corpus)}\")\n",
    "\n",
    "# 예시 출력\n",
    "print(\"영어 문장 예시:\", eng_corpus[0])\n",
    "print(\"한국어 문장 예시:\", kor_corpus[0])\n"
   ]
  },
  {
   "cell_type": "markdown",
   "id": "70bdfac8",
   "metadata": {},
   "source": [
    "## 3. 데이터 토큰화"
   ]
  },
  {
   "cell_type": "code",
   "execution_count": 25,
   "id": "fb4e17ef",
   "metadata": {},
   "outputs": [
    {
     "name": "stdout",
     "output_type": "stream",
     "text": [
      "영어 토큰화 후 텐서 shape: (60799, 40)\n",
      "한국어 토큰화 후 텐서 shape: (60799, 40)\n",
      "영어 문장 예시 텐서: [    0     0     0     0     0     0     0     0     0     0     0     0\n",
      "     0     0     0     0     0     0     0     3     9     1   473     2\n",
      "    84     7 10536     5 18347     5 13152  3010     5   426   647     6\n",
      "    29   412     2     4]\n",
      "한국어 문장 예시 텐서: [   0    0    0    0    0    0    0    0    0    0    0    0    0    0\n",
      "    0    1 2450  731  635  441   12 1796   21  141  371    9  543    3\n",
      "    7 1796   21   13    6 2366  317   15  122    4    3    2]\n",
      "영어 단어 집합 크기: 37767\n",
      "한국어 단어 집합 크기: 36339\n"
     ]
    }
   ],
   "source": [
    "import tensorflow as tf\n",
    "\n",
    "def tokenize(corpus):\n",
    "    # Tokenizer 생성, 단어 필터링 없이 전체 텍스트에 맞춰 단어를 처리\n",
    "    tokenizer = tf.keras.preprocessing.text.Tokenizer(filters='')\n",
    "    tokenizer.fit_on_texts(corpus)\n",
    "\n",
    "    # 텍스트를 시퀀스로 변환\n",
    "    tensor = tokenizer.texts_to_sequences(corpus)\n",
    "\n",
    "    # 시퀀스 길이를 맞추기 위해 padding 처리\n",
    "    tensor = tf.keras.preprocessing.sequence.pad_sequences(tensor, padding='pre')\n",
    "\n",
    "    return tensor, tokenizer\n",
    "\n",
    "# 영어와 한국어 코퍼스를 각각 텐서로 변환하고, 토크나이저 얻기\n",
    "dec_tensor, dec_tokenizer = tokenize(eng_corpus)\n",
    "enc_tensor, enc_tokenizer = tokenize(kor_corpus)\n",
    "\n",
    "# 결과 출력\n",
    "print(f\"영어 토큰화 후 텐서 shape: {eng_tensor.shape}\")\n",
    "print(f\"한국어 토큰화 후 텐서 shape: {kor_tensor.shape}\")\n",
    "\n",
    "# 예시로 첫 번째 텐서 출력\n",
    "print(\"영어 문장 예시 텐서:\", eng_tensor[0])\n",
    "print(\"한국어 문장 예시 텐서:\", kor_tensor[0])\n",
    "\n",
    "# 토크나이저 단어 수 확인 (단어 수는 적어도 10,000 이상)\n",
    "print(f\"영어 단어 집합 크기: {len(eng_tokenizer.word_index) + 1}\")  # +1은 패딩을 위한 0 인덱스\n",
    "print(f\"한국어 단어 집합 크기: {len(kor_tokenizer.word_index) + 1}\")\n"
   ]
  },
  {
   "cell_type": "markdown",
   "id": "f586d5a0",
   "metadata": {},
   "source": [
    "### 결과를 보고나서의 궁금증.\n",
    "다른 그루분은 vocab size를 약 1만 오천개로 하였는데 vocab size가 3만 7천개인게 오히려 성능을 감소시킨거였을까?\n",
    "이전에 vocab size 별로 성능 비교를 했을 때 큰 차이가 안나고, 오히려 1만개 이하로 했을 때는 성능이 감소해서 전체 단어를 사용하였는데\n",
    "추가적 실험으로 검증이 필요할 것 같다......"
   ]
  },
  {
   "cell_type": "markdown",
   "id": "c0be9ccc",
   "metadata": {},
   "source": [
    "## 4. 모델 설계"
   ]
  },
  {
   "cell_type": "code",
   "execution_count": 26,
   "id": "f4052652",
   "metadata": {},
   "outputs": [],
   "source": [
    "class BahdanauAttention(tf.keras.layers.Layer):\n",
    "    def __init__(self, units):\n",
    "        super(BahdanauAttention, self).__init__()\n",
    "        self.w_dec = tf.keras.layers.Dense(units)\n",
    "        self.w_enc = tf.keras.layers.Dense(units)\n",
    "        self.w_com = tf.keras.layers.Dense(1)\n",
    "    \n",
    "    def call(self, h_enc, h_dec):\n",
    "        # h_enc shape: [batch x length x units]\n",
    "        # h_dec shape: [batch x units]\n",
    "\n",
    "        h_enc = self.w_enc(h_enc)\n",
    "        h_dec = tf.expand_dims(h_dec, 1)\n",
    "        h_dec = self.w_dec(h_dec)\n",
    "\n",
    "        score = self.w_com(tf.nn.tanh(h_dec + h_enc))\n",
    "        \n",
    "        attn = tf.nn.softmax(score, axis=1)\n",
    "\n",
    "        context_vec = attn * h_enc\n",
    "        context_vec = tf.reduce_sum(context_vec, axis=1)\n",
    "\n",
    "        return context_vec, attn"
   ]
  },
  {
   "cell_type": "code",
   "execution_count": 27,
   "id": "29aa06a1",
   "metadata": {},
   "outputs": [],
   "source": [
    "class Encoder(tf.keras.Model):\n",
    "    def __init__(self, vocab_size, embedding_dim, enc_units):\n",
    "        super(Encoder, self).__init__()\n",
    "        \n",
    "        self.enc_units = enc_units\n",
    "        self.embedding = tf.keras.layers.Embedding(vocab_size, embedding_dim)\n",
    "        self.gru = tf.keras.layers.GRU(enc_units,\n",
    "                                       return_sequences=True)\n",
    "        \n",
    "    def call(self, x):\n",
    "        out = self.embedding(x)\n",
    "        out = self.gru(out)\n",
    "        \n",
    "        return out"
   ]
  },
  {
   "cell_type": "code",
   "execution_count": 28,
   "id": "71c0859c",
   "metadata": {},
   "outputs": [],
   "source": [
    "class Decoder(tf.keras.Model):\n",
    "    def __init__(self, vocab_size, embedding_dim, dec_units):\n",
    "        super(Decoder, self).__init__()\n",
    "        self.dec_units = dec_units\n",
    "        self.embedding = tf.keras.layers.Embedding(vocab_size, embedding_dim)\n",
    "        self.gru = tf.keras.layers.GRU(dec_units,\n",
    "                                       return_sequences=True,\n",
    "                                       return_state=True)\n",
    "        self.fc = tf.keras.layers.Dense(vocab_size)\n",
    "\n",
    "        self.attention = BahdanauAttention(self.dec_units)\n",
    "\n",
    "    def call(self, x, h_dec, enc_out):\n",
    "        context_vec, attn = self.attention(enc_out, h_dec)\n",
    "\n",
    "        out = self.embedding(x)\n",
    "        out = tf.concat([tf.expand_dims(context_vec, 1), out], axis=-1)\n",
    "        \n",
    "        out, h_dec = self.gru(out)\n",
    "        out = tf.reshape(out, (-1, out.shape[2]))\n",
    "        out = self.fc(out)\n",
    "\n",
    "        return out, h_dec, attn"
   ]
  },
  {
   "cell_type": "code",
   "execution_count": 35,
   "id": "c82df77b",
   "metadata": {},
   "outputs": [
    {
     "name": "stdout",
     "output_type": "stream",
     "text": [
      "Encoder Output: (32, 30, 512)\n",
      "Decoder Output: (32, 37767)\n",
      "Decoder Hidden State: (32, 512)\n",
      "Attention: (32, 30, 1)\n"
     ]
    }
   ],
   "source": [
    "# 코드를 실행하세요.\n",
    "\n",
    "BATCH_SIZE     = 32\n",
    "SRC_VOCAB_SIZE = len(enc_tokenizer.index_word) + 1\n",
    "TGT_VOCAB_SIZE = len(dec_tokenizer.index_word) + 1\n",
    "\n",
    "units         = 512\n",
    "embedding_dim = 512\n",
    "\n",
    "encoder = Encoder(SRC_VOCAB_SIZE, embedding_dim, units)\n",
    "decoder = Decoder(TGT_VOCAB_SIZE, embedding_dim, units)\n",
    "\n",
    "# sample input\n",
    "sequence_len = 30\n",
    "\n",
    "sample_enc = tf.random.uniform((BATCH_SIZE, sequence_len))\n",
    "sample_output = encoder(sample_enc)\n",
    "\n",
    "print ('Encoder Output:', sample_output.shape)\n",
    "\n",
    "sample_state = tf.random.uniform((BATCH_SIZE, units))\n",
    "\n",
    "sample_logits, h_dec, attn = decoder(tf.random.uniform((BATCH_SIZE, 1)),\n",
    "                                     sample_state, sample_output)\n",
    "\n",
    "print ('Decoder Output:', sample_logits.shape)\n",
    "print ('Decoder Hidden State:', h_dec.shape)\n",
    "print ('Attention:', attn.shape)"
   ]
  },
  {
   "cell_type": "markdown",
   "id": "5f63c233",
   "metadata": {},
   "source": [
    "### 실험할 수 있는 것들\n",
    "1. dropout 추가하기\n",
    "2. Embedding Size\n",
    "3. Hidden Size\n",
    "\n",
    "오류 발생 사항\n",
    "GPU 용량 문제로 BATCH SIZE = 64 -> 32로 감소\n",
    "32 선정 이유: BATCH SIZE는 GPU의 메모리 시스템은 2의 거듭제곱 크기 단위로 데이터를 처리하는 데 최적화되어 있어, 64보다 작은 32로 선정\n",
    "UNITS : 1024 -> 512로 선정"
   ]
  },
  {
   "cell_type": "markdown",
   "id": "1e56576e",
   "metadata": {},
   "source": [
    "### (1) Optimizer & Loss"
   ]
  },
  {
   "cell_type": "code",
   "execution_count": 36,
   "id": "5ac1e81c",
   "metadata": {},
   "outputs": [],
   "source": [
    "optimizer = tf.keras.optimizers.Adam()\n",
    "loss_object = tf.keras.losses.SparseCategoricalCrossentropy(\n",
    "    from_logits=True, reduction='none')\n",
    "\n",
    "def loss_function(real, pred):\n",
    "    mask = tf.math.logical_not(tf.math.equal(real, 0))\n",
    "    loss = loss_object(real, pred)\n",
    "    \n",
    "    mask = tf.cast(mask, dtype=loss.dtype)\n",
    "    loss *= mask\n",
    "    \n",
    "    return tf.reduce_mean(loss)"
   ]
  },
  {
   "cell_type": "markdown",
   "id": "2d930e17",
   "metadata": {},
   "source": [
    "### (2) train_step 구현하기"
   ]
  },
  {
   "cell_type": "code",
   "execution_count": 37,
   "id": "5bff6d91",
   "metadata": {},
   "outputs": [],
   "source": [
    "@tf.function\n",
    "def train_step(src, tgt, encoder, decoder, optimizer, dec_tok):\n",
    "    bsz = src.shape[0]\n",
    "    loss = 0\n",
    "\n",
    "    with tf.GradientTape() as tape:\n",
    "        enc_out = encoder(src)\n",
    "        h_dec = enc_out[:, -1]\n",
    "        \n",
    "        dec_src = tf.expand_dims([dec_tok.word_index['<start>']] * bsz, 1)\n",
    "\n",
    "        for t in range(1, tgt.shape[1]):\n",
    "            pred, h_dec, _ = decoder(dec_src, h_dec, enc_out)\n",
    "\n",
    "            loss += loss_function(tgt[:, t], pred)\n",
    "            dec_src = tf.expand_dims(tgt[:, t], 1)\n",
    "        \n",
    "    batch_loss = (loss / int(tgt.shape[1]))\n",
    "\n",
    "    variables = encoder.trainable_variables + decoder.trainable_variables\n",
    "    gradients = tape.gradient(loss, variables)\n",
    "    optimizer.apply_gradients(zip(gradients, variables))\n",
    "    \n",
    "    return batch_loss"
   ]
  },
  {
   "cell_type": "markdown",
   "id": "4b5cfee0",
   "metadata": {},
   "source": [
    "### (3) 훈련 시작하기"
   ]
  },
  {
   "cell_type": "code",
   "execution_count": 38,
   "id": "5b0a0e4d",
   "metadata": {
    "scrolled": true
   },
   "outputs": [
    {
     "name": "stderr",
     "output_type": "stream",
     "text": [
      "Epoch  1: 100%|██████████| 1900/1900 [07:09<00:00,  4.43it/s, Loss 4.1018]\n",
      "Epoch  2: 100%|██████████| 1900/1900 [06:05<00:00,  5.20it/s, Loss 4.0723]\n",
      "Epoch  3: 100%|██████████| 1900/1900 [06:05<00:00,  5.20it/s, Loss 4.0732]\n",
      "Epoch  4: 100%|██████████| 1900/1900 [06:05<00:00,  5.20it/s, Loss 4.0739]\n",
      "Epoch  5: 100%|██████████| 1900/1900 [06:05<00:00,  5.20it/s, Loss 4.0736]\n",
      "Epoch  6: 100%|██████████| 1900/1900 [06:05<00:00,  5.20it/s, Loss 4.0737]\n",
      "Epoch  7: 100%|██████████| 1900/1900 [06:05<00:00,  5.20it/s, Loss 4.0738]\n",
      "Epoch  8: 100%|██████████| 1900/1900 [06:05<00:00,  5.20it/s, Loss 4.0736]\n",
      "Epoch  9: 100%|██████████| 1900/1900 [06:05<00:00,  5.20it/s, Loss 4.0738]\n",
      "Epoch 10: 100%|██████████| 1900/1900 [06:05<00:00,  5.20it/s, Loss 4.0741]\n"
     ]
    }
   ],
   "source": [
    "from tqdm import tqdm    # tqdm\n",
    "import random\n",
    "\n",
    "EPOCHS = 10\n",
    "\n",
    "for epoch in range(EPOCHS):\n",
    "    total_loss = 0\n",
    "    \n",
    "    idx_list = list(range(0, enc_tensor.shape[0], BATCH_SIZE))\n",
    "    random.shuffle(idx_list)\n",
    "    t = tqdm(idx_list)    # tqdm\n",
    "\n",
    "    for (batch, idx) in enumerate(t):\n",
    "        batch_loss = train_step(enc_tensor[idx:idx+BATCH_SIZE],\n",
    "                                dec_tensor[idx:idx+BATCH_SIZE],\n",
    "                                encoder,\n",
    "                                decoder,\n",
    "                                optimizer,\n",
    "                                dec_tokenizer)\n",
    "    \n",
    "        total_loss += batch_loss\n",
    "        \n",
    "        t.set_description_str('Epoch %2d' % (epoch + 1))    # tqdm\n",
    "        t.set_postfix_str('Loss %.4f' % (total_loss.numpy() / (batch + 1)))    # tqdm"
   ]
  },
  {
   "cell_type": "code",
   "execution_count": 47,
   "id": "3e08f8d8",
   "metadata": {},
   "outputs": [
    {
     "ename": "KeyboardInterrupt",
     "evalue": "",
     "output_type": "error",
     "traceback": [
      "\u001b[0;31m---------------------------------------------------------------------------\u001b[0m",
      "\u001b[0;31mKeyboardInterrupt\u001b[0m                         Traceback (most recent call last)",
      "\u001b[0;32m/tmp/ipykernel_125/1847371063.py\u001b[0m in \u001b[0;36m<module>\u001b[0;34m\u001b[0m\n\u001b[1;32m     36\u001b[0m \u001b[0;34m\u001b[0m\u001b[0m\n\u001b[1;32m     37\u001b[0m \u001b[0;31m# 훈련이 끝난 후, 정확도 계산\u001b[0m\u001b[0;34m\u001b[0m\u001b[0;34m\u001b[0m\u001b[0m\n\u001b[0;32m---> 38\u001b[0;31m \u001b[0maccuracy\u001b[0m \u001b[0;34m=\u001b[0m \u001b[0mevaluate_accuracy\u001b[0m\u001b[0;34m(\u001b[0m\u001b[0mencoder\u001b[0m\u001b[0;34m,\u001b[0m \u001b[0mdecoder\u001b[0m\u001b[0;34m,\u001b[0m \u001b[0menc_tensor\u001b[0m\u001b[0;34m,\u001b[0m \u001b[0mdec_tensor\u001b[0m\u001b[0;34m,\u001b[0m \u001b[0mBATCH_SIZE\u001b[0m\u001b[0;34m,\u001b[0m \u001b[0menc_tokenizer\u001b[0m\u001b[0;34m,\u001b[0m \u001b[0mdec_tokenizer\u001b[0m\u001b[0;34m)\u001b[0m\u001b[0;34m\u001b[0m\u001b[0;34m\u001b[0m\u001b[0m\n\u001b[0m\u001b[1;32m     39\u001b[0m \u001b[0mprint\u001b[0m\u001b[0;34m(\u001b[0m\u001b[0;34mf\"훈련 후 정확도: {accuracy.numpy():.4f}\"\u001b[0m\u001b[0;34m)\u001b[0m\u001b[0;34m\u001b[0m\u001b[0;34m\u001b[0m\u001b[0m\n",
      "\u001b[0;32m/tmp/ipykernel_125/1847371063.py\u001b[0m in \u001b[0;36mevaluate_accuracy\u001b[0;34m(encoder, decoder, enc_tensor, dec_tensor, BATCH_SIZE, enc_tokenizer, dec_tokenizer)\u001b[0m\n\u001b[1;32m     27\u001b[0m         \u001b[0;32mfor\u001b[0m \u001b[0mt\u001b[0m \u001b[0;32min\u001b[0m \u001b[0mrange\u001b[0m\u001b[0;34m(\u001b[0m\u001b[0;36m1\u001b[0m\u001b[0;34m,\u001b[0m \u001b[0mtgt\u001b[0m\u001b[0;34m.\u001b[0m\u001b[0mshape\u001b[0m\u001b[0;34m[\u001b[0m\u001b[0;36m1\u001b[0m\u001b[0;34m]\u001b[0m\u001b[0;34m)\u001b[0m\u001b[0;34m:\u001b[0m\u001b[0;34m\u001b[0m\u001b[0;34m\u001b[0m\u001b[0m\n\u001b[1;32m     28\u001b[0m             \u001b[0mpred\u001b[0m\u001b[0;34m,\u001b[0m \u001b[0mh_dec\u001b[0m\u001b[0;34m,\u001b[0m \u001b[0m_\u001b[0m \u001b[0;34m=\u001b[0m \u001b[0mdecoder\u001b[0m\u001b[0;34m(\u001b[0m\u001b[0mdec_src\u001b[0m\u001b[0;34m,\u001b[0m \u001b[0mh_dec\u001b[0m\u001b[0;34m,\u001b[0m \u001b[0menc_out\u001b[0m\u001b[0;34m)\u001b[0m\u001b[0;34m\u001b[0m\u001b[0;34m\u001b[0m\u001b[0m\n\u001b[0;32m---> 29\u001b[0;31m             \u001b[0mbatch_accuracy\u001b[0m \u001b[0;34m+=\u001b[0m \u001b[0mcalculate_accuracy\u001b[0m\u001b[0;34m(\u001b[0m\u001b[0mtgt\u001b[0m\u001b[0;34m[\u001b[0m\u001b[0;34m:\u001b[0m\u001b[0;34m,\u001b[0m \u001b[0mt\u001b[0m\u001b[0;34m]\u001b[0m\u001b[0;34m,\u001b[0m \u001b[0mpred\u001b[0m\u001b[0;34m)\u001b[0m\u001b[0;34m\u001b[0m\u001b[0;34m\u001b[0m\u001b[0m\n\u001b[0m\u001b[1;32m     30\u001b[0m             \u001b[0mdec_src\u001b[0m \u001b[0;34m=\u001b[0m \u001b[0mtf\u001b[0m\u001b[0;34m.\u001b[0m\u001b[0mexpand_dims\u001b[0m\u001b[0;34m(\u001b[0m\u001b[0mtgt\u001b[0m\u001b[0;34m[\u001b[0m\u001b[0;34m:\u001b[0m\u001b[0;34m,\u001b[0m \u001b[0mt\u001b[0m\u001b[0;34m]\u001b[0m\u001b[0;34m,\u001b[0m \u001b[0;36m1\u001b[0m\u001b[0;34m)\u001b[0m\u001b[0;34m\u001b[0m\u001b[0;34m\u001b[0m\u001b[0m\n\u001b[1;32m     31\u001b[0m \u001b[0;34m\u001b[0m\u001b[0m\n",
      "\u001b[0;32m/tmp/ipykernel_125/1847371063.py\u001b[0m in \u001b[0;36mcalculate_accuracy\u001b[0;34m(tgt, pred)\u001b[0m\n\u001b[1;32m      5\u001b[0m \u001b[0;34m\u001b[0m\u001b[0m\n\u001b[1;32m      6\u001b[0m     \u001b[0;31m# tgt와 pred_ids가 일치하는지 확인하고, 일치하는지 여부를 1과 0으로 반환\u001b[0m\u001b[0;34m\u001b[0m\u001b[0;34m\u001b[0m\u001b[0m\n\u001b[0;32m----> 7\u001b[0;31m     \u001b[0maccuracy\u001b[0m \u001b[0;34m=\u001b[0m \u001b[0mtf\u001b[0m\u001b[0;34m.\u001b[0m\u001b[0mreduce_mean\u001b[0m\u001b[0;34m(\u001b[0m\u001b[0mtf\u001b[0m\u001b[0;34m.\u001b[0m\u001b[0mcast\u001b[0m\u001b[0;34m(\u001b[0m\u001b[0mtf\u001b[0m\u001b[0;34m.\u001b[0m\u001b[0mequal\u001b[0m\u001b[0;34m(\u001b[0m\u001b[0mtgt\u001b[0m\u001b[0;34m,\u001b[0m \u001b[0mpred_ids\u001b[0m\u001b[0;34m)\u001b[0m\u001b[0;34m,\u001b[0m \u001b[0mdtype\u001b[0m\u001b[0;34m=\u001b[0m\u001b[0mtf\u001b[0m\u001b[0;34m.\u001b[0m\u001b[0mfloat32\u001b[0m\u001b[0;34m)\u001b[0m\u001b[0;34m)\u001b[0m\u001b[0;34m\u001b[0m\u001b[0;34m\u001b[0m\u001b[0m\n\u001b[0m\u001b[1;32m      8\u001b[0m     \u001b[0;32mreturn\u001b[0m \u001b[0maccuracy\u001b[0m\u001b[0;34m\u001b[0m\u001b[0;34m\u001b[0m\u001b[0m\n\u001b[1;32m      9\u001b[0m \u001b[0;34m\u001b[0m\u001b[0m\n",
      "\u001b[0;32m/opt/conda/lib/python3.9/site-packages/tensorflow/python/util/dispatch.py\u001b[0m in \u001b[0;36mwrapper\u001b[0;34m(*args, **kwargs)\u001b[0m\n\u001b[1;32m    204\u001b[0m     \u001b[0;34m\"\"\"Call target, and fall back on dispatchers if there is a TypeError.\"\"\"\u001b[0m\u001b[0;34m\u001b[0m\u001b[0;34m\u001b[0m\u001b[0m\n\u001b[1;32m    205\u001b[0m     \u001b[0;32mtry\u001b[0m\u001b[0;34m:\u001b[0m\u001b[0;34m\u001b[0m\u001b[0;34m\u001b[0m\u001b[0m\n\u001b[0;32m--> 206\u001b[0;31m       \u001b[0;32mreturn\u001b[0m \u001b[0mtarget\u001b[0m\u001b[0;34m(\u001b[0m\u001b[0;34m*\u001b[0m\u001b[0margs\u001b[0m\u001b[0;34m,\u001b[0m \u001b[0;34m**\u001b[0m\u001b[0mkwargs\u001b[0m\u001b[0;34m)\u001b[0m\u001b[0;34m\u001b[0m\u001b[0;34m\u001b[0m\u001b[0m\n\u001b[0m\u001b[1;32m    207\u001b[0m     \u001b[0;32mexcept\u001b[0m \u001b[0;34m(\u001b[0m\u001b[0mTypeError\u001b[0m\u001b[0;34m,\u001b[0m \u001b[0mValueError\u001b[0m\u001b[0;34m)\u001b[0m\u001b[0;34m:\u001b[0m\u001b[0;34m\u001b[0m\u001b[0;34m\u001b[0m\u001b[0m\n\u001b[1;32m    208\u001b[0m       \u001b[0;31m# Note: convert_to_eager_tensor currently raises a ValueError, not a\u001b[0m\u001b[0;34m\u001b[0m\u001b[0;34m\u001b[0m\u001b[0m\n",
      "\u001b[0;32m/opt/conda/lib/python3.9/site-packages/tensorflow/python/ops/math_ops.py\u001b[0m in \u001b[0;36mequal\u001b[0;34m(x, y, name)\u001b[0m\n\u001b[1;32m   1862\u001b[0m     \u001b[0;31m`\u001b[0m\u001b[0mtf\u001b[0m\u001b[0;34m.\u001b[0m\u001b[0merrors\u001b[0m\u001b[0;34m.\u001b[0m\u001b[0mInvalidArgumentError\u001b[0m\u001b[0;31m`\u001b[0m\u001b[0;34m:\u001b[0m \u001b[0mIf\u001b[0m \u001b[0mshapes\u001b[0m \u001b[0mof\u001b[0m \u001b[0marguments\u001b[0m \u001b[0mare\u001b[0m \u001b[0mincompatible\u001b[0m\u001b[0;34m\u001b[0m\u001b[0;34m\u001b[0m\u001b[0m\n\u001b[1;32m   1863\u001b[0m   \"\"\"\n\u001b[0;32m-> 1864\u001b[0;31m   \u001b[0;32mreturn\u001b[0m \u001b[0mgen_math_ops\u001b[0m\u001b[0;34m.\u001b[0m\u001b[0mequal\u001b[0m\u001b[0;34m(\u001b[0m\u001b[0mx\u001b[0m\u001b[0;34m,\u001b[0m \u001b[0my\u001b[0m\u001b[0;34m,\u001b[0m \u001b[0mname\u001b[0m\u001b[0;34m=\u001b[0m\u001b[0mname\u001b[0m\u001b[0;34m)\u001b[0m\u001b[0;34m\u001b[0m\u001b[0;34m\u001b[0m\u001b[0m\n\u001b[0m\u001b[1;32m   1865\u001b[0m \u001b[0;34m\u001b[0m\u001b[0m\n\u001b[1;32m   1866\u001b[0m \u001b[0;34m\u001b[0m\u001b[0m\n",
      "\u001b[0;32m/opt/conda/lib/python3.9/site-packages/tensorflow/python/ops/gen_math_ops.py\u001b[0m in \u001b[0;36mequal\u001b[0;34m(x, y, incompatible_shape_error, name)\u001b[0m\n\u001b[1;32m   3197\u001b[0m   \u001b[0;32mif\u001b[0m \u001b[0mtld\u001b[0m\u001b[0;34m.\u001b[0m\u001b[0mis_eager\u001b[0m\u001b[0;34m:\u001b[0m\u001b[0;34m\u001b[0m\u001b[0;34m\u001b[0m\u001b[0m\n\u001b[1;32m   3198\u001b[0m     \u001b[0;32mtry\u001b[0m\u001b[0;34m:\u001b[0m\u001b[0;34m\u001b[0m\u001b[0;34m\u001b[0m\u001b[0m\n\u001b[0;32m-> 3199\u001b[0;31m       _result = pywrap_tfe.TFE_Py_FastPathExecute(\n\u001b[0m\u001b[1;32m   3200\u001b[0m         \u001b[0m_ctx\u001b[0m\u001b[0;34m,\u001b[0m \u001b[0;34m\"Equal\"\u001b[0m\u001b[0;34m,\u001b[0m \u001b[0mname\u001b[0m\u001b[0;34m,\u001b[0m \u001b[0mx\u001b[0m\u001b[0;34m,\u001b[0m \u001b[0my\u001b[0m\u001b[0;34m,\u001b[0m \u001b[0;34m\"incompatible_shape_error\"\u001b[0m\u001b[0;34m,\u001b[0m\u001b[0;34m\u001b[0m\u001b[0;34m\u001b[0m\u001b[0m\n\u001b[1;32m   3201\u001b[0m         incompatible_shape_error)\n",
      "\u001b[0;31mKeyboardInterrupt\u001b[0m: "
     ]
    }
   ],
   "source": [
    "# Accuracy 계산 함수\n",
    "def calculate_accuracy(tgt, pred):\n",
    "    # pred에서 가장 확률이 높은 단어의 인덱스\n",
    "    pred_ids = tf.argmax(pred, axis=-1)\n",
    "\n",
    "    # tgt와 pred_ids가 일치하는지 확인하고, 일치하는지 여부를 1과 0으로 반환\n",
    "    accuracy = tf.reduce_mean(tf.cast(tf.equal(tgt, pred_ids), dtype=tf.float32))\n",
    "    return accuracy\n",
    "\n",
    "# 평가 함수\n",
    "def evaluate_accuracy(encoder, decoder, enc_tensor, dec_tensor, BATCH_SIZE, enc_tokenizer, dec_tokenizer):\n",
    "    total_accuracy = 0\n",
    "    num_batches = enc_tensor.shape[0] // BATCH_SIZE\n",
    "\n",
    "    for batch in range(num_batches):\n",
    "        # 배치 데이터를 가져오기\n",
    "        src = enc_tensor[batch * BATCH_SIZE:(batch + 1) * BATCH_SIZE]\n",
    "        tgt = dec_tensor[batch * BATCH_SIZE:(batch + 1) * BATCH_SIZE]\n",
    "\n",
    "        enc_out = encoder(src)\n",
    "        h_dec = enc_out[:, -1]\n",
    "        \n",
    "        dec_src = tf.expand_dims([dec_tokenizer.word_index['<start>']] * BATCH_SIZE, 1)\n",
    "\n",
    "        batch_accuracy = 0\n",
    "\n",
    "        for t in range(1, tgt.shape[1]):\n",
    "            pred, h_dec, _ = decoder(dec_src, h_dec, enc_out)\n",
    "            batch_accuracy += calculate_accuracy(tgt[:, t], pred)\n",
    "            dec_src = tf.expand_dims(tgt[:, t], 1)\n",
    "\n",
    "        total_accuracy += batch_accuracy / int(tgt.shape[1])\n",
    "\n",
    "    # 배치 단위로 나눠 정확도의 평균을 반환\n",
    "    return total_accuracy / num_batches\n",
    "\n",
    "# 훈련이 끝난 후, 정확도 계산\n",
    "accuracy = evaluate_accuracy(encoder, decoder, enc_tensor, dec_tensor, BATCH_SIZE, enc_tokenizer, dec_tokenizer)\n",
    "print(f\"훈련 후 정확도: {accuracy.numpy():.4f}\")\n"
   ]
  },
  {
   "cell_type": "markdown",
   "id": "c67123d8",
   "metadata": {},
   "source": [
    "## 5. 평가하기"
   ]
  },
  {
   "cell_type": "code",
   "execution_count": 48,
   "id": "5a121c74",
   "metadata": {},
   "outputs": [
    {
     "name": "stdout",
     "output_type": "stream",
     "text": [
      "번역 1: the the the the the the the the the the the the the the the the the the the the the the the the the the the the the the the the the the the the the the the the\n"
     ]
    },
    {
     "name": "stderr",
     "output_type": "stream",
     "text": [
      "/tmp/ipykernel_125/37258848.py:47: UserWarning: FixedFormatter should only be used together with FixedLocator\n",
      "  ax.set_xticklabels([''] + sentence, fontdict=fontdict, rotation=90)\n",
      "/tmp/ipykernel_125/37258848.py:48: UserWarning: FixedFormatter should only be used together with FixedLocator\n",
      "  ax.set_yticklabels([''] + predicted_sentence, fontdict=fontdict)\n"
     ]
    },
    {
     "data": {
      "image/png": "[encoded data removed]",
      "text/plain": [
       "<Figure size 720x720 with 1 Axes>"
      ]
     },
     "metadata": {
      "needs_background": "light"
     },
     "output_type": "display_data"
    },
    {
     "name": "stdout",
     "output_type": "stream",
     "text": [
      "번역 2: the the the the the the the the the the the the the the the the the the the the the the the the the the the the the the the the the the the the the the the the\n"
     ]
    },
    {
     "data": {
      "image/png": "[encoded data removed]",
      "text/plain": [
       "<Figure size 720x720 with 1 Axes>"
      ]
     },
     "metadata": {
      "needs_background": "light"
     },
     "output_type": "display_data"
    },
    {
     "name": "stdout",
     "output_type": "stream",
     "text": [
      "번역 3: the the the the the the the the the the the the the the the the the the the the the the the the the the the the the the the the the the the the the the the the\n"
     ]
    },
    {
     "data": {
      "image/png": "[encoded data removed]",
      "text/plain": [
       "<Figure size 720x720 with 1 Axes>"
      ]
     },
     "metadata": {
      "needs_background": "light"
     },
     "output_type": "display_data"
    },
    {
     "name": "stdout",
     "output_type": "stream",
     "text": [
      "번역 4: the the the the the the the the the the the the the the the the the the the the the the the the the the the the the the the the the the the the the the the the\n"
     ]
    },
    {
     "data": {
      "image/png": "[encoded data removed]",
      "text/plain": [
       "<Figure size 720x720 with 1 Axes>"
      ]
     },
     "metadata": {
      "needs_background": "light"
     },
     "output_type": "display_data"
    }
   ],
   "source": [
    "import numpy as np\n",
    "import matplotlib.pyplot as plt\n",
    "\n",
    "def evaluate(sentence, encoder, decoder, enc_tokenizer, dec_tokenizer, max_length=40):\n",
    "    # 입력 문장을 전처리하고 토큰화\n",
    "    sentence = preprocess_sentence(sentence, s_token=False, e_token=False, lang='ko')\n",
    "    inputs = [enc_tokenizer.word_index.get(word, 1) for word in sentence]  # 1은 OOV 처리\n",
    "    inputs = tf.keras.preprocessing.sequence.pad_sequences([inputs], maxlen=max_length, padding='pre')\n",
    "    inputs = tf.convert_to_tensor(inputs)\n",
    "\n",
    "    # 인코더에 입력\n",
    "    enc_out = encoder(inputs)\n",
    "\n",
    "    # 디코더의 은닉 상태 초기화\n",
    "    h_dec = enc_out[:, -1]  # 인코더의 마지막 은닉 상태\n",
    "\n",
    "    dec_input = tf.expand_dims([dec_tokenizer.word_index['<start>']], 0)\n",
    "\n",
    "    result = ''\n",
    "    attention_plot = np.zeros((max_length, max_length))\n",
    "\n",
    "    # 디코더에서 문장 생성\n",
    "    for t in range(max_length):\n",
    "        predictions, h_dec, attention_weights = decoder(dec_input, h_dec, enc_out)\n",
    "\n",
    "        attention_weights = tf.reshape(attention_weights, (-1,))\n",
    "        attention_plot[t] = attention_weights.numpy()\n",
    "\n",
    "        predicted_id = tf.argmax(predictions[0]).numpy()\n",
    "\n",
    "        result += dec_tokenizer.index_word.get(predicted_id, '') + ' '\n",
    "\n",
    "        if dec_tokenizer.index_word[predicted_id] == '<end>':\n",
    "            break\n",
    "\n",
    "        dec_input = tf.expand_dims([predicted_id], 0)\n",
    "\n",
    "    return result.strip(), attention_plot\n",
    "\n",
    "def plot_attention(attention, sentence, predicted_sentence):\n",
    "    fig = plt.figure(figsize=(10, 10))\n",
    "    ax = fig.add_subplot(1, 1, 1)\n",
    "    ax.matshow(attention, cmap='viridis')\n",
    "\n",
    "    fontdict = {'fontsize': 14}\n",
    "\n",
    "    ax.set_xticklabels([''] + sentence, fontdict=fontdict, rotation=90)\n",
    "    ax.set_yticklabels([''] + predicted_sentence, fontdict=fontdict)\n",
    "\n",
    "    plt.show()\n",
    "\n",
    "# 예문을 번역\n",
    "korean_sentences = [\n",
    "    \"obama is the president.\",\n",
    "    \"시민들은 도시 속에 산다.\",\n",
    "    \"커피는 필요 없다.\",\n",
    "    \"일곱 명의 사망자가 발생했다.\"\n",
    "]\n",
    "\n",
    "for i, sentence in enumerate(korean_sentences):\n",
    "    result, attention_plot = evaluate(sentence, encoder, decoder, enc_tokenizer, dec_tokenizer)\n",
    "    print(f\"번역 {i+1}: {result}\")\n",
    "    plot_attention(attention_plot, sentence.split(), result.split())\n"
   ]
  },
  {
   "cell_type": "markdown",
   "id": "2686f21b",
   "metadata": {},
   "source": [
    "## 회고\n",
    "1. 보캡 사이즈를 줄여야 할까?\n",
    "2. "
   ]
  }
 ],
 "metadata": {
  "kernelspec": {
   "display_name": "Python 3 (ipykernel)",
   "language": "python",
   "name": "python3"
  },
  "language_info": {
   "codemirror_mode": {
    "name": "ipython",
    "version": 3
   },
   "file_extension": ".py",
   "mimetype": "text/x-python",
   "name": "python",
   "nbconvert_exporter": "python",
   "pygments_lexer": "ipython3",
   "version": "3.9.7"
  }
 },
 "nbformat": 4,
 "nbformat_minor": 5
}
